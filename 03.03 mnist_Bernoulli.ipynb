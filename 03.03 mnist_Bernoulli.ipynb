{
 "cells": [
  {
   "cell_type": "markdown",
   "metadata": {},
   "source": [
    "# MNIST classification\n",
    "\n",
    "- https://en.wikipedia.org/wiki/MNIST_database\n",
    "\n",
    "1. Naive-Bayes Classifier\n",
    "    - skip. Less interesting. Maybe later.\n",
    "2. Neural Netowrk\n",
    "    - mini-batch"
   ]
  },
  {
   "cell_type": "code",
   "execution_count": 1,
   "metadata": {},
   "outputs": [
    {
     "name": "stdout",
     "output_type": "stream",
     "text": [
      "numpy:  1.16.6\n",
      "sklearn:  0.22.2.post1\n"
     ]
    }
   ],
   "source": [
    "import numpy as np\n",
    "import torch\n",
    "import torch.nn as nn\n",
    "import torchvision.datasets\n",
    "import torchvision.transforms as transforms\n",
    "import matplotlib.pyplot as plt\n",
    "import sklearn\n",
    "\n",
    "print('numpy: ', np.__version__)\n",
    "print('sklearn: ', sklearn.__version__)"
   ]
  },
  {
   "cell_type": "markdown",
   "metadata": {},
   "source": [
    "## Dataset can be obtained directly from `torchvision`"
   ]
  },
  {
   "cell_type": "code",
   "execution_count": 2,
   "metadata": {},
   "outputs": [
    {
     "data": {
      "text/plain": [
       "(60000, 10000)"
      ]
     },
     "execution_count": 2,
     "metadata": {},
     "output_type": "execute_result"
    }
   ],
   "source": [
    "mnist_train = torchvision.datasets.MNIST(root='../data', train=True, download=True)\n",
    "mnist_test = torchvision.datasets.MNIST(root='../data', train=False, download=True)\n",
    "\n",
    "len(mnist_train), len(mnist_test)"
   ]
  },
  {
   "cell_type": "markdown",
   "metadata": {},
   "source": [
    "### Returned are PIL Image and target label"
   ]
  },
  {
   "cell_type": "code",
   "execution_count": 3,
   "metadata": {},
   "outputs": [
    {
     "name": "stdout",
     "output_type": "stream",
     "text": [
      "<PIL.Image.Image image mode=L size=28x28 at 0x1FBB58F4AC8> 5\n"
     ]
    },
    {
     "data": {
      "image/png": "[encoded data removed]",
      "text/plain": [
       "<Figure size 432x288 with 1 Axes>"
      ]
     },
     "metadata": {
      "needs_background": "light"
     },
     "output_type": "display_data"
    }
   ],
   "source": [
    "im, label = mnist_train[0]\n",
    "plt.imshow(im, cmap='gray')\n",
    "print(im, label)"
   ]
  },
  {
   "cell_type": "markdown",
   "metadata": {},
   "source": [
    "### Convert to Tensor and A Custom torchvision.transformation for Binarization"
   ]
  },
  {
   "cell_type": "code",
   "execution_count": 4,
   "metadata": {},
   "outputs": [
    {
     "name": "stdout",
     "output_type": "stream",
     "text": [
      "Downloading http://yann.lecun.com/exdb/mnist/train-images-idx3-ubyte.gz to ./data\\MNIST\\raw\\train-images-idx3-ubyte.gz\n"
     ]
    },
    {
     "data": {
      "application/vnd.jupyter.widget-view+json": {
       "model_id": "85c796d07271400f9a164fb9f2747500",
       "version_major": 2,
       "version_minor": 0
      },
      "text/plain": [
       "HBox(children=(FloatProgress(value=1.0, bar_style='info', max=1.0), HTML(value='')))"
      ]
     },
     "metadata": {},
     "output_type": "display_data"
    },
    {
     "name": "stdout",
     "output_type": "stream",
     "text": [
      "Extracting ./data\\MNIST\\raw\\train-images-idx3-ubyte.gz to ./data\\MNIST\\raw\n",
      "Downloading http://yann.lecun.com/exdb/mnist/train-labels-idx1-ubyte.gz to ./data\\MNIST\\raw\\train-labels-idx1-ubyte.gz\n"
     ]
    },
    {
     "data": {
      "application/vnd.jupyter.widget-view+json": {
       "model_id": "b9a894dd94154d22be639ad7335402d2",
       "version_major": 2,
       "version_minor": 0
      },
      "text/plain": [
       "HBox(children=(FloatProgress(value=1.0, bar_style='info', max=1.0), HTML(value='')))"
      ]
     },
     "metadata": {},
     "output_type": "display_data"
    },
    {
     "name": "stdout",
     "output_type": "stream",
     "text": [
      "Extracting ./data\\MNIST\\raw\\train-labels-idx1-ubyte.gz to ./data\\MNIST\\raw\n",
      "Downloading http://yann.lecun.com/exdb/mnist/t10k-images-idx3-ubyte.gz to ./data\\MNIST\\raw\\t10k-images-idx3-ubyte.gz\n"
     ]
    },
    {
     "data": {
      "application/vnd.jupyter.widget-view+json": {
       "model_id": "e04025d82f3d40b48625612b3c957711",
       "version_major": 2,
       "version_minor": 0
      },
      "text/plain": [
       "HBox(children=(FloatProgress(value=1.0, bar_style='info', max=1.0), HTML(value='')))"
      ]
     },
     "metadata": {},
     "output_type": "display_data"
    },
    {
     "name": "stdout",
     "output_type": "stream",
     "text": [
      "Extracting ./data\\MNIST\\raw\\t10k-images-idx3-ubyte.gz to ./data\\MNIST\\raw\n",
      "Downloading http://yann.lecun.com/exdb/mnist/t10k-labels-idx1-ubyte.gz to ./data\\MNIST\\raw\\t10k-labels-idx1-ubyte.gz\n"
     ]
    },
    {
     "data": {
      "application/vnd.jupyter.widget-view+json": {
       "model_id": "ee87d23337744a83a44dbc25e9f0a212",
       "version_major": 2,
       "version_minor": 0
      },
      "text/plain": [
       "HBox(children=(FloatProgress(value=1.0, bar_style='info', max=1.0), HTML(value='')))"
      ]
     },
     "metadata": {},
     "output_type": "display_data"
    },
    {
     "name": "stdout",
     "output_type": "stream",
     "text": [
      "Extracting ./data\\MNIST\\raw\\t10k-labels-idx1-ubyte.gz to ./data\\MNIST\\raw\n",
      "Processing...\n",
      "Done!\n"
     ]
    }
   ],
   "source": [
    "class MyBinarization:\n",
    "    \"\"\" convert a gray scale tensor [0, 1] to binary tensor of {0., 1.}\"\"\"\n",
    "    def __init__(self, threshold=0.5):\n",
    "        self.threshold=threshold\n",
    "        \n",
    "    def __call__(self, im):\n",
    "        bright = im > self.threshold\n",
    "        im[bright] = 1.\n",
    "        im[~bright] = 0.\n",
    "        return im\n",
    "\n",
    "data_transform = torchvision.transforms.Compose([#transforms.Grayscale(), \n",
    "                                     torchvision.transforms.ToTensor(),\n",
    "                                     torchvision.transforms.Lambda(lambda im: (im>0.5).float()), # another way to do binarizaiton\n",
    "                                     #MyBinarization() ,\n",
    "                                     torchvision.transforms.Lambda(lambda im: im.reshape(-1)) # \n",
    "                                    ])\n",
    "\n",
    "mnist_train = torchvision.datasets.MNIST(root='./data', train=True, download=True, transform=data_transform)\n",
    "mnist_test  = torchvision.datasets.MNIST(root='./data', train=False, download=True, transform=data_transform)"
   ]
  },
  {
   "cell_type": "code",
   "execution_count": 5,
   "metadata": {},
   "outputs": [
    {
     "name": "stdout",
     "output_type": "stream",
     "text": [
      "\n"
     ]
    },
    {
     "data": {
      "text/plain": [
       "(torch.Size([784]), torch.float32, 5, array([0., 1.], dtype=float32), int, 784)"
      ]
     },
     "execution_count": 5,
     "metadata": {},
     "output_type": "execute_result"
    },
    {
     "data": {
      "image/png": "[encoded data removed]",
      "text/plain": [
       "<Figure size 432x288 with 1 Axes>"
      ]
     },
     "metadata": {
      "needs_background": "light"
     },
     "output_type": "display_data"
    }
   ],
   "source": [
    "im, label = mnist_train[0]\n",
    "plt.imshow(im.reshape(28,28), cmap='gray')\n",
    "im.shape, im.dtype, label, np.unique(im), type(label), 28*28"
   ]
  },
  {
   "cell_type": "markdown",
   "metadata": {},
   "source": [
    "## Tensor --> Numpy"
   ]
  },
  {
   "cell_type": "code",
   "execution_count": 6,
   "metadata": {},
   "outputs": [],
   "source": [
    "def get_mnist_data(ds):\n",
    "    x = np.empty((len(ds), 784))\n",
    "    y = np.empty(len(ds),dtype=np.int64)\n",
    "    for i in range(x.shape[0]):\n",
    "        x[i,:], y[i] = ds[i]\n",
    "    return x, y"
   ]
  },
  {
   "cell_type": "code",
   "execution_count": 7,
   "metadata": {},
   "outputs": [
    {
     "name": "stdout",
     "output_type": "stream",
     "text": [
      "Wall time: 6.68 s\n"
     ]
    }
   ],
   "source": [
    "%%time\n",
    "Xtrain, ytrain = get_mnist_data(mnist_train)\n",
    "Xtest,  ytest  = get_mnist_data(mnist_test)"
   ]
  },
  {
   "cell_type": "markdown",
   "metadata": {},
   "source": [
    "## Bernoulli Naive Bayes\n",
    "- https://github.com/dsgiitr/d2l-pytorch/blob/master/Ch04_The_Preliminaries_A_Crashcourse/Naive_Bayes_Classification.ipynb"
   ]
  },
  {
   "cell_type": "code",
   "execution_count": 8,
   "metadata": {},
   "outputs": [],
   "source": [
    "# The count is 1 by default for numerical stabilization to automatically deal with 0-count cases.\n",
    "\n",
    "xcount = torch.ones((im.reshape(-1).shape[0],10)).float()\n",
    "ycount = torch.ones((10))\n",
    "\n",
    "for im, label in mnist_train:\n",
    "    xcount[:,label] += im.reshape(-1)\n",
    "    ycount[label] += 1\n",
    "#"
   ]
  },
  {
   "cell_type": "code",
   "execution_count": 9,
   "metadata": {},
   "outputs": [],
   "source": [
    "py = ycount / ycount.sum()\n",
    "px = xcount / ycount.unsqueeze(0) # each row is divided by ycount"
   ]
  },
  {
   "cell_type": "markdown",
   "metadata": {},
   "source": [
    "- For example, px[300,:] shows the Bernoulli probability at the location 300 for the class labels.\n",
    "- px[300,**k**] is the probability of being a bright pixel at the location 300 provided the class is **k**"
   ]
  },
  {
   "cell_type": "code",
   "execution_count": 10,
   "metadata": {},
   "outputs": [
    {
     "data": {
      "text/plain": [
       "tensor([0.6437, 0.0114, 0.3167, 0.1797, 0.3377, 0.1046, 0.0781, 0.4349, 0.4508,\n",
       "        0.3057])"
      ]
     },
     "execution_count": 10,
     "metadata": {},
     "output_type": "execute_result"
    }
   ],
   "source": [
    "px[300,:]"
   ]
  },
  {
   "cell_type": "code",
   "execution_count": 11,
   "metadata": {},
   "outputs": [
    {
     "data": {
      "text/plain": [
       "tensor([0.0987, 0.1124, 0.0993, 0.1022, 0.0974, 0.0904, 0.0986, 0.1044, 0.0975,\n",
       "        0.0992])"
      ]
     },
     "execution_count": 11,
     "metadata": {},
     "output_type": "execute_result"
    }
   ],
   "source": [
    "py"
   ]
  },
  {
   "cell_type": "code",
   "execution_count": 12,
   "metadata": {},
   "outputs": [
    {
     "name": "stdout",
     "output_type": "stream",
     "text": [
      "Class Conditional Probabilities: \n"
     ]
    },
    {
     "data": {
      "image/png": "[encoded data removed]",
      "text/plain": [
       "<Figure size 1080x720 with 10 Axes>"
      ]
     },
     "metadata": {
      "needs_background": "light"
     },
     "output_type": "display_data"
    },
    {
     "name": "stdout",
     "output_type": "stream",
     "text": [
      "Class Prior Probabilities:\n",
      "  tensor([0.0987, 0.1124, 0.0993, 0.1022, 0.0974, 0.0904, 0.0986, 0.1044, 0.0975,\n",
      "        0.0992])\n"
     ]
    }
   ],
   "source": [
    "fig, axes = plt.subplots(1,10, figsize=(15,10))\n",
    "print('Class Conditional Probabilities: ')\n",
    "for i in range(10):\n",
    "    axes[i].imshow(px[:,i].reshape(28,28).numpy(), cmap='hot')\n",
    "    axes[i].axes.get_xaxis().set_visible(False)\n",
    "    axes[i].axes.get_yaxis().set_visible(False)\n",
    "plt.show()\n",
    "print('Class Prior Probabilities:\\n ', py)"
   ]
  },
  {
   "cell_type": "markdown",
   "metadata": {},
   "source": [
    "* Notice that the images are well aligned within classes."
   ]
  },
  {
   "cell_type": "code",
   "execution_count": 13,
   "metadata": {},
   "outputs": [
    {
     "data": {
      "text/plain": [
       "(array([0, 1, 2, 3, 4, 5, 6, 7, 8, 9], dtype=int64),\n",
       " array([5923, 6742, 5958, 6131, 5842, 5421, 5918, 6265, 5851, 5949],\n",
       "       dtype=int64))"
      ]
     },
     "execution_count": 13,
     "metadata": {},
     "output_type": "execute_result"
    }
   ],
   "source": [
    "np.unique(mnist_train.targets, return_counts=True)"
   ]
  },
  {
   "cell_type": "markdown",
   "metadata": {},
   "source": [
    "## Now let's make a random sample of a number."
   ]
  },
  {
   "cell_type": "code",
   "execution_count": 14,
   "metadata": {},
   "outputs": [],
   "source": [
    "def sample(n, px):\n",
    "    probs = px[:,n] # Bernoulli probability for each pixel, the probability that a sample has 1 as the outcome.\n",
    "    qrobs = 1 - probs # the probability that a sample has 0 as the outcome\n",
    "#     print(probs.shape)\n",
    "    result = torch.empty_like(probs)\n",
    "    for i in range(probs.shape[0]):\n",
    "        r = torch.rand(1)\n",
    "        if r < qrobs[i]:\n",
    "            result[i] = 0.\n",
    "        else:\n",
    "            result[i] = 1.\n",
    "    return result"
   ]
  },
  {
   "cell_type": "code",
   "execution_count": 15,
   "metadata": {},
   "outputs": [],
   "source": [
    "def plot_samples(sample_number=0, n_imgs=10, nrows=3):\n",
    "    fig, axes = plt.subplots(nrows, n_imgs, figsize=(15,4))\n",
    "    for i, ax in enumerate(axes.flatten()):\n",
    "        if i == 0:\n",
    "            ax.imshow(px[:,sample_number].reshape(28,28), cmap='gray')\n",
    "        else:\n",
    "            s = sample(sample_number, px)\n",
    "            ax.imshow(s.numpy().reshape(28,28), cmap='gray');\n",
    "        ax.set_xticks([])\n",
    "        ax.set_yticks([])"
   ]
  },
  {
   "cell_type": "code",
   "execution_count": 16,
   "metadata": {},
   "outputs": [
    {
     "data": {
      "image/png": "[encoded data removed]",
      "text/plain": [
       "<Figure size 1080x288 with 120 Axes>"
      ]
     },
     "metadata": {},
     "output_type": "display_data"
    }
   ],
   "source": [
    "plot_samples(0, 20, 6)"
   ]
  },
  {
   "cell_type": "code",
   "execution_count": 17,
   "metadata": {},
   "outputs": [
    {
     "data": {
      "image/png": "[encoded data removed]",
      "text/plain": [
       "<Figure size 1080x288 with 30 Axes>"
      ]
     },
     "metadata": {},
     "output_type": "display_data"
    }
   ],
   "source": [
    "plot_samples(1)"
   ]
  },
  {
   "cell_type": "code",
   "execution_count": 18,
   "metadata": {},
   "outputs": [
    {
     "data": {
      "image/png": "[encoded data removed]",
      "text/plain": [
       "<Figure size 1080x288 with 30 Axes>"
      ]
     },
     "metadata": {},
     "output_type": "display_data"
    }
   ],
   "source": [
    "plot_samples(2)"
   ]
  },
  {
   "cell_type": "code",
   "execution_count": 19,
   "metadata": {},
   "outputs": [
    {
     "data": {
      "image/png": "[encoded data removed]",
      "text/plain": [
       "<Figure size 1080x288 with 30 Axes>"
      ]
     },
     "metadata": {},
     "output_type": "display_data"
    }
   ],
   "source": [
    "plot_samples(3)"
   ]
  },
  {
   "cell_type": "code",
   "execution_count": 20,
   "metadata": {},
   "outputs": [
    {
     "data": {
      "image/png": "[encoded data removed]",
      "text/plain": [
       "<Figure size 1080x288 with 30 Axes>"
      ]
     },
     "metadata": {},
     "output_type": "display_data"
    }
   ],
   "source": [
    "plot_samples(4)"
   ]
  },
  {
   "cell_type": "code",
   "execution_count": 21,
   "metadata": {},
   "outputs": [
    {
     "data": {
      "image/png": "[encoded data removed]",
      "text/plain": [
       "<Figure size 1080x288 with 30 Axes>"
      ]
     },
     "metadata": {},
     "output_type": "display_data"
    }
   ],
   "source": [
    "plot_samples(5)"
   ]
  },
  {
   "cell_type": "code",
   "execution_count": 22,
   "metadata": {},
   "outputs": [
    {
     "data": {
      "image/png": "[encoded data removed]",
      "text/plain": [
       "<Figure size 1080x288 with 30 Axes>"
      ]
     },
     "metadata": {},
     "output_type": "display_data"
    }
   ],
   "source": [
    "plot_samples(6)"
   ]
  },
  {
   "cell_type": "code",
   "execution_count": 23,
   "metadata": {},
   "outputs": [
    {
     "data": {
      "image/png": "[encoded data removed]",
      "text/plain": [
       "<Figure size 1080x288 with 30 Axes>"
      ]
     },
     "metadata": {},
     "output_type": "display_data"
    }
   ],
   "source": [
    "plot_samples(7)"
   ]
  },
  {
   "cell_type": "code",
   "execution_count": 24,
   "metadata": {},
   "outputs": [
    {
     "data": {
      "image/png": "[encoded data removed]",
      "text/plain": [
       "<Figure size 1080x288 with 30 Axes>"
      ]
     },
     "metadata": {},
     "output_type": "display_data"
    }
   ],
   "source": [
    "plot_samples(8)"
   ]
  },
  {
   "cell_type": "code",
   "execution_count": 25,
   "metadata": {},
   "outputs": [
    {
     "data": {
      "image/png": "[encoded data removed]",
      "text/plain": [
       "<Figure size 1080x288 with 30 Axes>"
      ]
     },
     "metadata": {},
     "output_type": "display_data"
    }
   ],
   "source": [
    "plot_samples(9)"
   ]
  },
  {
   "cell_type": "markdown",
   "metadata": {},
   "source": [
    "## Summary\n",
    "- Pixel-wise independent assumption leads to Bernoulli distribution.\n",
    "- Probability can be easily computed.\n",
    "- The samples from Bernoulli model are weird."
   ]
  },
  {
   "cell_type": "markdown",
   "metadata": {},
   "source": [
    "## Bernoulli Naive Bayes\n",
    "\n",
    "$$\n",
    "    \\begin{align}\n",
    "        P(Y=0|X=x) = \\frac{P(x|Y=0)P(Y=0)}{\\sum_k P(x|Y=k)P(Y=k)}\n",
    "    \\end{align}\n",
    "$$"
   ]
  },
  {
   "cell_type": "raw",
   "metadata": {},
   "source": [
    "%%time\n",
    "\n",
    "def log_likeli(x, y): # P(x | Y=y)\n",
    "    prob = px[:,y]\n",
    "    log_sum = 0\n",
    "    for i in range(prob.shape[0]): # for each pixel\n",
    "        if x[i] > 0: # x[i] == 1\n",
    "            log_sum += np.log(prob[i])\n",
    "        else:        # x[i] == 0\n",
    "            log_sum += np.log(1-prob[i])\n",
    "    return log_sum\n",
    "#\n",
    "def log_P(y):\n",
    "    return np.log(py[y])\n",
    "#\n",
    "\n",
    "n_correct = 0\n",
    "for tensor, label in mnist_test:\n",
    "    x = tensor.numpy()\n",
    "    log_posterior = np.zeros(10)\n",
    "    for y in range(10):\n",
    "        log_posterior[y] = log_likeli(x, y) + log_P(y)  # P(Y=y|X=x)\n",
    "    #\n",
    "    pred_label = np.argmax(log_posterior)\n",
    "#     print(log_posterior, pred_label)\n",
    "    \n",
    "    if pred_label == label:\n",
    "        n_correct += 1\n",
    "#     break\n",
    "print('accuracy: ', n_correct/len(mnist_test))"
   ]
  },
  {
   "cell_type": "code",
   "execution_count": 60,
   "metadata": {},
   "outputs": [
    {
     "name": "stdout",
     "output_type": "stream",
     "text": [
      "accuracy:  0.8426\n",
      "Wall time: 1.96 s\n"
     ]
    }
   ],
   "source": [
    "%%time\n",
    "\n",
    "log_px = np.log(px.numpy())\n",
    "log_qx = np.log(1-px.numpy())\n",
    "log_py = np.log(py.numpy())\n",
    "\n",
    "def log_likeli(x,y):\n",
    "    m = x*log_px[:,y] + (1.-x)*log_qx[:,y]\n",
    "    return m.sum()\n",
    "\n",
    "def log_P(y):\n",
    "    return log_py[y]\n",
    "\n",
    "n_correct = 0\n",
    "for tensor, label in mnist_test:\n",
    "    x = tensor.numpy()\n",
    "    log_posterior = np.zeros(10)\n",
    "    for y in range(10):\n",
    "        log_posterior[y] = log_likeli(x, y) + log_P(y)  # P(Y=y|X=x)\n",
    "    #\n",
    "    log_posterior -= log_posterior.sum()  # <-- this line is not necessary for argmax() operation\n",
    "    pred_label = np.argmax(log_posterior)\n",
    "#     print(log_posterior, pred_label)\n",
    "    \n",
    "    if pred_label == label:\n",
    "        n_correct += 1\n",
    "#     break\n",
    "print('accuracy: ', n_correct/len(mnist_test))"
   ]
  },
  {
   "cell_type": "code",
   "execution_count": 61,
   "metadata": {},
   "outputs": [
    {
     "name": "stdout",
     "output_type": "stream",
     "text": [
      "accuracy:  0.8426\n",
      "Wall time: 1.12 s\n"
     ]
    }
   ],
   "source": [
    "%%time\n",
    "\n",
    "log_px = np.log(px.numpy())\n",
    "log_qx = np.log(1. - px.numpy())\n",
    "log_py = np.log(py.numpy())\n",
    "\n",
    "n_correct = 0\n",
    "for tensor, label in mnist_test:\n",
    "    x = tensor.numpy()\n",
    "    log_posterior = np.dot(log_px.T, x) + np.dot(log_qx.T, 1. - x) + log_py\n",
    "    log_posterior -= log_posterior.sum()\n",
    "    pred_label = np.argmax(log_posterior)\n",
    "    \n",
    "    if pred_label == label:\n",
    "         n_correct += 1\n",
    "#\n",
    "print('accuracy: ', n_correct/len(mnist_test))"
   ]
  },
  {
   "cell_type": "code",
   "execution_count": 62,
   "metadata": {},
   "outputs": [],
   "source": [
    "def get_predict(testdataset):\n",
    "    pred_label = []\n",
    "    for  tensor, label in testdataset:\n",
    "        x = tensor.numpy()\n",
    "        log_posterior = np.dot(log_px.T, x) + np.dot(log_qx.T, 1. - x) + log_py\n",
    "        log_posterior -= log_posterior.sum()\n",
    "        pred_label.append( np.argmax(log_posterior) )\n",
    "        \n",
    "    return np.array(pred_label)"
   ]
  },
  {
   "cell_type": "code",
   "execution_count": 63,
   "metadata": {},
   "outputs": [
    {
     "data": {
      "text/plain": [
       "array([7, 2, 1, 0, 4, 1, 4, 9, 4, 9], dtype=int64)"
      ]
     },
     "execution_count": 63,
     "metadata": {},
     "output_type": "execute_result"
    }
   ],
   "source": [
    "my_pred = get_predict(mnist_test)\n",
    "my_pred[:10]"
   ]
  },
  {
   "cell_type": "code",
   "execution_count": 64,
   "metadata": {},
   "outputs": [
    {
     "data": {
      "text/plain": [
       "8426"
      ]
     },
     "execution_count": 64,
     "metadata": {},
     "output_type": "execute_result"
    }
   ],
   "source": [
    "sum(my_pred == ytest)"
   ]
  },
  {
   "cell_type": "markdown",
   "metadata": {},
   "source": [
    "---\n",
    "## sklearn \n",
    "- https://scikit-learn.org/stable/modules/generated/sklearn.naive_bayes.BernoulliNB.html?highlight=bernoullinb"
   ]
  },
  {
   "cell_type": "code",
   "execution_count": 28,
   "metadata": {},
   "outputs": [
    {
     "data": {
      "image/png": "[encoded data removed]",
      "text/plain": [
       "<Figure size 432x288 with 1 Axes>"
      ]
     },
     "metadata": {
      "needs_background": "light"
     },
     "output_type": "display_data"
    }
   ],
   "source": [
    "plt.imshow(Xtrain[0].reshape(28,28))\n",
    "plt.title(f'{ytrain[0]}');"
   ]
  },
  {
   "cell_type": "code",
   "execution_count": 86,
   "metadata": {},
   "outputs": [
    {
     "name": "stdout",
     "output_type": "stream",
     "text": [
      "Wall time: 604 ms\n"
     ]
    },
    {
     "data": {
      "text/plain": [
       "0.8427"
      ]
     },
     "execution_count": 86,
     "metadata": {},
     "output_type": "execute_result"
    }
   ],
   "source": [
    "%%time\n",
    "from sklearn.naive_bayes import BernoulliNB\n",
    "\n",
    "bnb = BernoulliNB(binarize=0.5, alpha=1)\n",
    "bnb.fit(Xtrain, ytrain)\n",
    "bnb.score(Xtest, ytest)"
   ]
  },
  {
   "cell_type": "code",
   "execution_count": 83,
   "metadata": {},
   "outputs": [
    {
     "data": {
      "text/plain": [
       "array([-2.31550148, -2.18598795, -2.30960971, -2.28098669, -2.32927136,\n",
       "       -2.40406426, -2.31634601, -2.25936597, -2.32773198, -2.31112142])"
      ]
     },
     "execution_count": 83,
     "metadata": {},
     "output_type": "execute_result"
    }
   ],
   "source": [
    "bnb.class_log_prior_"
   ]
  },
  {
   "cell_type": "code",
   "execution_count": 84,
   "metadata": {},
   "outputs": [
    {
     "data": {
      "text/plain": [
       "array([-2.3154993, -2.1860063, -2.3096085, -2.2809904, -2.3292668,\n",
       "       -2.4040465, -2.3163438, -2.259373 , -2.3277278, -2.31112  ],\n",
       "      dtype=float32)"
      ]
     },
     "execution_count": 84,
     "metadata": {},
     "output_type": "execute_result"
    }
   ],
   "source": [
    "log_py"
   ]
  },
  {
   "cell_type": "code",
   "execution_count": 85,
   "metadata": {},
   "outputs": [
    {
     "data": {
      "text/plain": [
       "(10, 784)"
      ]
     },
     "execution_count": 85,
     "metadata": {},
     "output_type": "execute_result"
    }
   ],
   "source": [
    "bnb.feature_log_prob_.shape"
   ]
  },
  {
   "cell_type": "code",
   "execution_count": 33,
   "metadata": {},
   "outputs": [
    {
     "name": "stdout",
     "output_type": "stream",
     "text": [
      "Class Conditional log-Probabilities: \n"
     ]
    },
    {
     "data": {
      "image/png": "[encoded data removed]",
      "text/plain": [
       "<Figure size 1080x720 with 10 Axes>"
      ]
     },
     "metadata": {
      "needs_background": "light"
     },
     "output_type": "display_data"
    }
   ],
   "source": [
    "fig, axes = plt.subplots(1,10, figsize=(15,10))\n",
    "print('Class Conditional log-Probabilities: ')\n",
    "for i in range(10):\n",
    "    axes[i].imshow(bnb.feature_log_prob_[i].reshape(28,28), cmap='hot')\n",
    "    axes[i].axes.get_xaxis().set_visible(False)\n",
    "    axes[i].axes.get_yaxis().set_visible(False)\n",
    "plt.show()"
   ]
  },
  {
   "cell_type": "code",
   "execution_count": 34,
   "metadata": {},
   "outputs": [
    {
     "name": "stdout",
     "output_type": "stream",
     "text": [
      "Class Conditional log-Probabilities: \n"
     ]
    },
    {
     "data": {
      "image/png": "[encoded data removed]",
      "text/plain": [
       "<Figure size 1080x720 with 10 Axes>"
      ]
     },
     "metadata": {
      "needs_background": "light"
     },
     "output_type": "display_data"
    }
   ],
   "source": [
    "fig, axes = plt.subplots(1,10, figsize=(15,10))\n",
    "print('Class Conditional log-Probabilities: ')\n",
    "for i in range(10):\n",
    "    axes[i].imshow(np.exp(bnb.feature_log_prob_[i]).reshape(28,28), cmap='hot')\n",
    "    axes[i].axes.get_xaxis().set_visible(False)\n",
    "    axes[i].axes.get_yaxis().set_visible(False)\n",
    "plt.show()"
   ]
  },
  {
   "cell_type": "code",
   "execution_count": 35,
   "metadata": {},
   "outputs": [],
   "source": [
    "pred_y = bnb.predict(Xtest)"
   ]
  },
  {
   "cell_type": "code",
   "execution_count": 36,
   "metadata": {},
   "outputs": [
    {
     "data": {
      "text/plain": [
       "8427"
      ]
     },
     "execution_count": 36,
     "metadata": {},
     "output_type": "execute_result"
    }
   ],
   "source": [
    "(pred_y == ytest).sum()"
   ]
  },
  {
   "cell_type": "markdown",
   "metadata": {},
   "source": [
    "---\n",
    "End."
   ]
  },
  {
   "cell_type": "code",
   "execution_count": 65,
   "metadata": {},
   "outputs": [
    {
     "name": "stdout",
     "output_type": "stream",
     "text": [
      "The index corresponding to discrepency:  2362\n"
     ]
    },
    {
     "data": {
      "text/plain": [
       "[<matplotlib.lines.Line2D at 0x1fbb815fec8>]"
      ]
     },
     "execution_count": 65,
     "metadata": {},
     "output_type": "execute_result"
    },
    {
     "data": {
      "image/png": "[encoded data removed]",
      "text/plain": [
       "<Figure size 432x288 with 1 Axes>"
      ]
     },
     "metadata": {
      "needs_background": "light"
     },
     "output_type": "display_data"
    }
   ],
   "source": [
    "comp = my_pred == pred_y\n",
    "idx = np.argmin(comp)\n",
    "print('The index corresponding to discrepency: ', idx)\n",
    "plt.plot(comp)"
   ]
  },
  {
   "cell_type": "code",
   "execution_count": 66,
   "metadata": {},
   "outputs": [
    {
     "name": "stdout",
     "output_type": "stream",
     "text": [
      "log_post=[1860.2184 2008.5162 1957.6809 1960.9628 1929.108  1956.4177 1878.6659\n",
      " 1921.0297 2008.5157 1942.1438]  pred=1\n"
     ]
    }
   ],
   "source": [
    "tensor, label = mnist_test[idx]\n",
    "x = tensor.numpy()\n",
    "log_posterior = np.dot(log_px.T, x) + np.dot(log_qx.T, 1. - x) + log_py\n",
    "log_posterior -= log_posterior.sum()\n",
    "pred_label = np.argmax(log_posterior)\n",
    "print(f'log_post={log_posterior}  pred={pred_label}')"
   ]
  },
  {
   "cell_type": "code",
   "execution_count": 59,
   "metadata": {},
   "outputs": [
    {
     "data": {
      "text/plain": [
       "(array([8], dtype=int64),\n",
       " array([[-148.96568875,   -0.69870736,  -51.51924047,  -48.23734944,\n",
       "          -80.09191495,  -52.7853669 , -130.52846675,  -88.17313307,\n",
       "           -0.68761775,  -67.0575274 ]]))"
      ]
     },
     "execution_count": 59,
     "metadata": {},
     "output_type": "execute_result"
    }
   ],
   "source": [
    "bnb.predict(Xtest[idx:idx+1]), bnb.predict_log_proba(Xtest[idx:idx+1])"
   ]
  },
  {
   "cell_type": "code",
   "execution_count": null,
   "metadata": {},
   "outputs": [],
   "source": []
  },
  {
   "cell_type": "code",
   "execution_count": null,
   "metadata": {},
   "outputs": [],
   "source": []
  },
  {
   "cell_type": "code",
   "execution_count": 67,
   "metadata": {},
   "outputs": [
    {
     "data": {
      "text/plain": [
       "array([-2.31550148, -2.18598795, -2.30960971, -2.28098669, -2.32927136,\n",
       "       -2.40406426, -2.31634601, -2.25936597, -2.32773198, -2.31112142])"
      ]
     },
     "execution_count": 67,
     "metadata": {},
     "output_type": "execute_result"
    }
   ],
   "source": [
    "bnb.class_log_prior_"
   ]
  },
  {
   "cell_type": "code",
   "execution_count": 68,
   "metadata": {},
   "outputs": [
    {
     "data": {
      "text/plain": [
       "array([-2.3154993, -2.1860063, -2.3096085, -2.2809904, -2.3292668,\n",
       "       -2.4040465, -2.3163438, -2.259373 , -2.3277278, -2.31112  ],\n",
       "      dtype=float32)"
      ]
     },
     "execution_count": 68,
     "metadata": {},
     "output_type": "execute_result"
    }
   ],
   "source": [
    "log_py"
   ]
  },
  {
   "cell_type": "code",
   "execution_count": 69,
   "metadata": {},
   "outputs": [
    {
     "data": {
      "text/plain": [
       "array([-2.17920218e-06,  1.83621917e-05, -1.24845835e-06,  3.66872581e-06,\n",
       "       -4.57168123e-06, -1.77264520e-05, -2.22391181e-06,  6.97572615e-06,\n",
       "       -4.18076879e-06, -1.39075217e-06])"
      ]
     },
     "execution_count": 69,
     "metadata": {},
     "output_type": "execute_result"
    }
   ],
   "source": [
    "bnb.class_log_prior_ - log_py"
   ]
  },
  {
   "cell_type": "code",
   "execution_count": 72,
   "metadata": {},
   "outputs": [
    {
     "data": {
      "text/plain": [
       "((10, 784), array([[-8.68693597, -8.68693597, -8.68693597, ..., -8.68693597,\n",
       "         -8.68693597, -8.68693597],\n",
       "        [-8.8164085 , -8.8164085 , -8.8164085 , ..., -8.8164085 ,\n",
       "         -8.8164085 , -8.8164085 ],\n",
       "        [-8.69282576, -8.69282576, -8.69282576, ..., -8.69282576,\n",
       "         -8.69282576, -8.69282576],\n",
       "        ...,\n",
       "        [-8.74305305, -8.74305305, -8.74305305, ..., -8.74305305,\n",
       "         -8.74305305, -8.74305305],\n",
       "        [-8.67470963, -8.67470963, -8.67470963, ..., -8.67470963,\n",
       "         -8.67470963, -8.67470963],\n",
       "        [-8.69131455, -8.69131455, -8.69131455, ..., -8.69131455,\n",
       "         -8.69131455, -8.69131455]]))"
      ]
     },
     "execution_count": 72,
     "metadata": {},
     "output_type": "execute_result"
    }
   ],
   "source": [
    "bnb.coef_.shape, bnb.coef_"
   ]
  },
  {
   "cell_type": "code",
   "execution_count": 73,
   "metadata": {},
   "outputs": [
    {
     "data": {
      "text/plain": [
       "array([[-8.686768, -8.81626 , -8.692658, ..., -8.742893, -8.674539,\n",
       "        -8.691147],\n",
       "       [-8.686768, -8.81626 , -8.692658, ..., -8.742893, -8.674539,\n",
       "        -8.691147],\n",
       "       [-8.686768, -8.81626 , -8.692658, ..., -8.742893, -8.674539,\n",
       "        -8.691147],\n",
       "       ...,\n",
       "       [-8.686768, -8.81626 , -8.692658, ..., -8.742893, -8.674539,\n",
       "        -8.691147],\n",
       "       [-8.686768, -8.81626 , -8.692658, ..., -8.742893, -8.674539,\n",
       "        -8.691147],\n",
       "       [-8.686768, -8.81626 , -8.692658, ..., -8.742893, -8.674539,\n",
       "        -8.691147]], dtype=float32)"
      ]
     },
     "execution_count": 73,
     "metadata": {},
     "output_type": "execute_result"
    }
   ],
   "source": [
    "log_px"
   ]
  },
  {
   "cell_type": "code",
   "execution_count": 76,
   "metadata": {},
   "outputs": [
    {
     "data": {
      "text/plain": [
       "(0.00014807390053839242, 0.00018464057747102913)"
      ]
     },
     "execution_count": 76,
     "metadata": {},
     "output_type": "execute_result"
    }
   ],
   "source": [
    "diff = log_px.T - bnb.coef_\n",
    "diff.min(), diff.max()"
   ]
  },
  {
   "cell_type": "code",
   "execution_count": 77,
   "metadata": {},
   "outputs": [
    {
     "data": {
      "text/plain": [
       "(784,)"
      ]
     },
     "execution_count": 77,
     "metadata": {},
     "output_type": "execute_result"
    }
   ],
   "source": [
    "x = Xtest[idx]\n",
    "x.shape"
   ]
  },
  {
   "cell_type": "code",
   "execution_count": 80,
   "metadata": {},
   "outputs": [
    {
     "data": {
      "text/plain": [
       "array([-295.6059271 , -147.43761173, -198.14933181, -194.89618698,\n",
       "       -226.70259972, -199.31814346, -277.15770332, -234.85088579,\n",
       "       -147.29670383, -213.68510945])"
      ]
     },
     "execution_count": 80,
     "metadata": {},
     "output_type": "execute_result"
    }
   ],
   "source": [
    "np.dot(log_px.T, x) + np.dot(log_qx.T, 1-x)"
   ]
  },
  {
   "cell_type": "code",
   "execution_count": null,
   "metadata": {},
   "outputs": [],
   "source": [
    "np.dot(bnb.coef_, x) + np.dot(bnb.coef_, 1-x)"
   ]
  },
  {
   "cell_type": "code",
   "execution_count": 87,
   "metadata": {},
   "outputs": [
    {
     "data": {
      "text/plain": [
       "array([[0., 0., 0., ..., 0., 0., 0.],\n",
       "       [0., 0., 0., ..., 0., 0., 0.],\n",
       "       [0., 0., 0., ..., 0., 0., 0.],\n",
       "       ...,\n",
       "       [0., 0., 0., ..., 0., 0., 0.],\n",
       "       [0., 0., 0., ..., 0., 0., 0.],\n",
       "       [0., 0., 0., ..., 0., 0., 0.]])"
      ]
     },
     "execution_count": 87,
     "metadata": {},
     "output_type": "execute_result"
    }
   ],
   "source": [
    "bnb.coef_ - bnb.feature_log_prob_"
   ]
  },
  {
   "cell_type": "code",
   "execution_count": null,
   "metadata": {},
   "outputs": [],
   "source": []
  }
 ],
 "metadata": {
  "kernelspec": {
   "display_name": "Python 3",
   "language": "python",
   "name": "python3"
  },
  "language_info": {
   "codemirror_mode": {
    "name": "ipython",
    "version": 3
   },
   "file_extension": ".py",
   "mimetype": "text/x-python",
   "name": "python",
   "nbconvert_exporter": "python",
   "pygments_lexer": "ipython3",
   "version": "3.7.5"
  }
 },
 "nbformat": 4,
 "nbformat_minor": 4
}
