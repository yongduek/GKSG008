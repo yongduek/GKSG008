{
 "cells": [
  {
   "cell_type": "markdown",
   "metadata": {
    "origin_pos": 0
   },
   "source": [
    "# Fully Convolutional Networks\n",
    ":label:`sec_fcn`\n",
    "\n",
    "As discussed in :numref:`sec_semantic_segmentation`,\n",
    "semantic segmentation\n",
    "classifies images in pixel level.\n",
    "A fully convolutional network (FCN)\n",
    "uses a convolutional neural network to\n",
    "transform image pixels to pixel classes :cite:`Long.Shelhamer.Darrell.2015`.\n",
    "Unlike the CNNs that we encountered earlier\n",
    "for image classification \n",
    "or object detection,\n",
    "a fully convolutional network\n",
    "transforms \n",
    "the height and width of intermediate feature maps\n",
    "back to those of the input image:\n",
    "this is achieved by\n",
    "the transposed convolutional layer\n",
    "introduced in :numref:`sec_transposed_conv`.\n",
    "As a result,\n",
    "the classification output\n",
    "and the input image \n",
    "have a one-to-one correspondence \n",
    "in pixel level:\n",
    "the channel dimension at any output pixel \n",
    "holds the classification results\n",
    "for the input pixel at the same spatial position.\n"
   ]
  },
  {
   "cell_type": "code",
   "execution_count": 1,
   "metadata": {
    "origin_pos": 2,
    "tab": [
     "pytorch"
    ]
   },
   "outputs": [],
   "source": [
    "%matplotlib inline\n",
    "import torch\n",
    "import torchvision\n",
    "from torch import nn\n",
    "from torch.nn import functional as F\n",
    "from d2l import torch as d2l\n"
   ]
  },
  {
   "cell_type": "markdown",
   "metadata": {
    "origin_pos": 3
   },
   "source": [
    "## The Model\n",
    "\n",
    "Here we describe the basic design of the fully convolutional network model. \n",
    "As shown in :numref:`fig_fcn`,\n",
    "this model first uses a CNN to extract image features,\n",
    "then transforms the number of channels into\n",
    "the number of classes\n",
    "via a $1\\times 1$ convolutional layer,\n",
    "and finally transforms the height and width of\n",
    "the feature maps\n",
    "to those\n",
    "of the input image via\n",
    "the transposed convolution introduced in :numref:`sec_transposed_conv`. \n",
    "As a result,\n",
    "the model output has the same height and width as the input image,\n",
    "where the output channel contains the predicted classes\n",
    "for the input pixel at the same spatial position.\n",
    "\n",
    "\n",
    "![Fully convolutional network.](../img/fcn.svg)\n",
    ":label:`fig_fcn`\n",
    "\n",
    "Below, we [**use a ResNet-18 model pretrained on the ImageNet dataset to extract image features**]\n",
    "and denote the model instance as `pretrained_net`.\n",
    "The last few layers of this model\n",
    "include a global average pooling layer\n",
    "and a fully-connected layer:\n",
    "they are not needed\n",
    "in the fully convolutional network.\n"
   ]
  },
  {
   "cell_type": "code",
   "execution_count": 2,
   "metadata": {
    "origin_pos": 5,
    "tab": [
     "pytorch"
    ]
   },
   "outputs": [
    {
     "data": {
      "text/plain": [
       "[Sequential(\n",
       "   (0): BasicBlock(\n",
       "     (conv1): Conv2d(256, 512, kernel_size=(3, 3), stride=(2, 2), padding=(1, 1), bias=False)\n",
       "     (bn1): BatchNorm2d(512, eps=1e-05, momentum=0.1, affine=True, track_running_stats=True)\n",
       "     (relu): ReLU(inplace=True)\n",
       "     (conv2): Conv2d(512, 512, kernel_size=(3, 3), stride=(1, 1), padding=(1, 1), bias=False)\n",
       "     (bn2): BatchNorm2d(512, eps=1e-05, momentum=0.1, affine=True, track_running_stats=True)\n",
       "     (downsample): Sequential(\n",
       "       (0): Conv2d(256, 512, kernel_size=(1, 1), stride=(2, 2), bias=False)\n",
       "       (1): BatchNorm2d(512, eps=1e-05, momentum=0.1, affine=True, track_running_stats=True)\n",
       "     )\n",
       "   )\n",
       "   (1): BasicBlock(\n",
       "     (conv1): Conv2d(512, 512, kernel_size=(3, 3), stride=(1, 1), padding=(1, 1), bias=False)\n",
       "     (bn1): BatchNorm2d(512, eps=1e-05, momentum=0.1, affine=True, track_running_stats=True)\n",
       "     (relu): ReLU(inplace=True)\n",
       "     (conv2): Conv2d(512, 512, kernel_size=(3, 3), stride=(1, 1), padding=(1, 1), bias=False)\n",
       "     (bn2): BatchNorm2d(512, eps=1e-05, momentum=0.1, affine=True, track_running_stats=True)\n",
       "   )\n",
       " ),\n",
       " AdaptiveAvgPool2d(output_size=(1, 1)),\n",
       " Linear(in_features=512, out_features=1000, bias=True)]"
      ]
     },
     "execution_count": 2,
     "metadata": {},
     "output_type": "execute_result"
    }
   ],
   "source": [
    "pretrained_net = torchvision.models.resnet18(pretrained=True)\n",
    "list(pretrained_net.children())[-3:]"
   ]
  },
  {
   "cell_type": "markdown",
   "metadata": {
    "origin_pos": 6
   },
   "source": [
    "Next, we [**create the fully convolutional network instance `net`**].\n",
    "It copies all the pretrained layers in the ResNet-18\n",
    "except for the final global average pooling layer\n",
    "and the fully-connected layer that are closest\n",
    "to the output.\n"
   ]
  },
  {
   "cell_type": "code",
   "execution_count": 3,
   "metadata": {
    "origin_pos": 8,
    "tab": [
     "pytorch"
    ]
   },
   "outputs": [],
   "source": [
    "net = nn.Sequential(*list(pretrained_net.children())[:-2])"
   ]
  },
  {
   "cell_type": "markdown",
   "metadata": {
    "origin_pos": 9
   },
   "source": [
    "Given an input with height and width of 320 and 480 respectively,\n",
    "the forward propagation of `net`\n",
    "reduces the input height and width to 1/32 of the original, namely 10 and 15.\n"
   ]
  },
  {
   "cell_type": "code",
   "execution_count": 4,
   "metadata": {
    "origin_pos": 11,
    "tab": [
     "pytorch"
    ]
   },
   "outputs": [
    {
     "data": {
      "text/plain": [
       "torch.Size([1, 512, 10, 15])"
      ]
     },
     "execution_count": 4,
     "metadata": {},
     "output_type": "execute_result"
    }
   ],
   "source": [
    "X = torch.rand(size=(1, 3, 320, 480))\n",
    "net(X).shape"
   ]
  },
  {
   "cell_type": "markdown",
   "metadata": {
    "origin_pos": 12
   },
   "source": [
    "Next, we [**use a $1\\times 1$ convolutional layer to transform the number of output channels into the number of classes (21) of the Pascal VOC2012 dataset.**]\n",
    "Finally, we need to (**increase the height and width of the feature maps by 32 times**) to change them back to the height and width of the input image. \n",
    "Recall how to calculate \n",
    "the output shape of a convolutional layer in :numref:`sec_padding`. \n",
    "Since $(320-64+16\\times2+32)/32=10$ and $(480-64+16\\times2+32)/32=15$, we construct a transposed convolutional layer with stride of $32$, \n",
    "setting\n",
    "the height and width of the kernel\n",
    "to $64$, the padding to $16$.\n",
    "In general,\n",
    "we can see that\n",
    "for stride $s$,\n",
    "padding $s/2$ (assuming $s/2$ is an integer),\n",
    "and the height and width of the kernel $2s$, \n",
    "the transposed convolution will increase\n",
    "the height and width of the input by $s$ times.\n"
   ]
  },
  {
   "cell_type": "code",
   "execution_count": 5,
   "metadata": {
    "origin_pos": 14,
    "tab": [
     "pytorch"
    ]
   },
   "outputs": [],
   "source": [
    "num_classes = 21\n",
    "net.add_module('final_0', nn.Conv2d(512, num_classes, kernel_size=1))\n",
    "net.add_module('UpSample', nn.Upsample(scale_factor=32, mode='bilinear', align_corners=False))\n",
    "net.add_module('final_1', \n",
    "               nn.Sequential(nn.Conv2d(num_classes, num_classes, kernel_size=3, padding=1)))"
   ]
  },
  {
   "cell_type": "code",
   "execution_count": 6,
   "metadata": {},
   "outputs": [
    {
     "data": {
      "text/plain": [
       "torch.Size([1, 21, 320, 480])"
      ]
     },
     "execution_count": 6,
     "metadata": {},
     "output_type": "execute_result"
    }
   ],
   "source": [
    "net(X).shape"
   ]
  },
  {
   "cell_type": "markdown",
   "metadata": {
    "origin_pos": 30
   },
   "source": [
    "## [**Reading the Dataset**]\n",
    "\n",
    "We read\n",
    "the semantic segmentation dataset\n",
    "as introduced in :numref:`sec_semantic_segmentation`. \n",
    "The output image shape of random cropping is\n",
    "specified as $320\\times 480$: both the height and width are divisible by $32$.\n"
   ]
  },
  {
   "cell_type": "code",
   "execution_count": 7,
   "metadata": {
    "origin_pos": 31,
    "tab": [
     "pytorch"
    ]
   },
   "outputs": [
    {
     "name": "stdout",
     "output_type": "stream",
     "text": [
      "read 1114 examples\n",
      "read 1078 examples\n"
     ]
    }
   ],
   "source": [
    "batch_size, crop_size = 8, (320, 480)\n",
    "train_iter, test_iter = d2l.load_data_voc(batch_size, crop_size)"
   ]
  },
  {
   "cell_type": "markdown",
   "metadata": {
    "origin_pos": 32
   },
   "source": [
    "## [**Training**]\n",
    "\n",
    "\n",
    "Now we can train our constructed\n",
    "fully convolutional network. \n",
    "The loss function and accuracy calculation here\n",
    "are not essentially different from those in image classification of earlier chapters. \n",
    "Because we use the output channel of the\n",
    "transposed convolutional layer to\n",
    "predict the class for each pixel,\n",
    "the channel dimension is specified in the loss calculation.\n",
    "In addition, the accuracy is calculated\n",
    "based on correctness\n",
    "of the predicted class for all the pixels.\n"
   ]
  },
  {
   "cell_type": "code",
   "execution_count": 8,
   "metadata": {
    "origin_pos": 34,
    "tab": [
     "pytorch"
    ]
   },
   "outputs": [
    {
     "name": "stdout",
     "output_type": "stream",
     "text": [
      "loss 0.239, train acc 0.920, test acc 0.861\n",
      "55.1 examples/sec on [device(type='cuda', index=0)]\n"
     ]
    },
    {
     "data": {
      "image/svg+xml": "<?xml version=\"1.0\" encoding=\"utf-8\" standalone=\"no\"?>\r\n<!DOCTYPE svg PUBLIC \"-//W3C//DTD SVG 1.1//EN\"\r\n  \"http://www.w3.org/Graphics/SVG/1.1/DTD/svg11.dtd\">\r\n<svg height=\"184.455469pt\" version=\"1.1\" viewBox=\"0 0 238.965625 184.455469\" width=\"238.965625pt\" xmlns=\"http://www.w3.org/2000/svg\" xmlns:xlink=\"http://www.w3.org/1999/xlink\">\r\n <metadata>\r\n  <rdf:RDF xmlns:cc=\"http://creativecommons.org/ns#\" xmlns:dc=\"http://purl.org/dc/elements/1.1/\" xmlns:rdf=\"http://www.w3.org/1999/02/22-rdf-syntax-ns#\">\r\n   <cc:Work>\r\n    <dc:type rdf:resource=\"http://purl.org/dc/dcmitype/StillImage\"/>\r\n    <dc:date>2021-12-08T22:24:12.591462</dc:date>\r\n    <dc:format>image/svg+xml</dc:format>\r\n    <dc:creator>\r\n     <cc:Agent>\r\n      <dc:title>Matplotlib v3.4.3, https://matplotlib.org/</dc:title>\r\n     </cc:Agent>\r\n    </dc:creator>\r\n   </cc:Work>\r\n  </rdf:RDF>\r\n </metadata>\r\n <defs>\r\n  <style type=\"text/css\">*{stroke-linecap:butt;stroke-linejoin:round;}</style>\r\n </defs>\r\n <g id=\"figure_1\">\r\n  <g id=\"patch_1\">\r\n   <path d=\"M 0 184.455469 \r\nL 238.965625 184.455469 \r\nL 238.965625 -0 \r\nL 0 -0 \r\nz\r\n\" style=\"fill:none;\"/>\r\n  </g>\r\n  <g id=\"axes_1\">\r\n   <g id=\"patch_2\">\r\n    <path d=\"M 30.103125 146.899219 \r\nL 225.403125 146.899219 \r\nL 225.403125 10.999219 \r\nL 30.103125 10.999219 \r\nz\r\n\" style=\"fill:#ffffff;\"/>\r\n   </g>\r\n   <g id=\"matplotlib.axis_1\">\r\n    <g id=\"xtick_1\">\r\n     <g id=\"line2d_1\">\r\n      <path clip-path=\"url(#p9e01986655)\" d=\"M 62.653125 146.899219 \r\nL 62.653125 10.999219 \r\n\" style=\"fill:none;stroke:#b0b0b0;stroke-linecap:square;stroke-width:0.8;\"/>\r\n     </g>\r\n     <g id=\"line2d_2\">\r\n      <defs>\r\n       <path d=\"M 0 0 \r\nL 0 3.5 \r\n\" id=\"m4f2cb31a49\" style=\"stroke:#000000;stroke-width:0.8;\"/>\r\n      </defs>\r\n      <g>\r\n       <use style=\"stroke:#000000;stroke-width:0.8;\" x=\"62.653125\" xlink:href=\"#m4f2cb31a49\" y=\"146.899219\"/>\r\n      </g>\r\n     </g>\r\n     <g id=\"text_1\">\r\n      <!-- 5 -->\r\n      <g transform=\"translate(59.471875 161.497656)scale(0.1 -0.1)\">\r\n       <defs>\r\n        <path d=\"M 691 4666 \r\nL 3169 4666 \r\nL 3169 4134 \r\nL 1269 4134 \r\nL 1269 2991 \r\nQ 1406 3038 1543 3061 \r\nQ 1681 3084 1819 3084 \r\nQ 2600 3084 3056 2656 \r\nQ 3513 2228 3513 1497 \r\nQ 3513 744 3044 326 \r\nQ 2575 -91 1722 -91 \r\nQ 1428 -91 1123 -41 \r\nQ 819 9 494 109 \r\nL 494 744 \r\nQ 775 591 1075 516 \r\nQ 1375 441 1709 441 \r\nQ 2250 441 2565 725 \r\nQ 2881 1009 2881 1497 \r\nQ 2881 1984 2565 2268 \r\nQ 2250 2553 1709 2553 \r\nQ 1456 2553 1204 2497 \r\nQ 953 2441 691 2322 \r\nL 691 4666 \r\nz\r\n\" id=\"DejaVuSans-35\" transform=\"scale(0.015625)\"/>\r\n       </defs>\r\n       <use xlink:href=\"#DejaVuSans-35\"/>\r\n      </g>\r\n     </g>\r\n    </g>\r\n    <g id=\"xtick_2\">\r\n     <g id=\"line2d_3\">\r\n      <path clip-path=\"url(#p9e01986655)\" d=\"M 103.340625 146.899219 \r\nL 103.340625 10.999219 \r\n\" style=\"fill:none;stroke:#b0b0b0;stroke-linecap:square;stroke-width:0.8;\"/>\r\n     </g>\r\n     <g id=\"line2d_4\">\r\n      <g>\r\n       <use style=\"stroke:#000000;stroke-width:0.8;\" x=\"103.340625\" xlink:href=\"#m4f2cb31a49\" y=\"146.899219\"/>\r\n      </g>\r\n     </g>\r\n     <g id=\"text_2\">\r\n      <!-- 10 -->\r\n      <g transform=\"translate(96.978125 161.497656)scale(0.1 -0.1)\">\r\n       <defs>\r\n        <path d=\"M 794 531 \r\nL 1825 531 \r\nL 1825 4091 \r\nL 703 3866 \r\nL 703 4441 \r\nL 1819 4666 \r\nL 2450 4666 \r\nL 2450 531 \r\nL 3481 531 \r\nL 3481 0 \r\nL 794 0 \r\nL 794 531 \r\nz\r\n\" id=\"DejaVuSans-31\" transform=\"scale(0.015625)\"/>\r\n        <path d=\"M 2034 4250 \r\nQ 1547 4250 1301 3770 \r\nQ 1056 3291 1056 2328 \r\nQ 1056 1369 1301 889 \r\nQ 1547 409 2034 409 \r\nQ 2525 409 2770 889 \r\nQ 3016 1369 3016 2328 \r\nQ 3016 3291 2770 3770 \r\nQ 2525 4250 2034 4250 \r\nz\r\nM 2034 4750 \r\nQ 2819 4750 3233 4129 \r\nQ 3647 3509 3647 2328 \r\nQ 3647 1150 3233 529 \r\nQ 2819 -91 2034 -91 \r\nQ 1250 -91 836 529 \r\nQ 422 1150 422 2328 \r\nQ 422 3509 836 4129 \r\nQ 1250 4750 2034 4750 \r\nz\r\n\" id=\"DejaVuSans-30\" transform=\"scale(0.015625)\"/>\r\n       </defs>\r\n       <use xlink:href=\"#DejaVuSans-31\"/>\r\n       <use x=\"63.623047\" xlink:href=\"#DejaVuSans-30\"/>\r\n      </g>\r\n     </g>\r\n    </g>\r\n    <g id=\"xtick_3\">\r\n     <g id=\"line2d_5\">\r\n      <path clip-path=\"url(#p9e01986655)\" d=\"M 144.028125 146.899219 \r\nL 144.028125 10.999219 \r\n\" style=\"fill:none;stroke:#b0b0b0;stroke-linecap:square;stroke-width:0.8;\"/>\r\n     </g>\r\n     <g id=\"line2d_6\">\r\n      <g>\r\n       <use style=\"stroke:#000000;stroke-width:0.8;\" x=\"144.028125\" xlink:href=\"#m4f2cb31a49\" y=\"146.899219\"/>\r\n      </g>\r\n     </g>\r\n     <g id=\"text_3\">\r\n      <!-- 15 -->\r\n      <g transform=\"translate(137.665625 161.497656)scale(0.1 -0.1)\">\r\n       <use xlink:href=\"#DejaVuSans-31\"/>\r\n       <use x=\"63.623047\" xlink:href=\"#DejaVuSans-35\"/>\r\n      </g>\r\n     </g>\r\n    </g>\r\n    <g id=\"xtick_4\">\r\n     <g id=\"line2d_7\">\r\n      <path clip-path=\"url(#p9e01986655)\" d=\"M 184.715625 146.899219 \r\nL 184.715625 10.999219 \r\n\" style=\"fill:none;stroke:#b0b0b0;stroke-linecap:square;stroke-width:0.8;\"/>\r\n     </g>\r\n     <g id=\"line2d_8\">\r\n      <g>\r\n       <use style=\"stroke:#000000;stroke-width:0.8;\" x=\"184.715625\" xlink:href=\"#m4f2cb31a49\" y=\"146.899219\"/>\r\n      </g>\r\n     </g>\r\n     <g id=\"text_4\">\r\n      <!-- 20 -->\r\n      <g transform=\"translate(178.353125 161.497656)scale(0.1 -0.1)\">\r\n       <defs>\r\n        <path d=\"M 1228 531 \r\nL 3431 531 \r\nL 3431 0 \r\nL 469 0 \r\nL 469 531 \r\nQ 828 903 1448 1529 \r\nQ 2069 2156 2228 2338 \r\nQ 2531 2678 2651 2914 \r\nQ 2772 3150 2772 3378 \r\nQ 2772 3750 2511 3984 \r\nQ 2250 4219 1831 4219 \r\nQ 1534 4219 1204 4116 \r\nQ 875 4013 500 3803 \r\nL 500 4441 \r\nQ 881 4594 1212 4672 \r\nQ 1544 4750 1819 4750 \r\nQ 2544 4750 2975 4387 \r\nQ 3406 4025 3406 3419 \r\nQ 3406 3131 3298 2873 \r\nQ 3191 2616 2906 2266 \r\nQ 2828 2175 2409 1742 \r\nQ 1991 1309 1228 531 \r\nz\r\n\" id=\"DejaVuSans-32\" transform=\"scale(0.015625)\"/>\r\n       </defs>\r\n       <use xlink:href=\"#DejaVuSans-32\"/>\r\n       <use x=\"63.623047\" xlink:href=\"#DejaVuSans-30\"/>\r\n      </g>\r\n     </g>\r\n    </g>\r\n    <g id=\"xtick_5\">\r\n     <g id=\"line2d_9\">\r\n      <path clip-path=\"url(#p9e01986655)\" d=\"M 225.403125 146.899219 \r\nL 225.403125 10.999219 \r\n\" style=\"fill:none;stroke:#b0b0b0;stroke-linecap:square;stroke-width:0.8;\"/>\r\n     </g>\r\n     <g id=\"line2d_10\">\r\n      <g>\r\n       <use style=\"stroke:#000000;stroke-width:0.8;\" x=\"225.403125\" xlink:href=\"#m4f2cb31a49\" y=\"146.899219\"/>\r\n      </g>\r\n     </g>\r\n     <g id=\"text_5\">\r\n      <!-- 25 -->\r\n      <g transform=\"translate(219.040625 161.497656)scale(0.1 -0.1)\">\r\n       <use xlink:href=\"#DejaVuSans-32\"/>\r\n       <use x=\"63.623047\" xlink:href=\"#DejaVuSans-35\"/>\r\n      </g>\r\n     </g>\r\n    </g>\r\n    <g id=\"text_6\">\r\n     <!-- epoch -->\r\n     <g transform=\"translate(112.525 175.175781)scale(0.1 -0.1)\">\r\n      <defs>\r\n       <path d=\"M 3597 1894 \r\nL 3597 1613 \r\nL 953 1613 \r\nQ 991 1019 1311 708 \r\nQ 1631 397 2203 397 \r\nQ 2534 397 2845 478 \r\nQ 3156 559 3463 722 \r\nL 3463 178 \r\nQ 3153 47 2828 -22 \r\nQ 2503 -91 2169 -91 \r\nQ 1331 -91 842 396 \r\nQ 353 884 353 1716 \r\nQ 353 2575 817 3079 \r\nQ 1281 3584 2069 3584 \r\nQ 2775 3584 3186 3129 \r\nQ 3597 2675 3597 1894 \r\nz\r\nM 3022 2063 \r\nQ 3016 2534 2758 2815 \r\nQ 2500 3097 2075 3097 \r\nQ 1594 3097 1305 2825 \r\nQ 1016 2553 972 2059 \r\nL 3022 2063 \r\nz\r\n\" id=\"DejaVuSans-65\" transform=\"scale(0.015625)\"/>\r\n       <path d=\"M 1159 525 \r\nL 1159 -1331 \r\nL 581 -1331 \r\nL 581 3500 \r\nL 1159 3500 \r\nL 1159 2969 \r\nQ 1341 3281 1617 3432 \r\nQ 1894 3584 2278 3584 \r\nQ 2916 3584 3314 3078 \r\nQ 3713 2572 3713 1747 \r\nQ 3713 922 3314 415 \r\nQ 2916 -91 2278 -91 \r\nQ 1894 -91 1617 61 \r\nQ 1341 213 1159 525 \r\nz\r\nM 3116 1747 \r\nQ 3116 2381 2855 2742 \r\nQ 2594 3103 2138 3103 \r\nQ 1681 3103 1420 2742 \r\nQ 1159 2381 1159 1747 \r\nQ 1159 1113 1420 752 \r\nQ 1681 391 2138 391 \r\nQ 2594 391 2855 752 \r\nQ 3116 1113 3116 1747 \r\nz\r\n\" id=\"DejaVuSans-70\" transform=\"scale(0.015625)\"/>\r\n       <path d=\"M 1959 3097 \r\nQ 1497 3097 1228 2736 \r\nQ 959 2375 959 1747 \r\nQ 959 1119 1226 758 \r\nQ 1494 397 1959 397 \r\nQ 2419 397 2687 759 \r\nQ 2956 1122 2956 1747 \r\nQ 2956 2369 2687 2733 \r\nQ 2419 3097 1959 3097 \r\nz\r\nM 1959 3584 \r\nQ 2709 3584 3137 3096 \r\nQ 3566 2609 3566 1747 \r\nQ 3566 888 3137 398 \r\nQ 2709 -91 1959 -91 \r\nQ 1206 -91 779 398 \r\nQ 353 888 353 1747 \r\nQ 353 2609 779 3096 \r\nQ 1206 3584 1959 3584 \r\nz\r\n\" id=\"DejaVuSans-6f\" transform=\"scale(0.015625)\"/>\r\n       <path d=\"M 3122 3366 \r\nL 3122 2828 \r\nQ 2878 2963 2633 3030 \r\nQ 2388 3097 2138 3097 \r\nQ 1578 3097 1268 2742 \r\nQ 959 2388 959 1747 \r\nQ 959 1106 1268 751 \r\nQ 1578 397 2138 397 \r\nQ 2388 397 2633 464 \r\nQ 2878 531 3122 666 \r\nL 3122 134 \r\nQ 2881 22 2623 -34 \r\nQ 2366 -91 2075 -91 \r\nQ 1284 -91 818 406 \r\nQ 353 903 353 1747 \r\nQ 353 2603 823 3093 \r\nQ 1294 3584 2113 3584 \r\nQ 2378 3584 2631 3529 \r\nQ 2884 3475 3122 3366 \r\nz\r\n\" id=\"DejaVuSans-63\" transform=\"scale(0.015625)\"/>\r\n       <path d=\"M 3513 2113 \r\nL 3513 0 \r\nL 2938 0 \r\nL 2938 2094 \r\nQ 2938 2591 2744 2837 \r\nQ 2550 3084 2163 3084 \r\nQ 1697 3084 1428 2787 \r\nQ 1159 2491 1159 1978 \r\nL 1159 0 \r\nL 581 0 \r\nL 581 4863 \r\nL 1159 4863 \r\nL 1159 2956 \r\nQ 1366 3272 1645 3428 \r\nQ 1925 3584 2291 3584 \r\nQ 2894 3584 3203 3211 \r\nQ 3513 2838 3513 2113 \r\nz\r\n\" id=\"DejaVuSans-68\" transform=\"scale(0.015625)\"/>\r\n      </defs>\r\n      <use xlink:href=\"#DejaVuSans-65\"/>\r\n      <use x=\"61.523438\" xlink:href=\"#DejaVuSans-70\"/>\r\n      <use x=\"125\" xlink:href=\"#DejaVuSans-6f\"/>\r\n      <use x=\"186.181641\" xlink:href=\"#DejaVuSans-63\"/>\r\n      <use x=\"241.162109\" xlink:href=\"#DejaVuSans-68\"/>\r\n     </g>\r\n    </g>\r\n   </g>\r\n   <g id=\"matplotlib.axis_2\">\r\n    <g id=\"ytick_1\">\r\n     <g id=\"line2d_11\">\r\n      <path clip-path=\"url(#p9e01986655)\" d=\"M 30.103125 146.899219 \r\nL 225.403125 146.899219 \r\n\" style=\"fill:none;stroke:#b0b0b0;stroke-linecap:square;stroke-width:0.8;\"/>\r\n     </g>\r\n     <g id=\"line2d_12\">\r\n      <defs>\r\n       <path d=\"M 0 0 \r\nL -3.5 0 \r\n\" id=\"m83d3ad4b85\" style=\"stroke:#000000;stroke-width:0.8;\"/>\r\n      </defs>\r\n      <g>\r\n       <use style=\"stroke:#000000;stroke-width:0.8;\" x=\"30.103125\" xlink:href=\"#m83d3ad4b85\" y=\"146.899219\"/>\r\n      </g>\r\n     </g>\r\n     <g id=\"text_7\">\r\n      <!-- 0.0 -->\r\n      <g transform=\"translate(7.2 150.698437)scale(0.1 -0.1)\">\r\n       <defs>\r\n        <path d=\"M 684 794 \r\nL 1344 794 \r\nL 1344 0 \r\nL 684 0 \r\nL 684 794 \r\nz\r\n\" id=\"DejaVuSans-2e\" transform=\"scale(0.015625)\"/>\r\n       </defs>\r\n       <use xlink:href=\"#DejaVuSans-30\"/>\r\n       <use x=\"63.623047\" xlink:href=\"#DejaVuSans-2e\"/>\r\n       <use x=\"95.410156\" xlink:href=\"#DejaVuSans-30\"/>\r\n      </g>\r\n     </g>\r\n    </g>\r\n    <g id=\"ytick_2\">\r\n     <g id=\"line2d_13\">\r\n      <path clip-path=\"url(#p9e01986655)\" d=\"M 30.103125 119.719219 \r\nL 225.403125 119.719219 \r\n\" style=\"fill:none;stroke:#b0b0b0;stroke-linecap:square;stroke-width:0.8;\"/>\r\n     </g>\r\n     <g id=\"line2d_14\">\r\n      <g>\r\n       <use style=\"stroke:#000000;stroke-width:0.8;\" x=\"30.103125\" xlink:href=\"#m83d3ad4b85\" y=\"119.719219\"/>\r\n      </g>\r\n     </g>\r\n     <g id=\"text_8\">\r\n      <!-- 0.2 -->\r\n      <g transform=\"translate(7.2 123.518437)scale(0.1 -0.1)\">\r\n       <use xlink:href=\"#DejaVuSans-30\"/>\r\n       <use x=\"63.623047\" xlink:href=\"#DejaVuSans-2e\"/>\r\n       <use x=\"95.410156\" xlink:href=\"#DejaVuSans-32\"/>\r\n      </g>\r\n     </g>\r\n    </g>\r\n    <g id=\"ytick_3\">\r\n     <g id=\"line2d_15\">\r\n      <path clip-path=\"url(#p9e01986655)\" d=\"M 30.103125 92.539219 \r\nL 225.403125 92.539219 \r\n\" style=\"fill:none;stroke:#b0b0b0;stroke-linecap:square;stroke-width:0.8;\"/>\r\n     </g>\r\n     <g id=\"line2d_16\">\r\n      <g>\r\n       <use style=\"stroke:#000000;stroke-width:0.8;\" x=\"30.103125\" xlink:href=\"#m83d3ad4b85\" y=\"92.539219\"/>\r\n      </g>\r\n     </g>\r\n     <g id=\"text_9\">\r\n      <!-- 0.4 -->\r\n      <g transform=\"translate(7.2 96.338437)scale(0.1 -0.1)\">\r\n       <defs>\r\n        <path d=\"M 2419 4116 \r\nL 825 1625 \r\nL 2419 1625 \r\nL 2419 4116 \r\nz\r\nM 2253 4666 \r\nL 3047 4666 \r\nL 3047 1625 \r\nL 3713 1625 \r\nL 3713 1100 \r\nL 3047 1100 \r\nL 3047 0 \r\nL 2419 0 \r\nL 2419 1100 \r\nL 313 1100 \r\nL 313 1709 \r\nL 2253 4666 \r\nz\r\n\" id=\"DejaVuSans-34\" transform=\"scale(0.015625)\"/>\r\n       </defs>\r\n       <use xlink:href=\"#DejaVuSans-30\"/>\r\n       <use x=\"63.623047\" xlink:href=\"#DejaVuSans-2e\"/>\r\n       <use x=\"95.410156\" xlink:href=\"#DejaVuSans-34\"/>\r\n      </g>\r\n     </g>\r\n    </g>\r\n    <g id=\"ytick_4\">\r\n     <g id=\"line2d_17\">\r\n      <path clip-path=\"url(#p9e01986655)\" d=\"M 30.103125 65.359219 \r\nL 225.403125 65.359219 \r\n\" style=\"fill:none;stroke:#b0b0b0;stroke-linecap:square;stroke-width:0.8;\"/>\r\n     </g>\r\n     <g id=\"line2d_18\">\r\n      <g>\r\n       <use style=\"stroke:#000000;stroke-width:0.8;\" x=\"30.103125\" xlink:href=\"#m83d3ad4b85\" y=\"65.359219\"/>\r\n      </g>\r\n     </g>\r\n     <g id=\"text_10\">\r\n      <!-- 0.6 -->\r\n      <g transform=\"translate(7.2 69.158437)scale(0.1 -0.1)\">\r\n       <defs>\r\n        <path d=\"M 2113 2584 \r\nQ 1688 2584 1439 2293 \r\nQ 1191 2003 1191 1497 \r\nQ 1191 994 1439 701 \r\nQ 1688 409 2113 409 \r\nQ 2538 409 2786 701 \r\nQ 3034 994 3034 1497 \r\nQ 3034 2003 2786 2293 \r\nQ 2538 2584 2113 2584 \r\nz\r\nM 3366 4563 \r\nL 3366 3988 \r\nQ 3128 4100 2886 4159 \r\nQ 2644 4219 2406 4219 \r\nQ 1781 4219 1451 3797 \r\nQ 1122 3375 1075 2522 \r\nQ 1259 2794 1537 2939 \r\nQ 1816 3084 2150 3084 \r\nQ 2853 3084 3261 2657 \r\nQ 3669 2231 3669 1497 \r\nQ 3669 778 3244 343 \r\nQ 2819 -91 2113 -91 \r\nQ 1303 -91 875 529 \r\nQ 447 1150 447 2328 \r\nQ 447 3434 972 4092 \r\nQ 1497 4750 2381 4750 \r\nQ 2619 4750 2861 4703 \r\nQ 3103 4656 3366 4563 \r\nz\r\n\" id=\"DejaVuSans-36\" transform=\"scale(0.015625)\"/>\r\n       </defs>\r\n       <use xlink:href=\"#DejaVuSans-30\"/>\r\n       <use x=\"63.623047\" xlink:href=\"#DejaVuSans-2e\"/>\r\n       <use x=\"95.410156\" xlink:href=\"#DejaVuSans-36\"/>\r\n      </g>\r\n     </g>\r\n    </g>\r\n    <g id=\"ytick_5\">\r\n     <g id=\"line2d_19\">\r\n      <path clip-path=\"url(#p9e01986655)\" d=\"M 30.103125 38.179219 \r\nL 225.403125 38.179219 \r\n\" style=\"fill:none;stroke:#b0b0b0;stroke-linecap:square;stroke-width:0.8;\"/>\r\n     </g>\r\n     <g id=\"line2d_20\">\r\n      <g>\r\n       <use style=\"stroke:#000000;stroke-width:0.8;\" x=\"30.103125\" xlink:href=\"#m83d3ad4b85\" y=\"38.179219\"/>\r\n      </g>\r\n     </g>\r\n     <g id=\"text_11\">\r\n      <!-- 0.8 -->\r\n      <g transform=\"translate(7.2 41.978437)scale(0.1 -0.1)\">\r\n       <defs>\r\n        <path d=\"M 2034 2216 \r\nQ 1584 2216 1326 1975 \r\nQ 1069 1734 1069 1313 \r\nQ 1069 891 1326 650 \r\nQ 1584 409 2034 409 \r\nQ 2484 409 2743 651 \r\nQ 3003 894 3003 1313 \r\nQ 3003 1734 2745 1975 \r\nQ 2488 2216 2034 2216 \r\nz\r\nM 1403 2484 \r\nQ 997 2584 770 2862 \r\nQ 544 3141 544 3541 \r\nQ 544 4100 942 4425 \r\nQ 1341 4750 2034 4750 \r\nQ 2731 4750 3128 4425 \r\nQ 3525 4100 3525 3541 \r\nQ 3525 3141 3298 2862 \r\nQ 3072 2584 2669 2484 \r\nQ 3125 2378 3379 2068 \r\nQ 3634 1759 3634 1313 \r\nQ 3634 634 3220 271 \r\nQ 2806 -91 2034 -91 \r\nQ 1263 -91 848 271 \r\nQ 434 634 434 1313 \r\nQ 434 1759 690 2068 \r\nQ 947 2378 1403 2484 \r\nz\r\nM 1172 3481 \r\nQ 1172 3119 1398 2916 \r\nQ 1625 2713 2034 2713 \r\nQ 2441 2713 2670 2916 \r\nQ 2900 3119 2900 3481 \r\nQ 2900 3844 2670 4047 \r\nQ 2441 4250 2034 4250 \r\nQ 1625 4250 1398 4047 \r\nQ 1172 3844 1172 3481 \r\nz\r\n\" id=\"DejaVuSans-38\" transform=\"scale(0.015625)\"/>\r\n       </defs>\r\n       <use xlink:href=\"#DejaVuSans-30\"/>\r\n       <use x=\"63.623047\" xlink:href=\"#DejaVuSans-2e\"/>\r\n       <use x=\"95.410156\" xlink:href=\"#DejaVuSans-38\"/>\r\n      </g>\r\n     </g>\r\n    </g>\r\n    <g id=\"ytick_6\">\r\n     <g id=\"line2d_21\">\r\n      <path clip-path=\"url(#p9e01986655)\" d=\"M 30.103125 10.999219 \r\nL 225.403125 10.999219 \r\n\" style=\"fill:none;stroke:#b0b0b0;stroke-linecap:square;stroke-width:0.8;\"/>\r\n     </g>\r\n     <g id=\"line2d_22\">\r\n      <g>\r\n       <use style=\"stroke:#000000;stroke-width:0.8;\" x=\"30.103125\" xlink:href=\"#m83d3ad4b85\" y=\"10.999219\"/>\r\n      </g>\r\n     </g>\r\n     <g id=\"text_12\">\r\n      <!-- 1.0 -->\r\n      <g transform=\"translate(7.2 14.798437)scale(0.1 -0.1)\">\r\n       <use xlink:href=\"#DejaVuSans-31\"/>\r\n       <use x=\"63.623047\" xlink:href=\"#DejaVuSans-2e\"/>\r\n       <use x=\"95.410156\" xlink:href=\"#DejaVuSans-30\"/>\r\n      </g>\r\n     </g>\r\n    </g>\r\n   </g>\r\n   <g id=\"line2d_23\">\r\n    <path clip-path=\"url(#p9e01986655)\" d=\"M 30.487872 -1 \r\nL 31.68379 31.043434 \r\nL 33.264456 32.91635 \r\nL 34.845121 35.195754 \r\nL 36.425787 39.489122 \r\nL 38.240625 40.430506 \r\nL 39.82129 57.622612 \r\nL 41.401956 50.809511 \r\nL 42.982621 55.076686 \r\nL 44.563287 55.255629 \r\nL 46.143952 56.756782 \r\nL 46.378125 57.333223 \r\nL 47.95879 73.025686 \r\nL 49.539456 71.836446 \r\nL 51.120121 70.171715 \r\nL 52.700787 67.228551 \r\nL 54.281452 67.526683 \r\nL 54.515625 68.066817 \r\nL 56.09629 70.981903 \r\nL 57.676956 73.22388 \r\nL 59.257621 74.413792 \r\nL 60.838287 74.399281 \r\nL 62.653125 73.623053 \r\nL 64.23379 84.297364 \r\nL 65.814456 84.411353 \r\nL 67.395121 82.614643 \r\nL 68.975787 80.412258 \r\nL 70.556452 79.015123 \r\nL 70.790625 79.086703 \r\nL 72.37129 90.066539 \r\nL 73.951956 85.769882 \r\nL 75.532621 84.560374 \r\nL 77.113287 84.272803 \r\nL 78.693952 82.902215 \r\nL 78.928125 83.144827 \r\nL 80.50879 85.229479 \r\nL 82.089456 87.042065 \r\nL 83.670121 86.321948 \r\nL 85.250787 87.415912 \r\nL 86.831452 88.161032 \r\nL 87.065625 87.865785 \r\nL 88.64629 82.522716 \r\nL 90.226956 85.375478 \r\nL 91.807621 87.078699 \r\nL 93.388287 87.093511 \r\nL 94.968952 89.253622 \r\nL 95.203125 89.79541 \r\nL 96.78379 91.206856 \r\nL 98.364456 92.019419 \r\nL 99.945121 91.663805 \r\nL 101.525787 92.383226 \r\nL 103.340625 92.498787 \r\nL 104.92129 97.243902 \r\nL 106.501956 96.921814 \r\nL 108.082621 94.590686 \r\nL 109.663287 93.878936 \r\nL 111.243952 94.589165 \r\nL 111.478125 94.920978 \r\nL 113.05879 98.908437 \r\nL 114.639456 98.762031 \r\nL 116.220121 99.225965 \r\nL 119.381452 98.514098 \r\nL 119.615625 97.961448 \r\nL 121.19629 99.903905 \r\nL 122.776956 99.718251 \r\nL 124.357621 99.821624 \r\nL 127.518952 99.808653 \r\nL 127.753125 100.082688 \r\nL 129.33379 101.429473 \r\nL 130.914456 99.604219 \r\nL 132.495121 100.644717 \r\nL 134.075787 100.518759 \r\nL 135.890625 101.850668 \r\nL 137.47129 105.364198 \r\nL 139.051956 101.890269 \r\nL 140.632621 102.906268 \r\nL 142.213287 103.536586 \r\nL 143.793952 103.512856 \r\nL 144.028125 103.649571 \r\nL 145.60879 107.250482 \r\nL 147.189456 107.846803 \r\nL 148.770121 106.566971 \r\nL 150.350787 106.318298 \r\nL 151.931452 105.789753 \r\nL 153.74629 106.627094 \r\nL 155.326956 106.144209 \r\nL 156.907621 106.747314 \r\nL 158.488287 106.91462 \r\nL 160.068952 106.583717 \r\nL 160.303125 106.778745 \r\nL 161.88379 108.247224 \r\nL 163.464456 108.536617 \r\nL 165.045121 109.177635 \r\nL 166.625787 109.099443 \r\nL 168.206452 108.803082 \r\nL 168.440625 108.590649 \r\nL 170.02129 104.802968 \r\nL 171.601956 108.516926 \r\nL 173.182621 107.592092 \r\nL 174.763287 108.50243 \r\nL 176.343952 108.536666 \r\nL 176.578125 108.680541 \r\nL 178.15879 111.02915 \r\nL 179.739456 109.234221 \r\nL 181.320121 109.451983 \r\nL 182.900787 109.807852 \r\nL 184.715625 110.716415 \r\nL 186.29629 114.132204 \r\nL 187.876956 112.164493 \r\nL 189.457621 111.452796 \r\nL 192.618952 111.558001 \r\nL 192.853125 111.28159 \r\nL 194.43379 111.84316 \r\nL 196.014456 111.647164 \r\nL 197.595121 112.618006 \r\nL 199.175787 111.655311 \r\nL 200.756452 111.911275 \r\nL 200.990625 111.818952 \r\nL 202.57129 113.878672 \r\nL 204.151956 113.119031 \r\nL 205.732621 112.701028 \r\nL 207.313287 113.496499 \r\nL 209.128125 113.660983 \r\nL 210.70879 112.25311 \r\nL 212.289456 112.807888 \r\nL 213.870121 113.633335 \r\nL 217.031452 114.361737 \r\nL 217.265625 114.163647 \r\nL 220.426956 113.433182 \r\nL 222.007621 113.832526 \r\nL 223.588287 114.057032 \r\nL 225.403125 114.437931 \r\nL 225.403125 114.437931 \r\n\" style=\"fill:none;stroke:#1f77b4;stroke-linecap:square;stroke-width:1.5;\"/>\r\n   </g>\r\n   <g id=\"line2d_24\">\r\n    <path clip-path=\"url(#p9e01986655)\" d=\"M 23.54629 50.821364 \r\nL 25.126956 50.384995 \r\nL 26.707621 49.358579 \r\nL 30.103125 46.51242 \r\nL 31.68379 40.412441 \r\nL 33.264456 40.323579 \r\nL 34.845121 39.609681 \r\nL 36.425787 38.633815 \r\nL 38.240625 38.608972 \r\nL 39.82129 36.631088 \r\nL 41.401956 37.980736 \r\nL 42.982621 36.559987 \r\nL 44.563287 36.497285 \r\nL 46.378125 35.98789 \r\nL 47.95879 32.160519 \r\nL 49.539456 32.409971 \r\nL 51.120121 33.040144 \r\nL 52.700787 33.87533 \r\nL 54.281452 33.802278 \r\nL 54.515625 33.632254 \r\nL 56.09629 32.831282 \r\nL 57.676956 32.224418 \r\nL 59.257621 32.164462 \r\nL 62.653125 32.492017 \r\nL 64.23379 29.799915 \r\nL 65.814456 29.662141 \r\nL 67.395121 30.333711 \r\nL 68.975787 31.128135 \r\nL 70.790625 31.601662 \r\nL 72.37129 28.742337 \r\nL 73.951956 29.769141 \r\nL 75.532621 30.096269 \r\nL 77.113287 30.117763 \r\nL 78.693952 30.507491 \r\nL 78.928125 30.448947 \r\nL 80.50879 30.473529 \r\nL 82.089456 29.720476 \r\nL 83.670121 29.885364 \r\nL 85.250787 29.39848 \r\nL 86.831452 29.193947 \r\nL 87.065625 29.295325 \r\nL 88.64629 31.095503 \r\nL 91.807621 29.776866 \r\nL 93.388287 29.724497 \r\nL 95.203125 28.932584 \r\nL 96.78379 28.734505 \r\nL 98.364456 28.31314 \r\nL 99.945121 28.39681 \r\nL 101.525787 28.180624 \r\nL 103.340625 28.174175 \r\nL 104.92129 26.465909 \r\nL 106.501956 26.941464 \r\nL 108.082621 27.61799 \r\nL 109.663287 27.744545 \r\nL 111.478125 27.478619 \r\nL 113.05879 26.224073 \r\nL 119.381452 26.453177 \r\nL 119.615625 26.648088 \r\nL 121.19629 26.184001 \r\nL 127.753125 25.992479 \r\nL 129.33379 25.737579 \r\nL 130.914456 26.459329 \r\nL 132.495121 26.171313 \r\nL 134.075787 26.088612 \r\nL 135.890625 25.639804 \r\nL 137.47129 24.431534 \r\nL 139.051956 25.645115 \r\nL 142.213287 25.095447 \r\nL 144.028125 25.059982 \r\nL 145.60879 24.117872 \r\nL 147.189456 23.940686 \r\nL 148.770121 24.286447 \r\nL 150.350787 24.31055 \r\nL 152.165625 24.395395 \r\nL 153.74629 24.24065 \r\nL 155.326956 24.292036 \r\nL 156.907621 24.0914 \r\nL 158.488287 24.068248 \r\nL 160.303125 24.142478 \r\nL 161.88379 23.608366 \r\nL 163.464456 23.534562 \r\nL 165.045121 23.336283 \r\nL 168.206452 23.485116 \r\nL 168.440625 23.542645 \r\nL 170.02129 24.757955 \r\nL 171.601956 23.632267 \r\nL 173.182621 23.885074 \r\nL 174.763287 23.590015 \r\nL 176.578125 23.519056 \r\nL 178.15879 22.85439 \r\nL 179.739456 23.294118 \r\nL 182.900787 23.160806 \r\nL 184.715625 22.927022 \r\nL 186.29629 21.712862 \r\nL 187.876956 22.491319 \r\nL 189.457621 22.740112 \r\nL 196.014456 22.83591 \r\nL 197.595121 22.431804 \r\nL 199.175787 22.719602 \r\nL 200.990625 22.632482 \r\nL 202.57129 21.928696 \r\nL 205.732621 22.242267 \r\nL 207.313287 22.004933 \r\nL 209.128125 22.001426 \r\nL 210.70879 22.591586 \r\nL 212.289456 22.441995 \r\nL 213.870121 22.145746 \r\nL 217.265625 22.004802 \r\nL 218.84629 21.772854 \r\nL 220.426956 22.049067 \r\nL 225.403125 21.860158 \r\nL 225.403125 21.860158 \r\n\" style=\"fill:none;stroke:#bf00bf;stroke-dasharray:5.55,2.4;stroke-dashoffset:0;stroke-width:1.5;\"/>\r\n   </g>\r\n   <g id=\"line2d_25\">\r\n    <path clip-path=\"url(#p9e01986655)\" d=\"M 30.103125 39.176416 \r\nL 38.240625 35.51783 \r\nL 46.378125 33.08569 \r\nL 54.515625 31.824867 \r\nL 62.653125 32.16387 \r\nL 70.790625 31.028537 \r\nL 78.928125 30.948245 \r\nL 87.065625 30.66903 \r\nL 95.203125 30.346078 \r\nL 103.340625 30.357898 \r\nL 111.478125 30.543184 \r\nL 119.615625 30.924228 \r\nL 127.753125 30.296185 \r\nL 135.890625 30.143251 \r\nL 144.028125 29.883686 \r\nL 152.165625 29.926864 \r\nL 160.303125 30.119305 \r\nL 168.440625 30.219163 \r\nL 176.578125 30.009869 \r\nL 184.715625 30.201907 \r\nL 192.853125 30.267904 \r\nL 200.990625 29.763452 \r\nL 209.128125 29.944936 \r\nL 217.265625 30.443087 \r\nL 225.403125 29.829142 \r\n\" style=\"fill:none;stroke:#008000;stroke-dasharray:9.6,2.4,1.5,2.4;stroke-dashoffset:0;stroke-width:1.5;\"/>\r\n   </g>\r\n   <g id=\"patch_3\">\r\n    <path d=\"M 30.103125 146.899219 \r\nL 30.103125 10.999219 \r\n\" style=\"fill:none;stroke:#000000;stroke-linecap:square;stroke-linejoin:miter;stroke-width:0.8;\"/>\r\n   </g>\r\n   <g id=\"patch_4\">\r\n    <path d=\"M 225.403125 146.899219 \r\nL 225.403125 10.999219 \r\n\" style=\"fill:none;stroke:#000000;stroke-linecap:square;stroke-linejoin:miter;stroke-width:0.8;\"/>\r\n   </g>\r\n   <g id=\"patch_5\">\r\n    <path d=\"M 30.103125 146.899219 \r\nL 225.403125 146.899219 \r\n\" style=\"fill:none;stroke:#000000;stroke-linecap:square;stroke-linejoin:miter;stroke-width:0.8;\"/>\r\n   </g>\r\n   <g id=\"patch_6\">\r\n    <path d=\"M 30.103125 10.999219 \r\nL 225.403125 10.999219 \r\n\" style=\"fill:none;stroke:#000000;stroke-linecap:square;stroke-linejoin:miter;stroke-width:0.8;\"/>\r\n   </g>\r\n   <g id=\"legend_1\">\r\n    <g id=\"patch_7\">\r\n     <path d=\"M 140.634375 102.466406 \r\nL 218.403125 102.466406 \r\nQ 220.403125 102.466406 220.403125 100.466406 \r\nL 220.403125 57.432031 \r\nQ 220.403125 55.432031 218.403125 55.432031 \r\nL 140.634375 55.432031 \r\nQ 138.634375 55.432031 138.634375 57.432031 \r\nL 138.634375 100.466406 \r\nQ 138.634375 102.466406 140.634375 102.466406 \r\nz\r\n\" style=\"fill:#ffffff;opacity:0.8;stroke:#cccccc;stroke-linejoin:miter;\"/>\r\n    </g>\r\n    <g id=\"line2d_26\">\r\n     <path d=\"M 142.634375 63.530469 \r\nL 162.634375 63.530469 \r\n\" style=\"fill:none;stroke:#1f77b4;stroke-linecap:square;stroke-width:1.5;\"/>\r\n    </g>\r\n    <g id=\"line2d_27\"/>\r\n    <g id=\"text_13\">\r\n     <!-- train loss -->\r\n     <g transform=\"translate(170.634375 67.030469)scale(0.1 -0.1)\">\r\n      <defs>\r\n       <path d=\"M 1172 4494 \r\nL 1172 3500 \r\nL 2356 3500 \r\nL 2356 3053 \r\nL 1172 3053 \r\nL 1172 1153 \r\nQ 1172 725 1289 603 \r\nQ 1406 481 1766 481 \r\nL 2356 481 \r\nL 2356 0 \r\nL 1766 0 \r\nQ 1100 0 847 248 \r\nQ 594 497 594 1153 \r\nL 594 3053 \r\nL 172 3053 \r\nL 172 3500 \r\nL 594 3500 \r\nL 594 4494 \r\nL 1172 4494 \r\nz\r\n\" id=\"DejaVuSans-74\" transform=\"scale(0.015625)\"/>\r\n       <path d=\"M 2631 2963 \r\nQ 2534 3019 2420 3045 \r\nQ 2306 3072 2169 3072 \r\nQ 1681 3072 1420 2755 \r\nQ 1159 2438 1159 1844 \r\nL 1159 0 \r\nL 581 0 \r\nL 581 3500 \r\nL 1159 3500 \r\nL 1159 2956 \r\nQ 1341 3275 1631 3429 \r\nQ 1922 3584 2338 3584 \r\nQ 2397 3584 2469 3576 \r\nQ 2541 3569 2628 3553 \r\nL 2631 2963 \r\nz\r\n\" id=\"DejaVuSans-72\" transform=\"scale(0.015625)\"/>\r\n       <path d=\"M 2194 1759 \r\nQ 1497 1759 1228 1600 \r\nQ 959 1441 959 1056 \r\nQ 959 750 1161 570 \r\nQ 1363 391 1709 391 \r\nQ 2188 391 2477 730 \r\nQ 2766 1069 2766 1631 \r\nL 2766 1759 \r\nL 2194 1759 \r\nz\r\nM 3341 1997 \r\nL 3341 0 \r\nL 2766 0 \r\nL 2766 531 \r\nQ 2569 213 2275 61 \r\nQ 1981 -91 1556 -91 \r\nQ 1019 -91 701 211 \r\nQ 384 513 384 1019 \r\nQ 384 1609 779 1909 \r\nQ 1175 2209 1959 2209 \r\nL 2766 2209 \r\nL 2766 2266 \r\nQ 2766 2663 2505 2880 \r\nQ 2244 3097 1772 3097 \r\nQ 1472 3097 1187 3025 \r\nQ 903 2953 641 2809 \r\nL 641 3341 \r\nQ 956 3463 1253 3523 \r\nQ 1550 3584 1831 3584 \r\nQ 2591 3584 2966 3190 \r\nQ 3341 2797 3341 1997 \r\nz\r\n\" id=\"DejaVuSans-61\" transform=\"scale(0.015625)\"/>\r\n       <path d=\"M 603 3500 \r\nL 1178 3500 \r\nL 1178 0 \r\nL 603 0 \r\nL 603 3500 \r\nz\r\nM 603 4863 \r\nL 1178 4863 \r\nL 1178 4134 \r\nL 603 4134 \r\nL 603 4863 \r\nz\r\n\" id=\"DejaVuSans-69\" transform=\"scale(0.015625)\"/>\r\n       <path d=\"M 3513 2113 \r\nL 3513 0 \r\nL 2938 0 \r\nL 2938 2094 \r\nQ 2938 2591 2744 2837 \r\nQ 2550 3084 2163 3084 \r\nQ 1697 3084 1428 2787 \r\nQ 1159 2491 1159 1978 \r\nL 1159 0 \r\nL 581 0 \r\nL 581 3500 \r\nL 1159 3500 \r\nL 1159 2956 \r\nQ 1366 3272 1645 3428 \r\nQ 1925 3584 2291 3584 \r\nQ 2894 3584 3203 3211 \r\nQ 3513 2838 3513 2113 \r\nz\r\n\" id=\"DejaVuSans-6e\" transform=\"scale(0.015625)\"/>\r\n       <path id=\"DejaVuSans-20\" transform=\"scale(0.015625)\"/>\r\n       <path d=\"M 603 4863 \r\nL 1178 4863 \r\nL 1178 0 \r\nL 603 0 \r\nL 603 4863 \r\nz\r\n\" id=\"DejaVuSans-6c\" transform=\"scale(0.015625)\"/>\r\n       <path d=\"M 2834 3397 \r\nL 2834 2853 \r\nQ 2591 2978 2328 3040 \r\nQ 2066 3103 1784 3103 \r\nQ 1356 3103 1142 2972 \r\nQ 928 2841 928 2578 \r\nQ 928 2378 1081 2264 \r\nQ 1234 2150 1697 2047 \r\nL 1894 2003 \r\nQ 2506 1872 2764 1633 \r\nQ 3022 1394 3022 966 \r\nQ 3022 478 2636 193 \r\nQ 2250 -91 1575 -91 \r\nQ 1294 -91 989 -36 \r\nQ 684 19 347 128 \r\nL 347 722 \r\nQ 666 556 975 473 \r\nQ 1284 391 1588 391 \r\nQ 1994 391 2212 530 \r\nQ 2431 669 2431 922 \r\nQ 2431 1156 2273 1281 \r\nQ 2116 1406 1581 1522 \r\nL 1381 1569 \r\nQ 847 1681 609 1914 \r\nQ 372 2147 372 2553 \r\nQ 372 3047 722 3315 \r\nQ 1072 3584 1716 3584 \r\nQ 2034 3584 2315 3537 \r\nQ 2597 3491 2834 3397 \r\nz\r\n\" id=\"DejaVuSans-73\" transform=\"scale(0.015625)\"/>\r\n      </defs>\r\n      <use xlink:href=\"#DejaVuSans-74\"/>\r\n      <use x=\"39.208984\" xlink:href=\"#DejaVuSans-72\"/>\r\n      <use x=\"80.322266\" xlink:href=\"#DejaVuSans-61\"/>\r\n      <use x=\"141.601562\" xlink:href=\"#DejaVuSans-69\"/>\r\n      <use x=\"169.384766\" xlink:href=\"#DejaVuSans-6e\"/>\r\n      <use x=\"232.763672\" xlink:href=\"#DejaVuSans-20\"/>\r\n      <use x=\"264.550781\" xlink:href=\"#DejaVuSans-6c\"/>\r\n      <use x=\"292.333984\" xlink:href=\"#DejaVuSans-6f\"/>\r\n      <use x=\"353.515625\" xlink:href=\"#DejaVuSans-73\"/>\r\n      <use x=\"405.615234\" xlink:href=\"#DejaVuSans-73\"/>\r\n     </g>\r\n    </g>\r\n    <g id=\"line2d_28\">\r\n     <path d=\"M 142.634375 78.208594 \r\nL 162.634375 78.208594 \r\n\" style=\"fill:none;stroke:#bf00bf;stroke-dasharray:5.55,2.4;stroke-dashoffset:0;stroke-width:1.5;\"/>\r\n    </g>\r\n    <g id=\"line2d_29\"/>\r\n    <g id=\"text_14\">\r\n     <!-- train acc -->\r\n     <g transform=\"translate(170.634375 81.708594)scale(0.1 -0.1)\">\r\n      <use xlink:href=\"#DejaVuSans-74\"/>\r\n      <use x=\"39.208984\" xlink:href=\"#DejaVuSans-72\"/>\r\n      <use x=\"80.322266\" xlink:href=\"#DejaVuSans-61\"/>\r\n      <use x=\"141.601562\" xlink:href=\"#DejaVuSans-69\"/>\r\n      <use x=\"169.384766\" xlink:href=\"#DejaVuSans-6e\"/>\r\n      <use x=\"232.763672\" xlink:href=\"#DejaVuSans-20\"/>\r\n      <use x=\"264.550781\" xlink:href=\"#DejaVuSans-61\"/>\r\n      <use x=\"325.830078\" xlink:href=\"#DejaVuSans-63\"/>\r\n      <use x=\"380.810547\" xlink:href=\"#DejaVuSans-63\"/>\r\n     </g>\r\n    </g>\r\n    <g id=\"line2d_30\">\r\n     <path d=\"M 142.634375 92.886719 \r\nL 162.634375 92.886719 \r\n\" style=\"fill:none;stroke:#008000;stroke-dasharray:9.6,2.4,1.5,2.4;stroke-dashoffset:0;stroke-width:1.5;\"/>\r\n    </g>\r\n    <g id=\"line2d_31\"/>\r\n    <g id=\"text_15\">\r\n     <!-- test acc -->\r\n     <g transform=\"translate(170.634375 96.386719)scale(0.1 -0.1)\">\r\n      <use xlink:href=\"#DejaVuSans-74\"/>\r\n      <use x=\"39.208984\" xlink:href=\"#DejaVuSans-65\"/>\r\n      <use x=\"100.732422\" xlink:href=\"#DejaVuSans-73\"/>\r\n      <use x=\"152.832031\" xlink:href=\"#DejaVuSans-74\"/>\r\n      <use x=\"192.041016\" xlink:href=\"#DejaVuSans-20\"/>\r\n      <use x=\"223.828125\" xlink:href=\"#DejaVuSans-61\"/>\r\n      <use x=\"285.107422\" xlink:href=\"#DejaVuSans-63\"/>\r\n      <use x=\"340.087891\" xlink:href=\"#DejaVuSans-63\"/>\r\n     </g>\r\n    </g>\r\n   </g>\r\n  </g>\r\n </g>\r\n <defs>\r\n  <clipPath id=\"p9e01986655\">\r\n   <rect height=\"135.9\" width=\"195.3\" x=\"30.103125\" y=\"10.999219\"/>\r\n  </clipPath>\r\n </defs>\r\n</svg>\r\n",
      "text/plain": [
       "<Figure size 252x180 with 1 Axes>"
      ]
     },
     "metadata": {
      "needs_background": "light"
     },
     "output_type": "display_data"
    }
   ],
   "source": [
    "def loss(inputs, targets):\n",
    "    return F.cross_entropy(inputs, targets, reduction='none').mean(1).mean(1)\n",
    "\n",
    "num_epochs, lr, wd, devices = 25, 0.001, 1e-3, d2l.try_all_gpus()\n",
    "trainer = torch.optim.SGD(net.parameters(), lr=lr, weight_decay=wd)\n",
    "d2l.train_ch13(net, train_iter, test_iter, loss, trainer, num_epochs, devices)"
   ]
  },
  {
   "cell_type": "markdown",
   "metadata": {
    "origin_pos": 35
   },
   "source": [
    "## [**Prediction**]\n",
    "\n",
    "\n",
    "When predicting, we need to standardize the input image\n",
    "in each channel and transform the image into the four-dimensional input format required by the CNN.\n"
   ]
  },
  {
   "cell_type": "code",
   "execution_count": 9,
   "metadata": {
    "origin_pos": 37,
    "tab": [
     "pytorch"
    ]
   },
   "outputs": [],
   "source": [
    "def predict(img):\n",
    "    X = test_iter.dataset.normalize_image(img).unsqueeze(0)\n",
    "    pred = net(X.to(devices[0])).argmax(dim=1)\n",
    "    return pred.reshape(pred.shape[1], pred.shape[2])"
   ]
  },
  {
   "cell_type": "markdown",
   "metadata": {
    "origin_pos": 38
   },
   "source": [
    "To [**visualize the predicted class**] of each pixel, we map the predicted class back to its label color in the dataset.\n"
   ]
  },
  {
   "cell_type": "code",
   "execution_count": 10,
   "metadata": {
    "origin_pos": 40,
    "tab": [
     "pytorch"
    ]
   },
   "outputs": [],
   "source": [
    "def label2image(pred):\n",
    "    colormap = torch.tensor(d2l.VOC_COLORMAP, device=devices[0])\n",
    "    X = pred.long()\n",
    "    return colormap[X, :]"
   ]
  },
  {
   "cell_type": "markdown",
   "metadata": {
    "origin_pos": 41
   },
   "source": [
    "Images in the test dataset vary in size and shape.\n",
    "Since the model uses a transposed convolutional layer with stride of 32,\n",
    "when the height or width of an input image is indivisible by 32,\n",
    "the output height or width of the\n",
    "transposed convolutional layer will deviate from the shape of the input image.\n",
    "In order to address this issue,\n",
    "we can crop multiple rectangular areas with height and width that are integer multiples of 32 in the image,\n",
    "and perform forward propagation\n",
    "on the pixels in these areas separately.\n",
    "Note that\n",
    "the union of these rectangular areas needs to completely cover the input image.\n",
    "When a pixel is covered by multiple rectangular areas,\n",
    "the average of the transposed convolution outputs\n",
    "in separate areas for this same pixel\n",
    "can be input to\n",
    "the softmax operation\n",
    "to predict the class.\n",
    "\n",
    "\n",
    "For simplicity, we only read a few larger test images,\n",
    "and crop a $320\\times480$ area for prediction starting from the upper-left corner of an image.\n",
    "For these test images, we\n",
    "print their cropped areas,\n",
    "prediction results,\n",
    "and ground-truth row by row.\n"
   ]
  },
  {
   "cell_type": "code",
   "execution_count": 11,
   "metadata": {
    "origin_pos": 43,
    "tab": [
     "pytorch"
    ]
   },
   "outputs": [
    {
     "data": {
      "image/svg+xml": "<?xml version=\"1.0\" encoding=\"utf-8\" standalone=\"no\"?>\r\n<!DOCTYPE svg PUBLIC \"-//W3C//DTD SVG 1.1//EN\"\r\n  \"http://www.w3.org/Graphics/SVG/1.1/DTD/svg11.dtd\">\r\n<svg height=\"312.82624pt\" version=\"1.1\" viewBox=\"0 0 464.3 312.82624\" width=\"464.3pt\" xmlns=\"http://www.w3.org/2000/svg\" xmlns:xlink=\"http://www.w3.org/1999/xlink\">\r\n <metadata>\r\n  <rdf:RDF xmlns:cc=\"http://creativecommons.org/ns#\" xmlns:dc=\"http://purl.org/dc/elements/1.1/\" xmlns:rdf=\"http://www.w3.org/1999/02/22-rdf-syntax-ns#\">\r\n   <cc:Work>\r\n    <dc:type rdf:resource=\"http://purl.org/dc/dcmitype/StillImage\"/>\r\n    <dc:date>2021-12-08T22:25:57.816305</dc:date>\r\n    <dc:format>image/svg+xml</dc:format>\r\n    <dc:creator>\r\n     <cc:Agent>\r\n      <dc:title>Matplotlib v3.4.3, https://matplotlib.org/</dc:title>\r\n     </cc:Agent>\r\n    </dc:creator>\r\n   </cc:Work>\r\n  </rdf:RDF>\r\n </metadata>\r\n <defs>\r\n  <style type=\"text/css\">*{stroke-linecap:butt;stroke-linejoin:round;}</style>\r\n </defs>\r\n <g id=\"figure_1\">\r\n  <g id=\"patch_1\">\r\n   <path d=\"M 0 312.82624 \r\nL 464.3 312.82624 \r\nL 464.3 0 \r\nL 0 0 \r\nz\r\n\" style=\"fill:none;\"/>\r\n  </g>\r\n  <g id=\"axes_1\">\r\n   <g id=\"patch_2\">\r\n    <path d=\"M 10.7 71.895652 \r\nL 107.743478 71.895652 \r\nL 107.743478 7.2 \r\nL 10.7 7.2 \r\nz\r\n\" style=\"fill:#ffffff;\"/>\r\n   </g>\r\n   <g clip-path=\"url(#p0a45857f73)\">\r\n    <image height=\"65\" id=\"image59fb34800c\" transform=\"scale(1 -1)translate(0 -65)\" width=\"98\" x=\"10.7\" xlink:href=\"data:image/png;base64,\r\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\" y=\"-6.895652\"/>\r\n   </g>\r\n   <g id=\"patch_3\">\r\n    <path d=\"M 10.7 71.895652 \r\nL 10.7 7.2 \r\n\" style=\"fill:none;stroke:#000000;stroke-linecap:square;stroke-linejoin:miter;stroke-width:0.8;\"/>\r\n   </g>\r\n   <g id=\"patch_4\">\r\n    <path d=\"M 107.743478 71.895652 \r\nL 107.743478 7.2 \r\n\" style=\"fill:none;stroke:#000000;stroke-linecap:square;stroke-linejoin:miter;stroke-width:0.8;\"/>\r\n   </g>\r\n   <g id=\"patch_5\">\r\n    <path d=\"M 10.7 71.895652 \r\nL 107.743478 71.895652 \r\n\" style=\"fill:none;stroke:#000000;stroke-linecap:square;stroke-linejoin:miter;stroke-width:0.8;\"/>\r\n   </g>\r\n   <g id=\"patch_6\">\r\n    <path d=\"M 10.7 7.2 \r\nL 107.743478 7.2 \r\n\" style=\"fill:none;stroke:#000000;stroke-linecap:square;stroke-linejoin:miter;stroke-width:0.8;\"/>\r\n   </g>\r\n  </g>\r\n  <g id=\"axes_2\">\r\n   <g id=\"patch_7\">\r\n    <path d=\"M 127.152174 71.895652 \r\nL 224.195652 71.895652 \r\nL 224.195652 7.2 \r\nL 127.152174 7.2 \r\nz\r\n\" style=\"fill:#ffffff;\"/>\r\n   </g>\r\n   <g clip-path=\"url(#p28dc8cee1e)\">\r\n    <image height=\"65\" id=\"image782f3c41c5\" transform=\"scale(1 -1)translate(0 -65)\" width=\"98\" x=\"127.152174\" xlink:href=\"data:image/png;base64,\r\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\" y=\"-6.895652\"/>\r\n   </g>\r\n   <g id=\"patch_8\">\r\n    <path d=\"M 127.152174 71.895652 \r\nL 127.152174 7.2 \r\n\" style=\"fill:none;stroke:#000000;stroke-linecap:square;stroke-linejoin:miter;stroke-width:0.8;\"/>\r\n   </g>\r\n   <g id=\"patch_9\">\r\n    <path d=\"M 224.195652 71.895652 \r\nL 224.195652 7.2 \r\n\" style=\"fill:none;stroke:#000000;stroke-linecap:square;stroke-linejoin:miter;stroke-width:0.8;\"/>\r\n   </g>\r\n   <g id=\"patch_10\">\r\n    <path d=\"M 127.152174 71.895652 \r\nL 224.195652 71.895652 \r\n\" style=\"fill:none;stroke:#000000;stroke-linecap:square;stroke-linejoin:miter;stroke-width:0.8;\"/>\r\n   </g>\r\n   <g id=\"patch_11\">\r\n    <path d=\"M 127.152174 7.2 \r\nL 224.195652 7.2 \r\n\" style=\"fill:none;stroke:#000000;stroke-linecap:square;stroke-linejoin:miter;stroke-width:0.8;\"/>\r\n   </g>\r\n  </g>\r\n  <g id=\"axes_3\">\r\n   <g id=\"patch_12\">\r\n    <path d=\"M 243.604348 71.895652 \r\nL 340.647826 71.895652 \r\nL 340.647826 7.2 \r\nL 243.604348 7.2 \r\nz\r\n\" style=\"fill:#ffffff;\"/>\r\n   </g>\r\n   <g clip-path=\"url(#pd656daa4c9)\">\r\n    <image height=\"65\" id=\"imagea704a1334c\" transform=\"scale(1 -1)translate(0 -65)\" width=\"98\" x=\"243.604348\" xlink:href=\"data:image/png;base64,\r\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\" y=\"-6.895652\"/>\r\n   </g>\r\n   <g id=\"patch_13\">\r\n    <path d=\"M 243.604348 71.895652 \r\nL 243.604348 7.2 \r\n\" style=\"fill:none;stroke:#000000;stroke-linecap:square;stroke-linejoin:miter;stroke-width:0.8;\"/>\r\n   </g>\r\n   <g id=\"patch_14\">\r\n    <path d=\"M 340.647826 71.895652 \r\nL 340.647826 7.2 \r\n\" style=\"fill:none;stroke:#000000;stroke-linecap:square;stroke-linejoin:miter;stroke-width:0.8;\"/>\r\n   </g>\r\n   <g id=\"patch_15\">\r\n    <path d=\"M 243.604348 71.895652 \r\nL 340.647826 71.895652 \r\n\" style=\"fill:none;stroke:#000000;stroke-linecap:square;stroke-linejoin:miter;stroke-width:0.8;\"/>\r\n   </g>\r\n   <g id=\"patch_16\">\r\n    <path d=\"M 243.604348 7.2 \r\nL 340.647826 7.2 \r\n\" style=\"fill:none;stroke:#000000;stroke-linecap:square;stroke-linejoin:miter;stroke-width:0.8;\"/>\r\n   </g>\r\n  </g>\r\n  <g id=\"axes_4\">\r\n   <g id=\"patch_17\">\r\n    <path d=\"M 360.056522 71.895652 \r\nL 457.1 71.895652 \r\nL 457.1 7.2 \r\nL 360.056522 7.2 \r\nz\r\n\" style=\"fill:#ffffff;\"/>\r\n   </g>\r\n   <g clip-path=\"url(#p93f1606bec)\">\r\n    <image height=\"65\" id=\"image0416e59456\" transform=\"scale(1 -1)translate(0 -65)\" width=\"98\" x=\"360.056522\" xlink:href=\"data:image/png;base64,\r\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\" y=\"-6.895652\"/>\r\n   </g>\r\n   <g id=\"patch_18\">\r\n    <path d=\"M 360.056522 71.895652 \r\nL 360.056522 7.2 \r\n\" style=\"fill:none;stroke:#000000;stroke-linecap:square;stroke-linejoin:miter;stroke-width:0.8;\"/>\r\n   </g>\r\n   <g id=\"patch_19\">\r\n    <path d=\"M 457.1 71.895652 \r\nL 457.1 7.2 \r\n\" style=\"fill:none;stroke:#000000;stroke-linecap:square;stroke-linejoin:miter;stroke-width:0.8;\"/>\r\n   </g>\r\n   <g id=\"patch_20\">\r\n    <path d=\"M 360.056522 71.895652 \r\nL 457.1 71.895652 \r\n\" style=\"fill:none;stroke:#000000;stroke-linecap:square;stroke-linejoin:miter;stroke-width:0.8;\"/>\r\n   </g>\r\n   <g id=\"patch_21\">\r\n    <path d=\"M 360.056522 7.2 \r\nL 457.1 7.2 \r\n\" style=\"fill:none;stroke:#000000;stroke-linecap:square;stroke-linejoin:miter;stroke-width:0.8;\"/>\r\n   </g>\r\n  </g>\r\n  <g id=\"axes_5\">\r\n   <g id=\"patch_22\">\r\n    <path d=\"M 10.7 187.010946 \r\nL 107.743478 187.010946 \r\nL 107.743478 122.315294 \r\nL 10.7 122.315294 \r\nz\r\n\" style=\"fill:#ffffff;\"/>\r\n   </g>\r\n   <g clip-path=\"url(#p176d4881a2)\">\r\n    <image height=\"65\" id=\"image4bb7d51388\" transform=\"scale(1 -1)translate(0 -65)\" width=\"98\" x=\"10.7\" xlink:href=\"data:image/png;base64,\r\niVBORw0KGgoAAAANSUhEUgAAAGIAAABBCAYAAAAqnXGWAAADVUlEQVR4nO3a32scVRTA8c9uNiS1tWLtjyAq/gIhRSrigw8++uJfK6jvvoqoDxZ8ECqpLbakaWuiTZu0Zn04M2QT8rPZZE6y5wvD7CY7996Z79x7554zPQwVndPvugFFUCKSUCKSUCKSUCKSUCKSUCKSUCKSUCKSUCKSUCKSUCKSUCKSUCKSUCKScGwiBsdZ+BlkMI4CZvEqLuEqruB1rOEObmMR/2Jjj3Jm8BzrR23UKaTnJTJ0PVzEx5hvPs9iauT/LcNme4ol/Il7uIDzzbGj+3Xcx194gEd40vz9v8M2dBemmja+GFN54+BQIs7hLdzAu+LC9fY6YAdGK9vr2PZ3z7GKFdwVMheb70/FxTzICcxgDh/hnabun/Ebnh28+cfGviLO4W1xAu+LO7fv8ALGxVD0jHXRU/4Woh42+/b7qmjjVbwn2n7JZm8ghskH+BE3dTsk7ipiFp/gM3ECPd1d/IPSnsgLIauHafu3fUMMmd83+y7epthRxBy+stmFJ4GhGAZv4icxj50kW0T0xQT8pZhMJ0XCKEP8gm9PuN7BvJh0iZ5wwxieaU8xPSx3UO/gC7zZQcWZWe2gzlr8bmNDPBqfNP3XOqg0M0Md9Yjz+/9motgwvhX8YZjkeXkLQxEb+0Es8k6aEiEkLOE73S3oBhsme8Ye4g98o5vH1pb+UoeVd80Qt/C1biXAIFMoeFxsH1p2ihCMSnhy7C3an1M3R4wG9pZFTGj73fxPsw1sJqmuiMjxjBCzKMIYGSTA4FcsNF8u4wPdhrm30yaWnomLdk9MqHfxWDzpHIRpEcp5Q+RUftf9cDTKlqDfANfxOa7pJvTdNmZN5BgWxIW/LxJBZzWNumMYfAYf4lORFGpj+sdF+wz/WNzpt20OOWdxDtuJPTN0U6JnzIvcxEWRsZt2tEfeNsu2Il4uuCUErJicC7+dA+es+6KnXBBzyVyzXRNiBs2+LbQteCiGkzXxFsdDsXhaEBNmhnxxBl7qLY7Rg9u3N2bxihB2udm3K9ZlMb6v2f11mknnSCKK8THJ0Y1UlIgklIgklIgklIgklIgklIgklIgklIgklIgklIgklIgklIgklIgklIgklIgklIgklIgklIgklIgklIgklIgklIgk/A+qhLDPXn3UnQAAAABJRU5ErkJggg==\" y=\"-122.010946\"/>\r\n   </g>\r\n   <g id=\"patch_23\">\r\n    <path d=\"M 10.7 187.010946 \r\nL 10.7 122.315294 \r\n\" style=\"fill:none;stroke:#000000;stroke-linecap:square;stroke-linejoin:miter;stroke-width:0.8;\"/>\r\n   </g>\r\n   <g id=\"patch_24\">\r\n    <path d=\"M 107.743478 187.010946 \r\nL 107.743478 122.315294 \r\n\" style=\"fill:none;stroke:#000000;stroke-linecap:square;stroke-linejoin:miter;stroke-width:0.8;\"/>\r\n   </g>\r\n   <g id=\"patch_25\">\r\n    <path d=\"M 10.7 187.010946 \r\nL 107.743478 187.010946 \r\n\" style=\"fill:none;stroke:#000000;stroke-linecap:square;stroke-linejoin:miter;stroke-width:0.8;\"/>\r\n   </g>\r\n   <g id=\"patch_26\">\r\n    <path d=\"M 10.7 122.315294 \r\nL 107.743478 122.315294 \r\n\" style=\"fill:none;stroke:#000000;stroke-linecap:square;stroke-linejoin:miter;stroke-width:0.8;\"/>\r\n   </g>\r\n  </g>\r\n  <g id=\"axes_6\">\r\n   <g id=\"patch_27\">\r\n    <path d=\"M 127.152174 187.010946 \r\nL 224.195652 187.010946 \r\nL 224.195652 122.315294 \r\nL 127.152174 122.315294 \r\nz\r\n\" style=\"fill:#ffffff;\"/>\r\n   </g>\r\n   <g clip-path=\"url(#pe01a3988f8)\">\r\n    <image height=\"65\" id=\"image1c06e276ac\" transform=\"scale(1 -1)translate(0 -65)\" width=\"98\" x=\"127.152174\" xlink:href=\"data:image/png;base64,\r\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\" y=\"-122.010946\"/>\r\n   </g>\r\n   <g id=\"patch_28\">\r\n    <path d=\"M 127.152174 187.010946 \r\nL 127.152174 122.315294 \r\n\" style=\"fill:none;stroke:#000000;stroke-linecap:square;stroke-linejoin:miter;stroke-width:0.8;\"/>\r\n   </g>\r\n   <g id=\"patch_29\">\r\n    <path d=\"M 224.195652 187.010946 \r\nL 224.195652 122.315294 \r\n\" style=\"fill:none;stroke:#000000;stroke-linecap:square;stroke-linejoin:miter;stroke-width:0.8;\"/>\r\n   </g>\r\n   <g id=\"patch_30\">\r\n    <path d=\"M 127.152174 187.010946 \r\nL 224.195652 187.010946 \r\n\" style=\"fill:none;stroke:#000000;stroke-linecap:square;stroke-linejoin:miter;stroke-width:0.8;\"/>\r\n   </g>\r\n   <g id=\"patch_31\">\r\n    <path d=\"M 127.152174 122.315294 \r\nL 224.195652 122.315294 \r\n\" style=\"fill:none;stroke:#000000;stroke-linecap:square;stroke-linejoin:miter;stroke-width:0.8;\"/>\r\n   </g>\r\n  </g>\r\n  <g id=\"axes_7\">\r\n   <g id=\"patch_32\">\r\n    <path d=\"M 243.604348 187.010946 \r\nL 340.647826 187.010946 \r\nL 340.647826 122.315294 \r\nL 243.604348 122.315294 \r\nz\r\n\" style=\"fill:#ffffff;\"/>\r\n   </g>\r\n   <g clip-path=\"url(#p440ee77414)\">\r\n    <image height=\"65\" id=\"image202bf1b87d\" transform=\"scale(1 -1)translate(0 -65)\" width=\"98\" x=\"243.604348\" xlink:href=\"data:image/png;base64,\r\niVBORw0KGgoAAAANSUhEUgAAAGIAAABBCAYAAAAqnXGWAAACUElEQVR4nO2XTU9TQRSGn9pSGolgjKCigQRN3LjRhIQFO/+pa7f+C3+BCcQYEmKIEW4RNECvizNNS9NEnAJ9h75P0tzbj7n33PPMnJ5pADVm6tybdgAmsAgRLEIEixDBIkRoTTsAPZrpdR/oAEvAMvA4ve8BB+l4BJwAFfCdSRpQi2AOeAisAmvACiFhgRDST1FjzNh+4k+Bj8BudhQNZm4f0QQWgWfAK+A5IaLN+GRfhRr4CXwADrOuMEMiloE3RPIfAfPE4+cmf5Qa+Ax8yhp9B0pTi6jdAL+JhFwMfb8IvAM2iZJzXYkfx1n2yMJFPAXeE+WlBrrEn+gh8IcoQ+uEjJsUQLrvTvboQkV0gLfANpdn+UI6rk4hpgrYzx5dmIgmUeO3iVWgtA3aI1rZPAoR0QBeAFvAa0LITZea/6EHfJnoCgWImCdWwCaDTue2qYnZ3k0xdFIc7fR9F/g60R0KEPGAWA1zt3Cvfid/DvxisGP+RpSeKsXRJsriErE6zwgZ+RSyj2gBG8BLQspV9gH1yPloa3lCJPyI6LAO0m9+EJuzKn3eu5Yn+BeFiBimRaySFaJ9fcJARkXMZIgZepzOe0Ryhx/1lBBxgUIKChRxN1Hq/2YaixDBIkSwCBEsQgSLEMEiRLAIESxCBIsQwSJEsAgRLEIEixDBIkSwCBEsQgSLEMEiRLAIESxCBIsQwSJEsAgRLEIEixDBIkSwCBEsQgSLEMEiRLAIESxCBIsQwSJEsAgRLEIEixDBIkSwCBEsQgSLEMEiRLAIESxChL8+/lSenJrOngAAAABJRU5ErkJggg==\" y=\"-122.010946\"/>\r\n   </g>\r\n   <g id=\"patch_33\">\r\n    <path d=\"M 243.604348 187.010946 \r\nL 243.604348 122.315294 \r\n\" style=\"fill:none;stroke:#000000;stroke-linecap:square;stroke-linejoin:miter;stroke-width:0.8;\"/>\r\n   </g>\r\n   <g id=\"patch_34\">\r\n    <path d=\"M 340.647826 187.010946 \r\nL 340.647826 122.315294 \r\n\" style=\"fill:none;stroke:#000000;stroke-linecap:square;stroke-linejoin:miter;stroke-width:0.8;\"/>\r\n   </g>\r\n   <g id=\"patch_35\">\r\n    <path d=\"M 243.604348 187.010946 \r\nL 340.647826 187.010946 \r\n\" style=\"fill:none;stroke:#000000;stroke-linecap:square;stroke-linejoin:miter;stroke-width:0.8;\"/>\r\n   </g>\r\n   <g id=\"patch_36\">\r\n    <path d=\"M 243.604348 122.315294 \r\nL 340.647826 122.315294 \r\n\" style=\"fill:none;stroke:#000000;stroke-linecap:square;stroke-linejoin:miter;stroke-width:0.8;\"/>\r\n   </g>\r\n  </g>\r\n  <g id=\"axes_8\">\r\n   <g id=\"patch_37\">\r\n    <path d=\"M 360.056522 187.010946 \r\nL 457.1 187.010946 \r\nL 457.1 122.315294 \r\nL 360.056522 122.315294 \r\nz\r\n\" style=\"fill:#ffffff;\"/>\r\n   </g>\r\n   <g clip-path=\"url(#p8c81e67a63)\">\r\n    <image height=\"65\" id=\"image0ced461001\" transform=\"scale(1 -1)translate(0 -65)\" width=\"98\" x=\"360.056522\" xlink:href=\"data:image/png;base64,\r\niVBORw0KGgoAAAANSUhEUgAAAGIAAABBCAYAAAAqnXGWAAAFnElEQVR4nO2bTWwUZRiAn9nZzu52C122hZZSfgqlLaC0pIL8RUBEkAMYjYknYwwkJsbEixq9GS+ejfHggRj8O2BMJBE4KPKracqvhSoNIIWGpdDSlp8Wujs7Hl4qaKftLp3d+RjmOTWZaeftPDPf+833vp8GWPi4TsDtAHwEX4Qi+CIUwRehCL4IRQjm60IFIZhcBXMaYWotmEnovgT9N6A3AX1X4dZ16O8F6zGcx+VURNCAstlQswzmLoXJMyEYAk27f45lARakBmHgJlw4CUd3wqVWSKdyGZ1aaOTgOyIyAeatgvrnoaJWhDx480fDsiB1F84dgRN74PxRGBxwOkL1cEyEFoCSSliwBhY+B5OmQWCcGchMwbULcOwnOL4bkneciFRNxi0iFIVZDfL0Vy2C8ITMn/5MSZvw/cfQus/Zv6sSD50jQlFYuA4Wb4aS6aDnMNsEdJhV74v4DwVhSbzLXoFp88Y//GRK2RyRbXo0gWcswoiIgKUvQ0Vdbt8AO0pnQHQS3LiW3+vmizFvpxaQHLD6daicL8OE0zkgE8JFMKniMRVRWAyrXoNFG2VIckPAEAEdyquh/aR7MeSSEUf4UBRe/ACWvCTDkpsSQK5fu1xi8SIjiliwBqoXuy/gQWY1wJo35O3wGrYigiFoWK/ePxzQ4alN0LDB7Uicx1ZE+RyYWpPvUDKjIARrt8jU2UvYiqhZLutDqlIYg03vwsTJbkfiHMNE6EH5ilUpN/wfTYMpVbDuTRlGvcAwEdG4LFmojqbBgtVQv87tSJxhmAhzUIo2jwJaAIribkfhDMNE3LkNN7rcCCV70ilob3E7CmcY/kYk4erfboSSPd0dkGhzOwpnsJ01JdrUrxtbFpzeB3dvux2JM9iK6Dynfr34zi3486DbUTiHrYiehBTyVcWyoHW/lFG9gq2I2z1wsUXd4SltQssvYKXdjsQ5bEWkTTjwFdzqznc4mZFOycPiJUZcfb1yFn7+QvqNfHLPqBXnlr3w+w716sSBoJRNvcSoItIp2Pcl7P5UErgqOSOgQzTmdhTOMmbN2kzCkZ3w12GoWyEtNFNrsuve8xmbrBvMgobUjquXSENZ+dz8llKte32y37wPF07Yn6PrOrW1tVRVVdHU1ERXl/prNuPq9NMLpMm4YQM88SxEJuZOyNCw2HsFDn4tfbFp0/7c0tJStm7dimEYNDc3s2vXrtwE5SDj6k4yk3D5DFxuk/7U5a/C/GecLyqlTWj/A07/CmcOw80xptXxeBzDMNA0jfLycnRdxzRHsKYIzrSJWTLd/fETaPsN1r8ly9PjfTssC/o6Yf92OLU38ybkoqKif3+OxWIYhsHAgNot5Y7265kpuWHdHbD5PWmTfBgZQ635rQdk1tZzObvfj8ViaPcuHIlEKC4ufrxEDJFog+8+hOqnZZpZUgnxSphYKnkkaEhRx05S2pTllUPfyt6IkfLASISiML2hHzQTLJ1gyKK6MczVUXKKCuRko4odgSCECmXIisZEjBGWY+EJEK+QtaPzx2RVdbD/Ia6hw8Z3oPEFHa1jBSQaYcYhkiVHaPrBYv92dfdY5E1EPiidAVs+lz5ZLA2ShVDQD5pFfx9sexu6LrodpT157unOLTPrZWgCQLPAkKqRZcHZZsldquKZ7b0BHepW2h+z0nBK8WVzz4goLpPuP7sJwMBNuHIu/zFlg2dE1K2U3ax29HXK/m2V8YQIIwJPrh35m6UnASnFe7U8IaJyPkyZbX/MsqCrHeXnhp4Q0dspZV27eklvAo7vyX9M2eIJEdc7YMdHsq3LTN4XkkrC3m0iQ3U89UFXEIbKeVIrKasWAXs+ezTq7p4S8SBaALDUKe+OhWdFPGp4Ikd4AV+EIvgiFMEXoQi+CEXwRSiCL0IRfBGK4ItQBF+EIvgiFOEfZpSFX9VoOdUAAAAASUVORK5CYII=\" y=\"-122.010946\"/>\r\n   </g>\r\n   <g id=\"patch_38\">\r\n    <path d=\"M 360.056522 187.010946 \r\nL 360.056522 122.315294 \r\n\" style=\"fill:none;stroke:#000000;stroke-linecap:square;stroke-linejoin:miter;stroke-width:0.8;\"/>\r\n   </g>\r\n   <g id=\"patch_39\">\r\n    <path d=\"M 457.1 187.010946 \r\nL 457.1 122.315294 \r\n\" style=\"fill:none;stroke:#000000;stroke-linecap:square;stroke-linejoin:miter;stroke-width:0.8;\"/>\r\n   </g>\r\n   <g id=\"patch_40\">\r\n    <path d=\"M 360.056522 187.010946 \r\nL 457.1 187.010946 \r\n\" style=\"fill:none;stroke:#000000;stroke-linecap:square;stroke-linejoin:miter;stroke-width:0.8;\"/>\r\n   </g>\r\n   <g id=\"patch_41\">\r\n    <path d=\"M 360.056522 122.315294 \r\nL 457.1 122.315294 \r\n\" style=\"fill:none;stroke:#000000;stroke-linecap:square;stroke-linejoin:miter;stroke-width:0.8;\"/>\r\n   </g>\r\n  </g>\r\n  <g id=\"axes_9\">\r\n   <g id=\"patch_42\">\r\n    <path d=\"M 10.7 302.12624 \r\nL 107.743478 302.12624 \r\nL 107.743478 237.430588 \r\nL 10.7 237.430588 \r\nz\r\n\" style=\"fill:#ffffff;\"/>\r\n   </g>\r\n   <g clip-path=\"url(#p0bd3c11fb2)\">\r\n    <image height=\"65\" id=\"imageeacd6098c0\" transform=\"scale(1 -1)translate(0 -65)\" width=\"98\" x=\"10.7\" xlink:href=\"data:image/png;base64,\r\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\" y=\"-237.12624\"/>\r\n   </g>\r\n   <g id=\"patch_43\">\r\n    <path d=\"M 10.7 302.12624 \r\nL 10.7 237.430588 \r\n\" style=\"fill:none;stroke:#000000;stroke-linecap:square;stroke-linejoin:miter;stroke-width:0.8;\"/>\r\n   </g>\r\n   <g id=\"patch_44\">\r\n    <path d=\"M 107.743478 302.12624 \r\nL 107.743478 237.430588 \r\n\" style=\"fill:none;stroke:#000000;stroke-linecap:square;stroke-linejoin:miter;stroke-width:0.8;\"/>\r\n   </g>\r\n   <g id=\"patch_45\">\r\n    <path d=\"M 10.7 302.12624 \r\nL 107.743478 302.12624 \r\n\" style=\"fill:none;stroke:#000000;stroke-linecap:square;stroke-linejoin:miter;stroke-width:0.8;\"/>\r\n   </g>\r\n   <g id=\"patch_46\">\r\n    <path d=\"M 10.7 237.430588 \r\nL 107.743478 237.430588 \r\n\" style=\"fill:none;stroke:#000000;stroke-linecap:square;stroke-linejoin:miter;stroke-width:0.8;\"/>\r\n   </g>\r\n  </g>\r\n  <g id=\"axes_10\">\r\n   <g id=\"patch_47\">\r\n    <path d=\"M 127.152174 302.12624 \r\nL 224.195652 302.12624 \r\nL 224.195652 237.430588 \r\nL 127.152174 237.430588 \r\nz\r\n\" style=\"fill:#ffffff;\"/>\r\n   </g>\r\n   <g clip-path=\"url(#peddc868fb7)\">\r\n    <image height=\"65\" id=\"image6e0618f71f\" transform=\"scale(1 -1)translate(0 -65)\" width=\"98\" x=\"127.152174\" xlink:href=\"data:image/png;base64,\r\niVBORw0KGgoAAAANSUhEUgAAAGIAAABBCAYAAAAqnXGWAAAOFUlEQVR4nO2ceXhV5Z3HP+855+652UM2kkBACLJIABVwQWmlOljHjbFOp4tOsePUeWofrdXapzotjzPaUbA8o3RqCzodRuvjU5+ZeRS1IxZQHIMiahQkLEnIvtw1dznbO3+EXgghQsgNuQE+f+Wce97f+eZ877ve9/wEIDnHmKOMtYBz9HPOiAxBEWKsJZwDQKxec79sbe1OnbAtm4aGJnRdT53r6OghFIqkjk3ToqcngDyqd9F1HdO0UsdSDux6hBCDzp3jCGLdu7VSFc7UCaeShV8rSx0raHgpR9pHCjlkNrEQyMP9vEAh3G0RjcZT13R1hNm29QNee20Ll1wyn1tuuYbVq58lGu0jkdAHGJupeDxuAJLJJBMmFOJ2u2hv7ySR0Addq6oqBQU5uN1uenqCSGlTXFzIkiUXkZ+fgwS2bqmjvr6Biy6ag8vlHFBea0/sHLZABQ1F01LHAgV3eS4gUsdT5s5n1pwVNDa28NNVt6EUtPGVTy/jL2+6jJ7uMPfc/S+0tXUO+96ni/nzZ/HQqu+gqPDSf27l1m8uxZmTYOOv3uPffvUCAF6vm+rqChYvnsfCxXOonJaF4tTpC0qklGRlOwk5d9Grf45T8bH8+u/RvD9AxbwYEat5wP2044k4ETYmtjQHnDPMWOpvVTgpds/BVZTP40/+gO6s13EbOVRVlWEX7MWd38Ett1zDmjXPnsrtTwtVVWUYJXX0mZ3MnnMh0t/JXuNViormAf0mPLn2x0yd56BXfkx7ciP/px/E0nUUR/9jlQkbK55MxQw5m3DUeNke+ARLDqxVp2TEiZDSZmdgPUIoWB6dRDTI0sJ/Jlklidl1dCR3UVK67KRiKYpCbq4fwzCJxRJomoqUEl03RkP6ACxpYMkjD1JKG5/PixCCiy+ey5R5GtvCDw16qLY8vrZuffeQ9xoVI2xMwuaRqucQXjr1nWTVeDgQ24EqHCcVZ9q0yay8YwXzF06luzNCb3eUCeVepKHx0E+e5pNPPh8N+UMSNdu5fOlsVj95P7PmVvBZ4l8HmXCqjIoRx2LIGB+GNgCQ7zyPubm3sdlqQQgGjLz8fh/f+tYNTJpcRldngKXL5uMtDbAjsIqs8hJyqkrJc9WihCpxu12nQzoA8+bVYDsPEI12sEP8DGWBykd2gnDyUNruMSpGCFQkNseunhQ6a5ibexuKUFl4aQ15ebn09gaB/ibovh99hy/dWIWqaMBEdDtAvnMKxa4LaIptozNRzwTnLD754ACdnT0n1iEEU6dWEQ5H6ejoPuH1RyMleNUC2uI72O16gr5wFzYGQePAsOKcLGk3otxzMXNyvk5rfAdJO4xXLWR35GViVjdlngXQW4UrV0BOhBUrrqahoZGeniBut4tFl9WgWAq7tnUxf0kpiuogYQWpNFZQkrWYur5f8F5gLRcs+TZfb7uOxx79NZZlDall5sypPPXbe+npjPHTB9YhRL/h0D/POXDgEOFwdFA5VVWpq/uIq95ZyAULvk+nspWo2U7/qHB05kLi4bdOHNkhvAihoNuDRR/77XcqWeQ4KolbvWRrE1mQfyc7A7+lOf42+c6pFLnOx5IGtjRwKn6y1UqQCiCQSrL/OFrMfvU5YmYP0/1fZd+7Lnp7wsy+Ok5d4CnOz15BibmUxn29PPrIej7+eGBf4fG4cTodzJ8/kx88XkvUbqVSuZq4aEOXEVxKNkjB/h2C7/39qgEd/803f4Ubb/4Sb735Plu21JGfn8t11y1lyZdn0+fezb7o63Ql6/Go+XjVQgwZJ2Q0DejUT4Uha4RAZUrWVUxwzUGNlmNbgi7vGxyMbabGfz0t8fdIWEGm+a+lKfY2PfoeAHQ7SlfyUwCiZgcRo+WwUdCrN9CrN3yhIFW48KqF9CU6sTEIGY3ULriTqUYpbcZmJDafhl9kr/IK02uuY9Gi2gFGuFxOfrn2ASrPy8VMqLi0FnYHXyIruwSH8NCdrOdA3/+iCQ+zKh9C01R03WDGjClcvuRCvvaNK9mrPsPyO+fwte/eQTImEUJgaWFK3bVUeBYTMhpJ2EF86gR8Shlt8Z3sivyGoHEw/UYUuqYzP+8O4lHJmqf/nQvmzmDJ1TfSlfwUt5rLNP9XcSl+/Fo5B/o2DxFFsjO4npjVddKCLJkkYrakjhN2kHeDjyJQsLEOR7XR7QjtiQ9ZuPhWnnnmRWy732yHQ6N0soddys9RfBqOsA9FOCh2zUFTXETNDiQ2qnBSkJfPDTcsIzfXz03fWEiv823qE6vpTuyhNVGHQEUcnqQSFDjCXiZ6LmZhwd280XEfEbONmugDbNywnZX/8EM6szbREN2EzckMrQc2c0MaEdQb2Rd9nWytgpX3LaY5sYV3gi8SMPZT1/s0Nf7rCRj78aqFAx7coDhp6NwkdqpWacJDqbuWkNFMiauW+ubOQWtYEoluRzFlInVuU/vdqVgApozzudzA9feUY8s4H8QfIZpoOyaONaDdTtohDvRtJtsxkajZgS0NHA4HJSVFfPhuMzVXVaTiO4QPh+LBqWThVPx41UI0xUW2WoEiXGSrE9kT+wOdif7J3ZBGGLKPHYF1gECgIDlqQQ+LzyIvDfuBjgRNeKj2fZk8xxRcgbl093TT1RNh7S/XDjJCFQ7KPBeS46hkb+QVEnZg0LfUlAmaYtuGrcPGYGdwPSBxKdlUVZVx8x0xCl0zqA+/kHpOtXm3U+laQmtzEEM32dfQgmEYvNfYSiTSy6RJKjff+iNskaRb/+xkRk1ygAljQZ5jCrP93+S9VyP85vW32bPneTo7e5BSYhgDl1ri8SSbXv6QispF5J9XxYLqSdjSZFdoPX1Wuta2+o23pUlroo7WxPvE7C6OXrfrSHyET50A+TqalEwvBtCYRSXQP7TuNupJ2mE+Dv3HyY2axppq31U0bprJqlVPkUye/Ey2vLyYmppqKipK+fZdl7MruZaAsW8UlZ46p2VmnQ6am9uGZQJAS0sHLS0dCCHw+bxcctv5GWvEWfFTqZQy43//GBdGeNUCZs+eRlaW75RjSClxKN40qkov48KIhuhrzLpCo7Z2ximVV1WFxsZWfErZiS8eI8ZFH5GwA0TMFlRVHXZZn8/Lo4/dQ3FJIYpoGgV16WFc1AgAXYaprq4YdrnsbB81C/z0lG+gKb5lFJSlh3FRI6B/3crjObWmxZI6HYldqVlvJjJuagQAZ/AmrHFjhG5HmTQpczvbkTJujIhZXXh8J/db93gk4/sIgYIi0iEzs5u1jK8RDsXHRfl3MTXrGpJx88QFjiGZ1DFDOSwp/EdyHJWjoDA9ZLwRAoG7r4aX1/bwxOMbhl2+tzfEHbevItKck9F7bzO+aQLo6urluef+cMqbytrbuwn0RlCzM7ePyfgakQ4sy6L1UA9OJWuspQzJWWEEwKHmDrIdw5+Zny7OGiO6uwN41YKxljEkZ40R+/c346ZwrGUMyVljRDAYwWkXIRj+Cu7p4KwwQlEEoVAEK+lI0+Qw/WSmqjRSWJjHjx/8LhOriijNr8TZ5SNujWx75GhwxhuxfPmVXHpNJaaMo2gSl5JD3Ooda1mDOOObJqdTI2714NOKSFjBjP3d+ow3IhyOogonltSJWwF8atFYSzouZ3zT1NLSgUvkkqWVYEsTQ8ZOXGgMOONrxOTJE5HCJGz0v2Zl2pnXUcNZUCP+9Kc6CgryUDWFqsoypi5ZQkdy11jLGkTGG+FQfEhT5VRXsJuaWlmzZgMAJSWF/K72YTxqfsaNnDK+afKoeSRiktLSIsQINw8YhknnoSQl7to0qUsfGW9E3Oold+Z+nv39g1xxxcUjirVy5V8xZa6LPEd1mtSlj4w3Imq2835wHQeVF7hq2eIRxfJlefgg+Gt2hTIv9UTGG/FnwsYhsnM9I4phmRYu1Z+2bAHpZNwYkeucRCgwsjnA7t0HKHBOT5Oi9KL9edZ5LAIVh+LFlsaAlwKHQqCQ7ajg6NxPx8OSOgkrkMr1ZNqJY97PG7wtMtcxmWrXtWx44/cn1PFFbN++k5XRB/FrrxIxW0cUK91oQ1XTPGc1l+T8BIskAXv3cSdCltTR7ShuJQ+H8NF3sIwD+9uOE+0IxSV5uLP6Rz8Oh4Yvz8KiX4PqgIRoT5kRszvRhAt/eDFPPPxfbNu2YyT/K42NrWxcv5m//v7f0pLcjiUNImbLcbKtKbiVHHr0vRh2HzbD38YzXIacR+h2FFsYuFQ/E9WFR53vA/pT4fRZnYSMJhJ7p/NPq5/js88a6O0NffENNTWVhkHTVHJy/Px581durp/8/JzDn2lMmVIJ6Pzxj4/Q1JSeb/DGjf9NNBojJ6eACcUFFBYtGnSNRFA98zymlfRn2OkzO2mOv0PM7CJuBVLXmTKeto3N4rGtRbL/hXSBKpyHE2JJpvmvZZL3isEFhIom+lOs2dJAStj6ShM/vPcXGb1vaLhcfvmF3Hv/31BY7kJ1miimn9amEFLtT5fny/IQ8dURMhqPW96hePGr5QzaYSgkDdFNg95NFw+/JWSRawbn+27FIbL4OLqefOc0XG2X0npo6AwwDqdGcUk+297axbp1zx83uch4x+NxMXXqJAoLcwmH+6iv35v6rKgoj+XLr8ThOH6jYkvJ/n3NJBJH96+CZcsuYcFfuPk0+vzhfupwXsTf7bhaljkW8T/PHWTP7oP83V03sH9vO6t+vo6urqGXARRF4HQ6SSQycxEtU3G7Xdx44zJuuuVKnD4j9W61uOee22V9fQNvvrkdXTfweNzouvGF6XfOMXJcLieadmQjw+glIDrHsBg3E7oznXNGZAjnjMgQzhmRIfw/ZZjCUa2Ra/kAAAAASUVORK5CYII=\" y=\"-237.12624\"/>\r\n   </g>\r\n   <g id=\"patch_48\">\r\n    <path d=\"M 127.152174 302.12624 \r\nL 127.152174 237.430588 \r\n\" style=\"fill:none;stroke:#000000;stroke-linecap:square;stroke-linejoin:miter;stroke-width:0.8;\"/>\r\n   </g>\r\n   <g id=\"patch_49\">\r\n    <path d=\"M 224.195652 302.12624 \r\nL 224.195652 237.430588 \r\n\" style=\"fill:none;stroke:#000000;stroke-linecap:square;stroke-linejoin:miter;stroke-width:0.8;\"/>\r\n   </g>\r\n   <g id=\"patch_50\">\r\n    <path d=\"M 127.152174 302.12624 \r\nL 224.195652 302.12624 \r\n\" style=\"fill:none;stroke:#000000;stroke-linecap:square;stroke-linejoin:miter;stroke-width:0.8;\"/>\r\n   </g>\r\n   <g id=\"patch_51\">\r\n    <path d=\"M 127.152174 237.430588 \r\nL 224.195652 237.430588 \r\n\" style=\"fill:none;stroke:#000000;stroke-linecap:square;stroke-linejoin:miter;stroke-width:0.8;\"/>\r\n   </g>\r\n  </g>\r\n  <g id=\"axes_11\">\r\n   <g id=\"patch_52\">\r\n    <path d=\"M 243.604348 302.12624 \r\nL 340.647826 302.12624 \r\nL 340.647826 237.430588 \r\nL 243.604348 237.430588 \r\nz\r\n\" style=\"fill:#ffffff;\"/>\r\n   </g>\r\n   <g clip-path=\"url(#p0995d695a9)\">\r\n    <image height=\"65\" id=\"image001fdd99cd\" transform=\"scale(1 -1)translate(0 -65)\" width=\"98\" x=\"243.604348\" xlink:href=\"data:image/png;base64,\r\niVBORw0KGgoAAAANSUhEUgAAAGIAAABBCAYAAAAqnXGWAAAHhElEQVR4nO2cW2wU1xmAv5lZ72W8vt/wGmMvYONCnARoUgmBFEGoEEVRVBElkZCIQLZUqaKpojYSJUGKGhB+QBENEqkSCXgwqUiN0tAHwCRKQJAgEogwQSVcbIMNNbbH673Pzu7pg9WkFGPPurYZ6PmkeVjtf875z3wzs2fOnhkFEEgeOOqDTkAyghThEKQIhyBFOAQpwiFIEQ5BinAIrgedgBNxuTQ0TQMgP99PTk4OABUVJeTm+mzX09XVy40bt+y1mX2ajw6qquB2uykpKaS6upK5c2uYPXsWtbW1KIoOgNfrJxQaibcsFz09pq26fT6VYNCgufn3xOOJceP/b0RomkZhYR7l5SXU1dUQDFZTXz+HgoJyIJ/eXkFXV5IzZ2IcOBCjr28AAMvqJx5PAyDEyGYHt1vhgw/qKC8vpqurd9z4R16Epqm8+OIvWL58GX7/DMLhHK5fT3H5cozPP49y8+YA4XAfppmxvZPtYJqCW7cEgUD5oy1C01RUVSUvLxdFUe76LpFIkkiYgGDRogWsWbOO7dtv0NnZRTSaJpOZnhyvXk3Q0DCH06fPjxvraBEul4bfr6MoKmVlxVRXzyAYrGbWrCoCgQCa5sHjKSQe//FQVlXweEyi0Qiqmsbr1WhrG+TChci0559IZKiqKrcV60gRPp+HpqaXWLhwIV5vEfG4QAgPvb1prlyJc+RIjDt3TAwjQiwWwjTvPsTz812oqsLLL1fy/PMVHD9+btr74HIpLFuWx549J+3FT3E+WfHMMz9j6dKfUl9fSyYTZOvWqwwOdpNIZMhkIJ22dxEfGEgBMDxs8dlnAxhGairTHpXaWh9+/xDffXfFVryjRMyeXc3GjWtRFIWOjjCDgybhcHrC9Q0PW+i6NokZ2sPjUdmwIUB7+9+IxeK2yjjqzvrkybNEoyOJz5/vp7m5GvV/yLCzM87ixQUUFk7f8VZW5mb37gby86/R2vqJ7XKOOiO6u29x6NBRystLUBSFVavq+PhjnStXYvctU1HhZt68XLzekSN/eNjim29CpFKCq1djxGJpGhvzOHHCmLQ8FWXkhq242E1OzsiI7fbtJPF4Bq9XRdN62Ly5xfbZAA4TkUgkeeONd4CRzm7f/jsaG2ffV8TSpUXs2DGPGTM8nDt3kZMnz7JgQQPNzfVEo4Jjx4bwelWWLCmasAi3W0HXNXRdIxSyWLcuwOOP6xQVpchkwhjGIIWFBVy+XMnOnV08/XQBphkiEolm1Y6jRPwnQkAqlaGn58fpAVUFt1tFVRUqKz0Egz5CoR7AT1vbEVpbP8HrdVNZWU4wWM2mTb/G643z2GM6mgZpmz83igKBgIc1a8pZtkzH74fBQTctLddYuTLNtm1/pLu7l3A4immm0HUvb765iQ0bGvD7NVR1CJfLhWnaHyQoOHjxwGuvbWTBgp//MOrJzdXQ9SSKIpg5M5fTpy1M8wzvvrsPwxgm/V97uqqqgrKyYl59dQtvvXUT0xQYRgrLurvLPp+Krmu4XAr19bmsXl1CTY3JqVMnOHz4U+rrgzQ2vsIXXxisXHmdrVvfuSfX0tIiWlr+wPHj+SxZksfXX/+VvXvbyNi8e3TsGQGwZ08rM2d++sNnIQR37hhYlsVzz61g48YN7NvXTX//6Jednp5/YhghenvP09Iyn1hMGXUI7PVCODyAEALDuMGxYwf58stvMYyR2b68PD/PPutCUSCZTI7aVn+/wdtv72Lbtq18+OEQL7ywlu7uXtrbT9nur3gYN4/HLerqakROjmvcWEVRhN+vi4KCvFG3vLxcoWmqUFV11PKzZgXEvn2tYvnyP4nNm381ZltPPvkT8dFHrWL16t3i4MFWsXDhfFv9cdTwNRuSSZPvv+8ilbLGjRVCEInECIXCo27hcJR0OnPfy8jAwBCaFsPnG393nT9/iffe2826dcUcOBDi9dd/S01N1bjlHloR00kymSSZDFFa6rYV395+ivb2NlasKOToUdiy5TcUFRWMWUaKsIFlpYlEIrZvLoUQ7N/fRl/faebO1SktnUN19Ywxyzj6x/phxrLStLT8maamITo6DC5eHHvOSYqYQuLxBLt27bcVKy9NDkGKcAhShEOQIhyCFJE1yvghE0CKyIJ4PENlZcU9q0YmAykiC27fTuJ261LEgyablX7ZIkU4BCnCIUgRDkGKcAhShEOQIhyCFOEQpAibpNMpSktzpqx+KcImnZ03KC6295/1RJAibGJ3odhEkSIcghSRJS6XhqrKSb9pJT/fzxNPNJCTM7LGIhKx0PVicnP1SW9LihiD9et/yd69O1m7dhWKopBMZkgmBVMwCy5FjMXZsxeIx1M0Na2nsbGe4mI5fH0gfPXVtxw6dJhUysdTTy0mEPBOWVtSxBhkMhnef/8v9Pdfo6vr3ucqJhMpYhwMY5gdO3ajaXEuXZq6h+alCBtcuHCZo0f/Tm2t/VcEZYsUYQMhBB0d/8Dvn7rdJUU4BCnCIUgRDkGKcAhSRBZMxQq/fyOfGLJJX98gixa5MM0YljXxN+bcD0e/ecBJKArU1s4klbK4efP25NePFOEI/gX7Ogoqzi0NYwAAAABJRU5ErkJggg==\" y=\"-237.12624\"/>\r\n   </g>\r\n   <g id=\"patch_53\">\r\n    <path d=\"M 243.604348 302.12624 \r\nL 243.604348 237.430588 \r\n\" style=\"fill:none;stroke:#000000;stroke-linecap:square;stroke-linejoin:miter;stroke-width:0.8;\"/>\r\n   </g>\r\n   <g id=\"patch_54\">\r\n    <path d=\"M 340.647826 302.12624 \r\nL 340.647826 237.430588 \r\n\" style=\"fill:none;stroke:#000000;stroke-linecap:square;stroke-linejoin:miter;stroke-width:0.8;\"/>\r\n   </g>\r\n   <g id=\"patch_55\">\r\n    <path d=\"M 243.604348 302.12624 \r\nL 340.647826 302.12624 \r\n\" style=\"fill:none;stroke:#000000;stroke-linecap:square;stroke-linejoin:miter;stroke-width:0.8;\"/>\r\n   </g>\r\n   <g id=\"patch_56\">\r\n    <path d=\"M 243.604348 237.430588 \r\nL 340.647826 237.430588 \r\n\" style=\"fill:none;stroke:#000000;stroke-linecap:square;stroke-linejoin:miter;stroke-width:0.8;\"/>\r\n   </g>\r\n  </g>\r\n  <g id=\"axes_12\">\r\n   <g id=\"patch_57\">\r\n    <path d=\"M 360.056522 302.12624 \r\nL 457.1 302.12624 \r\nL 457.1 237.430588 \r\nL 360.056522 237.430588 \r\nz\r\n\" style=\"fill:#ffffff;\"/>\r\n   </g>\r\n   <g clip-path=\"url(#p8d81699c48)\">\r\n    <image height=\"65\" id=\"imagefbcc8867f7\" transform=\"scale(1 -1)translate(0 -65)\" width=\"98\" x=\"360.056522\" xlink:href=\"data:image/png;base64,\r\niVBORw0KGgoAAAANSUhEUgAAAGIAAABBCAYAAAAqnXGWAAAI20lEQVR4nO2c+3NU5RnHP+e2t+wlIRdEAiEgiKBoIygNoIildnCq1AvQWgRF5SZgVVqxBJBLRcdCy1Au2ipjrTqdsaTq2OkoSG25G7BIQIElyW5u5L7JZjfZy9n+gFgYBAPseXdj+PwB5/vs+e7ZfZ/3fc5XAmIkgLQ0F8tXzOWqkUH2NK4hGgsloowz6JfyQ1r35/PE3Odpa2sXqi0LVfuKfv16s37jQroPdyeNCQClgW30vznGuHG3CtcWbsTIkTey9uX5BPu8T3Hz20ljAkA0FuKg/w0ee/wusrOvEKotYeBPkyRJyLKM1WomLc3FbbcNZ+qs0RzS11MX+sIo2UvmGse9lG3ty4JnVhGNRoVoGmbEgAG5zJg5gfQsB5k9bJgdOu1aOcUtb9EaPWGEZNzQJBsjnEtY9vRmtmzZKUQz7kZIksSYMd9n/sJJ1Njfo6b9ICHdT0RvQyccTylDyTJfS6pnMlN+/mvC4Yjhemo8L2YyaTz00D1MfPQmikNrqW89Es/LCyUQrSfLrCBJkhC9uBnhdNpZWDCTG8Zq7G1ZQTDaEK9LJ4QUJZPysnpCITFPcVyMyM3NZtmKx0kZ+CW7fW8SjYldgxtBmqkvn3zpEaZ3SctXSZIYNWoY61/9FXr/jzjQ/Pp3wgQAp5LD4cPHhOld9BOhaRqTJ9/Ng7NGcDC0jrrWw/GsK6FIyJij3fF6q4VpXpQRLpedeU9MYdRPUtnb8jyt0Zp415VQNNlGuMVGfX2jMM0LNqJPn2wWPzeT9CGl7PGtJhwLGFFXQrHIaTTXRfD7xX22DhshSRL5+d9j4XMPUed6j/2+LcQQ03WKRieCJIvdC+2QESaTxsSJ45g2dwzFkfXUth4mQZu2QgjrrWhmCVVVhTRz0AEjnE478+Y9yOj7MtnTvJxAtFZEXQklrAdJ6abjctkJBtuEaJ7XiJycnhQsns4VeVXsbHqRSCwopKhEEyOKpESw223CNM/ZR+Tn57F24y+xDtlFUdPLXcYEgBg6IfUEmZnpwjTPeiJUVWXSpHE8POd2vtD/SI3/c2HFJBORWJD8/Dy83irKy43vJ87YfU1JsfL00w9zy/gs9vnXJf12tZF0M/XnqpQfoTRcw+SJBdTU1Buq9/VPU8+e3fndmmcYNh52Nq/s0iYANISO8mnjBlR7M2azyXA9FWDYsOtYtOwRWjK2sM/3ATpilmzJjiqbCfo0Ght9xmuNHTuCBcsncCS2iWr/fsMFOxNWpRvN9RHa240/V1cfnTGeg9G1NISOGi7W2bAq3aipbhLS1MmSohOMGvtH1FmxKum4j5UL0ZL1iEyKkiVErLPhVHtRWyvmpFHeuO4drjVPx6qIa146CzY5E6+3SoiWvG3bbl5b8wlDHXNRJasQ0c6AhIIcShXSzAHIuh7jzTff41+ba7jBOQ05voMdnRZNthLx2/D5/EL0ZIBwOMJvX3qVik8zuNpxNycb7q6NWXbib4oQCIjZY/u6s25tDbLw2TVoFSPJtg4XIp7MWJRUKjwNwsZpzth9ra1toGDBOnIjD5Cm9RNSQLLiUHtSVipueOCsbfDi4qP8ZtFfuN46u0uvpGxKhtDhgW88j/j4491sWvMfhjrmoEoWYcUkEza5O263V5jeNxqh6/rJldTfTq6kJBRhBSUHEjY1nZQUccv5c57QhUJhVq3aRGVRFoOdE8ix3dKFlrYxSgIfMmbMzcIUzzty6fcHWLpkPQ1F15BadR+DnPd3maejJVKJ2SLui/ets6/l5dXMmL6Eh6cW0LBvIP3t40TU1eXo0BCyrus0NvpYvnQDlsrR5Nhu5bvc9Lm03vSyjiAS0YVpXtA0uMdTxVPzVpPVdB+Z5kFG1ZRQJBTy7LPZ9baZlzf+VZjuBY/ll5SUs2zRnxgQeYx009VG1JRwgoEIr732DkePlgnTvKj3I3bt+oylz/6Z68wzv3NnGRbFhSqZhete9Isq27cXse6Ff3Kj7SlsSkY8axKOhIJJdjDENZmhylK2ve+mqalZcA2XME0syxLTHpnA/bP6stf3+043om+WnfSw5JFjuR1F1gg3uZg+dSVut4dYTOyQ9SW/3msyacx7Ygq3/yyVvb7kiXM4H5qUwkDHeNIjw9m/o5K/F26le/cMKiqq2b69CMEeAHF6z9psNrHyhSfpfUsFxc1vJf1cVA9LHinuSSxetJaSEi+6nvhXDOKSxdHeHmLJ4j9QvasPAx33kOw9hkVJY8eO/+J2e5LCBIhjKIrP18KypeuRPDeRa7uNZDbDoV5JS7OYI9COEtd0murqOp6atwpXzV30sOTF89JxxSy5KC2tSHQZZxD3mCCPp5Jli18hN/RgUnbfMho2Pcfw6e4LxZC8pqKiYgrmv8ogeSZ2tYcREhdNb9tISg60U1ZWmehSzsCw4Kw9ew6wZuW75Fl+gV0VG0J1LpxqNr2j9/LSi5uER8V9G4YZEYvFKCz8iHUvbOVG+xxMst0oqQ6hSGaud0xjw+oPOHRIXLRDRzE0Si4Wi1G4+SPeff0oQ51zMMtOI+XOg0R/+50c+neUwsIPE1TD+TE0Su4UmqYyY+ZPuWfqEA62vUJ9yPgcJwkFTbZiVdLJMF1Nat2dTJ+2gsrK5IyrEGIEgCzLXyWbTaTKtpmywCdxSS44/YY71Ctxar1wKNmYwpm0+yw0nGjDU1rDpk2FHDlSEodPYgzCjDjFgAG5FCx+jNRBZXze8gYhvWONlYyKKluxKt1wqFfi0nrjULLRwhm0+czUV7fhLavFfczLsWNleDxVNDQ0EQgEiUSSP6pCuBFwMs1g9uwHGDuxF5/5N9Ac+f/LIKffcKfaE5eWg13JRgun0+YzUVsZxFtWw3F3OW63B4+nkvr6JoLBtk5xw89FQowAUFWF8eN/wKwnf0yV6R+YZScOpRdqOJ02n0ZtRYCy0pM3/PhxD15vFXV1jQSD7cIiQEWSMCNOMXhwf+64YyS1tY2UlpafdsPbiEbFHd4nmoQbcZmTJCQb/DJnc9mIJOGyEUnCZSOShP8BhKEopPgIuSUAAAAASUVORK5CYII=\" y=\"-237.12624\"/>\r\n   </g>\r\n   <g id=\"patch_58\">\r\n    <path d=\"M 360.056522 302.12624 \r\nL 360.056522 237.430588 \r\n\" style=\"fill:none;stroke:#000000;stroke-linecap:square;stroke-linejoin:miter;stroke-width:0.8;\"/>\r\n   </g>\r\n   <g id=\"patch_59\">\r\n    <path d=\"M 457.1 302.12624 \r\nL 457.1 237.430588 \r\n\" style=\"fill:none;stroke:#000000;stroke-linecap:square;stroke-linejoin:miter;stroke-width:0.8;\"/>\r\n   </g>\r\n   <g id=\"patch_60\">\r\n    <path d=\"M 360.056522 302.12624 \r\nL 457.1 302.12624 \r\n\" style=\"fill:none;stroke:#000000;stroke-linecap:square;stroke-linejoin:miter;stroke-width:0.8;\"/>\r\n   </g>\r\n   <g id=\"patch_61\">\r\n    <path d=\"M 360.056522 237.430588 \r\nL 457.1 237.430588 \r\n\" style=\"fill:none;stroke:#000000;stroke-linecap:square;stroke-linejoin:miter;stroke-width:0.8;\"/>\r\n   </g>\r\n  </g>\r\n </g>\r\n <defs>\r\n  <clipPath id=\"p0a45857f73\">\r\n   <rect height=\"64.695652\" width=\"97.043478\" x=\"10.7\" y=\"7.2\"/>\r\n  </clipPath>\r\n  <clipPath id=\"p28dc8cee1e\">\r\n   <rect height=\"64.695652\" width=\"97.043478\" x=\"127.152174\" y=\"7.2\"/>\r\n  </clipPath>\r\n  <clipPath id=\"pd656daa4c9\">\r\n   <rect height=\"64.695652\" width=\"97.043478\" x=\"243.604348\" y=\"7.2\"/>\r\n  </clipPath>\r\n  <clipPath id=\"p93f1606bec\">\r\n   <rect height=\"64.695652\" width=\"97.043478\" x=\"360.056522\" y=\"7.2\"/>\r\n  </clipPath>\r\n  <clipPath id=\"p176d4881a2\">\r\n   <rect height=\"64.695652\" width=\"97.043478\" x=\"10.7\" y=\"122.315294\"/>\r\n  </clipPath>\r\n  <clipPath id=\"pe01a3988f8\">\r\n   <rect height=\"64.695652\" width=\"97.043478\" x=\"127.152174\" y=\"122.315294\"/>\r\n  </clipPath>\r\n  <clipPath id=\"p440ee77414\">\r\n   <rect height=\"64.695652\" width=\"97.043478\" x=\"243.604348\" y=\"122.315294\"/>\r\n  </clipPath>\r\n  <clipPath id=\"p8c81e67a63\">\r\n   <rect height=\"64.695652\" width=\"97.043478\" x=\"360.056522\" y=\"122.315294\"/>\r\n  </clipPath>\r\n  <clipPath id=\"p0bd3c11fb2\">\r\n   <rect height=\"64.695652\" width=\"97.043478\" x=\"10.7\" y=\"237.430588\"/>\r\n  </clipPath>\r\n  <clipPath id=\"peddc868fb7\">\r\n   <rect height=\"64.695652\" width=\"97.043478\" x=\"127.152174\" y=\"237.430588\"/>\r\n  </clipPath>\r\n  <clipPath id=\"p0995d695a9\">\r\n   <rect height=\"64.695652\" width=\"97.043478\" x=\"243.604348\" y=\"237.430588\"/>\r\n  </clipPath>\r\n  <clipPath id=\"p8d81699c48\">\r\n   <rect height=\"64.695652\" width=\"97.043478\" x=\"360.056522\" y=\"237.430588\"/>\r\n  </clipPath>\r\n </defs>\r\n</svg>\r\n",
      "text/plain": [
       "<Figure size 576x432 with 12 Axes>"
      ]
     },
     "metadata": {
      "needs_background": "light"
     },
     "output_type": "display_data"
    }
   ],
   "source": [
    "voc_dir = d2l.download_extract('voc2012', 'VOCdevkit/VOC2012')\n",
    "test_images, test_labels = d2l.read_voc_images(voc_dir, False)\n",
    "n, imgs = 4, []\n",
    "for i in range(n):\n",
    "    crop_rect = (0, 0, 320, 480)\n",
    "    X = torchvision.transforms.functional.crop(test_images[i], *crop_rect)\n",
    "    pred = label2image(predict(X))\n",
    "    imgs += [\n",
    "        X.permute(1, 2, 0),\n",
    "        pred.cpu(),\n",
    "        torchvision.transforms.functional.crop(test_labels[i],\n",
    "                                               *crop_rect).permute(1, 2, 0)]\n",
    "d2l.show_images(imgs[::3] + imgs[1::3] + imgs[2::3], 3, n, scale=2);"
   ]
  },
  {
   "cell_type": "code",
   "execution_count": 32,
   "metadata": {},
   "outputs": [
    {
     "name": "stdout",
     "output_type": "stream",
     "text": [
      "background aeroplane \n",
      "background bus train \n"
     ]
    }
   ],
   "source": [
    "import numpy as np \n",
    "preds = [imgs[1], imgs[4]]\n",
    "for p in preds:\n",
    "    # print(p.shape)\n",
    "    label = d2l.voc_label_indices(p.permute(2,0,1), d2l.voc_colormap2label())\n",
    "    u = np.unique(label)\n",
    "    # print(u, label.shape)\n",
    "    for n in u:\n",
    "        print(d2l.VOC_CLASSES[n], end=' ')\n",
    "    print()"
   ]
  },
  {
   "cell_type": "markdown",
   "metadata": {
    "origin_pos": 44
   },
   "source": [
    "## Summary\n",
    "\n",
    "* The fully convolutional network first uses a CNN to extract image features, then transforms the number of channels into the number of classes via a $1\\times 1$ convolutional layer, and finally transforms the height and width of the feature maps to those of the input image via the transposed convolution.\n",
    "* In a fully convolutional network, we can use upsampling of bilinear interpolation to initialize the transposed convolutional layer.\n",
    "\n",
    "\n",
    "## Exercises\n",
    "\n",
    "1. If we use Xavier initialization for the transposed convolutional layer in the experiment, how does the result change?\n",
    "1. Can you further improve the accuracy of the model by tuning the hyperparameters?\n",
    "1. Predict the classes of all pixels in test images.\n",
    "1. The original fully convolutional network paper also uses outputs of some intermediate CNN layers :cite:`Long.Shelhamer.Darrell.2015`. Try to implement this idea.\n"
   ]
  },
  {
   "cell_type": "markdown",
   "metadata": {
    "origin_pos": 46,
    "tab": [
     "pytorch"
    ]
   },
   "source": [
    "[Discussions](https://discuss.d2l.ai/t/1582)\n"
   ]
  },
  {
   "cell_type": "markdown",
   "metadata": {},
   "source": [
    "---"
   ]
  },
  {
   "cell_type": "markdown",
   "metadata": {},
   "source": [
    "# Another Exercise\n",
    "\n",
    "1. Use a few blocks of `Upsample` + `Conv2d` instead of `convTranspos2d` to obtain a better result. \n",
    "    - Another option is to use `Upsample` + `ResNetBlock`.\n",
    "1. Apply a deeper backbone network such as resnet34, resnet50, resnet101, or Densenet-121.\n",
    "1. Try to train your network for Pedestrian Segmentation (https://pytorch.org/tutorials/intermediate/torchvision_tutorial.html)\n",
    "1. Use a learning rate scheduler\n",
    "    - https://pytorch.org/docs/stable/optim.html \n",
    "    - https://www.kaggle.com/isbhargav/guide-to-pytorch-learning-rate-scheduling \n",
    "\n",
    "1. Choose a few of your own images to test the network; discuss the performance of your trained network.\n",
    "\n",
    "## References\n",
    "1. https://pytorch.org/docs/stable/generated/torch.nn.Upsample.html\n",
    "1. https://discuss.pytorch.org/t/what-we-should-use-align-corners-false/22663\n",
    "1. Semantic Segmentation: \n",
    "    - https://pytorch.org/hub/pytorch_vision_deeplabv3_resnet101/\n",
    "1. Instance Segmentation: \n",
    "    - https://pytorch.org/tutorials/intermediate/torchvision_tutorial.html\n",
    "    - https://paperswithcode.com/task/instance-segmentation?page=3\n",
    "1. FPN (Feature Pyramid Network)\n",
    "    - https://github.com/potterhsu/easy-fpn.pytorch \n",
    "    - https://youtu.be/mwMopcSRx1U (Youtube)\n",
    "1. Pytorch UNet: \n",
    "    - https://github.com/ternaus/TernausNet\n",
    "    - https://paperswithcode.com/paper/unet-3-a-full-scale-connected-unet-for \n",
    "    - https://paperswithcode.com/search?q_meta=&q_type=&q=unet\n",
    "1. Models & Utilities for object detection/segmentation with torchvision\n",
    "    - https://pytorch.org/vision/stable/models.html#object-detection-instance-segmentation-and-person-keypoint-detection\n",
    "    - https://pytorch.org/vision/stable/auto_examples/plot_visualization_utils.html#sphx-glr-auto-examples-plot-visualization-utils-py\n",
    "\n",
    "1. Deconvolution and Checkerboard Artifacts by A. Odena, V. Dumoulin, C. Olah, 2016.\n",
    "    - https://distill.pub/2016/deconv-checkerboard/"
   ]
  },
  {
   "cell_type": "markdown",
   "metadata": {},
   "source": [
    "---\n",
    "### UpSample() in Pytorch\n",
    "\n",
    "<img src=\"align_corners_option.png\" style=\"width:500px\">"
   ]
  },
  {
   "cell_type": "code",
   "execution_count": 12,
   "metadata": {},
   "outputs": [
    {
     "data": {
      "text/plain": [
       "torch.Size([2, 3, 5, 5])"
      ]
     },
     "execution_count": 12,
     "metadata": {},
     "output_type": "execute_result"
    }
   ],
   "source": [
    "x = torch.randn((2,3, 5,5))\n",
    "x.shape"
   ]
  },
  {
   "cell_type": "code",
   "execution_count": 13,
   "metadata": {},
   "outputs": [
    {
     "data": {
      "text/plain": [
       "torch.Size([2, 3, 10, 10])"
      ]
     },
     "execution_count": 13,
     "metadata": {},
     "output_type": "execute_result"
    }
   ],
   "source": [
    "upsample = nn.Upsample(scale_factor=2, mode='bilinear', align_corners=False)\n",
    "x2 = upsample(x)\n",
    "x2.shape"
   ]
  },
  {
   "cell_type": "code",
   "execution_count": 14,
   "metadata": {},
   "outputs": [
    {
     "data": {
      "text/plain": [
       "torch.Size([1, 512, 10, 15])"
      ]
     },
     "execution_count": 14,
     "metadata": {},
     "output_type": "execute_result"
    }
   ],
   "source": [
    "pretrained_net = torchvision.models.resnet18(pretrained=True)\n",
    "net = nn.Sequential(*list(pretrained_net.children())[:-2])\n",
    "X = torch.rand(size=(1, 3, 320, 480))\n",
    "net(X).shape"
   ]
  },
  {
   "cell_type": "code",
   "execution_count": 15,
   "metadata": {},
   "outputs": [
    {
     "name": "stdout",
     "output_type": "stream",
     "text": [
      "0 40\n",
      "1 160\n",
      "2 640\n",
      "3 2560\n",
      "4 10240\n"
     ]
    }
   ],
   "source": [
    "a = 10\n",
    "for i in range(5):\n",
    "    a *= 4\n",
    "    print(i, a)"
   ]
  },
  {
   "cell_type": "code",
   "execution_count": 16,
   "metadata": {},
   "outputs": [],
   "source": [
    "for i in range(2):\n",
    "    net.add_module(f'upConv2d_{i}', \n",
    "                nn.Sequential( nn.Upsample(scale_factor=4, mode='bilinear', align_corners=False),\n",
    "                                nn.Conv2d(512, 512, kernel_size=3, padding=1) ) )\n",
    "net.add_module(f'upConv', \n",
    "               nn.Sequential(nn.Upsample(scale_factor=2, mode='bilinear', align_corners=False),\n",
    "                                nn.Conv2d(512, num_classes, kernel_size=3, padding=1) ) )"
   ]
  },
  {
   "cell_type": "code",
   "execution_count": 17,
   "metadata": {},
   "outputs": [
    {
     "data": {
      "text/plain": [
       "torch.Size([1, 21, 320, 480])"
      ]
     },
     "execution_count": 17,
     "metadata": {},
     "output_type": "execute_result"
    }
   ],
   "source": [
    "net(X).shape"
   ]
  },
  {
   "cell_type": "markdown",
   "metadata": {},
   "source": [
    "---\n",
    "### CrossEntropyLoss() in pytorch\n",
    "- It returns NLL, or $-log(likelihood)$\n",
    "- https://pytorch.org/docs/stable/generated/torch.nn.CrossEntropyLoss.html#torch.nn.CrossEntropyLoss"
   ]
  },
  {
   "cell_type": "code",
   "execution_count": null,
   "metadata": {},
   "outputs": [
    {
     "data": {
      "text/plain": [
       "(torch.Size([3]), tensor([1, 4, 4]))"
      ]
     },
     "metadata": {},
     "output_type": "display_data"
    }
   ],
   "source": [
    "# when the input is 2 dimensional\n",
    "input = torch.randn(3,5, requires_grad=True)  # score, 3=batch, 5=num_classes\n",
    "target = torch.randint(5, (3,), dtype=torch.int64) # 3=num_data\n",
    "loss = F.cross_entropy(input, target, reduction='none')\n",
    "loss.shape, target "
   ]
  },
  {
   "cell_type": "code",
   "execution_count": null,
   "metadata": {},
   "outputs": [
    {
     "data": {
      "text/plain": [
       "(torch.Size([3, 2, 4]),\n",
       " torch.Size([3, 2, 4]),\n",
       " tensor([[[ 0,  7, 17,  3],\n",
       "          [19, 16, 14, 14]],\n",
       " \n",
       "         [[ 8,  7, 18, 19],\n",
       "          [20, 11, 14,  3]],\n",
       " \n",
       "         [[12, 17,  0,  9],\n",
       "          [14, 13,  3,  5]]]))"
      ]
     },
     "metadata": {},
     "output_type": "display_data"
    }
   ],
   "source": [
    "# when the input is multidimensional (images)\n",
    "num_classes = 21\n",
    "input = torch.randn(3, num_classes, 2, 4, requires_grad=True)  # score, 3 images, num_classes, 2 height, 4 width, \n",
    "target = torch.randint(num_classes, (3,2,4), dtype=torch.int64) # target: 3 images, 2 height, 4 width\n",
    "loss = F.cross_entropy(input, target, reduction='none')\n",
    "loss.shape, target.shape, target"
   ]
  },
  {
   "cell_type": "code",
   "execution_count": null,
   "metadata": {},
   "outputs": [
    {
     "data": {
      "text/plain": [
       "torch.Size([3, 21, 2, 4])"
      ]
     },
     "metadata": {},
     "output_type": "display_data"
    }
   ],
   "source": [
    "input.shape"
   ]
  },
  {
   "cell_type": "code",
   "execution_count": null,
   "metadata": {},
   "outputs": [
    {
     "data": {
      "text/plain": [
       "(tensor(2.6389, grad_fn=<SelectBackward>), tensor(14))"
      ]
     },
     "metadata": {},
     "output_type": "display_data"
    }
   ],
   "source": [
    "tid = target[0,1,3]  # target id at a location (y, x)\n",
    "loss[0,1,3], tid     # loss is returned from torch"
   ]
  },
  {
   "cell_type": "code",
   "execution_count": null,
   "metadata": {},
   "outputs": [
    {
     "data": {
      "text/plain": [
       "(tensor(0.9843, grad_fn=<SelectBackward>),\n",
       " tensor([ 1.5198, -0.4424,  1.3114,  0.1464,  0.9679,  0.8050,  0.8606, -0.5189,\n",
       "          0.9220,  1.7331, -1.3032,  0.5402, -0.5613,  0.2391,  0.9843,  0.4395,\n",
       "          0.6613, -2.2712, -0.8677, -1.3040, -0.5335], grad_fn=<SelectBackward>))"
      ]
     },
     "metadata": {},
     "output_type": "display_data"
    }
   ],
   "source": [
    "# score values at the location (y, x)  \n",
    "input[0, tid, 1,3], input[0, :, 1, 3]"
   ]
  },
  {
   "cell_type": "code",
   "execution_count": null,
   "metadata": {},
   "outputs": [
    {
     "data": {
      "text/plain": [
       "(tensor(2.6389, grad_fn=<NegBackward>),\n",
       " tensor(2.6389, grad_fn=<SelectBackward>),\n",
       " tensor(2.3842e-07, grad_fn=<SubBackward0>))"
      ]
     },
     "metadata": {},
     "output_type": "display_data"
    }
   ],
   "source": [
    "# Let's compute the CR loss to compare it with the output of torch CR\n",
    "score = input[0, :, 1, 3]\n",
    "c = -torch.log( torch.exp(score[tid]) / torch.exp(score).sum())  # this value is returned by nn.CrossEntropyLoss()\n",
    "c , loss[0,1,3], c - loss[0,1,3]"
   ]
  },
  {
   "cell_type": "markdown",
   "metadata": {},
   "source": [
    "End."
   ]
  }
 ],
 "metadata": {
  "interpreter": {
   "hash": "5c2412a7f059a44a3ebbda245f298c96603c0f68fdadd5589b1fcd57ac7e1e28"
  },
  "kernelspec": {
   "display_name": "Python 3.8.8 64-bit",
   "language": "python",
   "name": "python3"
  },
  "language_info": {
   "codemirror_mode": {
    "name": "ipython",
    "version": 3
   },
   "file_extension": ".py",
   "mimetype": "text/x-python",
   "name": "python",
   "nbconvert_exporter": "python",
   "pygments_lexer": "ipython3",
   "version": "3.8.8"
  }
 },
 "nbformat": 4,
 "nbformat_minor": 4
}
