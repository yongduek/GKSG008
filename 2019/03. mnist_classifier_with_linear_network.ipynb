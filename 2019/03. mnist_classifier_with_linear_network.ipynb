{
 "cells": [
  {
   "cell_type": "markdown",
   "metadata": {},
   "source": [
    "# MNIST classification\n",
    "\n",
    "- https://en.wikipedia.org/wiki/MNIST_database\n",
    "\n",
    "1. Naive-Bayes Classifier\n",
    "    - skip. Less interesting. Maybe later.\n",
    "2. Neural Netowrk\n",
    "    - mini-batch"
   ]
  },
  {
   "cell_type": "code",
   "execution_count": 1,
   "metadata": {},
   "outputs": [
    {
     "name": "stdout",
     "output_type": "stream",
     "text": [
      "numpy:  1.16.6\n",
      "sklearn:  0.22.2.post1\n"
     ]
    }
   ],
   "source": [
    "import numpy as np\n",
    "import torch\n",
    "import torch.nn as nn\n",
    "import torchvision.datasets\n",
    "import torchvision.transforms as transforms\n",
    "import matplotlib.pyplot as plt\n",
    "import sklearn\n",
    "\n",
    "print('numpy: ', np.__version__)\n",
    "print('sklearn: ', sklearn.__version__)"
   ]
  },
  {
   "cell_type": "markdown",
   "metadata": {},
   "source": [
    "## Dataset can be obtained directly from `torchvision`"
   ]
  },
  {
   "cell_type": "code",
   "execution_count": 2,
   "metadata": {},
   "outputs": [
    {
     "data": {
      "text/plain": [
       "(60000, 10000)"
      ]
     },
     "execution_count": 2,
     "metadata": {},
     "output_type": "execute_result"
    }
   ],
   "source": [
    "mnist_train = torchvision.datasets.MNIST(root='./data', train=True, download=True)\n",
    "mnist_test = torchvision.datasets.MNIST(root='./data', train=False, download=True)\n",
    "\n",
    "len(mnist_train), len(mnist_test)"
   ]
  },
  {
   "cell_type": "markdown",
   "metadata": {},
   "source": [
    "### Returned are PIL Image and target label"
   ]
  },
  {
   "cell_type": "code",
   "execution_count": 3,
   "metadata": {},
   "outputs": [
    {
     "name": "stdout",
     "output_type": "stream",
     "text": [
      "<PIL.Image.Image image mode=L size=28x28 at 0x1A29370E248> 5\n"
     ]
    },
    {
     "data": {
      "image/png": "[encoded data removed]",
      "text/plain": [
       "<Figure size 432x288 with 1 Axes>"
      ]
     },
     "metadata": {
      "needs_background": "light"
     },
     "output_type": "display_data"
    }
   ],
   "source": [
    "im, label = mnist_train[0]\n",
    "plt.imshow(im, cmap='gray')\n",
    "print(im, label)"
   ]
  },
  {
   "cell_type": "markdown",
   "metadata": {},
   "source": [
    "### Convert to Tensor and A Custom torchvision.transformation for Binarization"
   ]
  },
  {
   "cell_type": "code",
   "execution_count": 4,
   "metadata": {},
   "outputs": [],
   "source": [
    "class MyBinarization:\n",
    "    \"\"\" convert a gray scale tensor [0, 1] to binary tensor of {0., 1.}\"\"\"\n",
    "    def __init__(self, threshold=0.5):\n",
    "        self.threshold=threshold\n",
    "        \n",
    "    def __call__(self, im):\n",
    "        bright = im > self.threshold\n",
    "        im[bright] = 1.\n",
    "        im[~bright] = 0.\n",
    "        return im\n",
    "\n",
    "data_transform = torchvision.transforms.Compose([#transforms.Grayscale(), \n",
    "                                     torchvision.transforms.ToTensor(),\n",
    "                                     torchvision.transforms.Lambda(lambda im: (im>0.5).float()), # another way to do binarizaiton\n",
    "                                     #MyBinarization() ,\n",
    "                                     torchvision.transforms.Lambda(lambda im: im.reshape(-1)) # \n",
    "                                    ])\n",
    "\n",
    "mnist_train = torchvision.datasets.MNIST(root='./data', train=True, download=True, transform=data_transform)\n",
    "mnist_test  = torchvision.datasets.MNIST(root='./data', train=False, download=True, transform=data_transform)"
   ]
  },
  {
   "cell_type": "code",
   "execution_count": 5,
   "metadata": {},
   "outputs": [
    {
     "data": {
      "text/plain": [
       "(torch.Size([784]), torch.float32, 5, array([0., 1.], dtype=float32), int, 784)"
      ]
     },
     "execution_count": 5,
     "metadata": {},
     "output_type": "execute_result"
    },
    {
     "data": {
      "image/png": "[encoded data removed]",
      "text/plain": [
       "<Figure size 432x288 with 1 Axes>"
      ]
     },
     "metadata": {
      "needs_background": "light"
     },
     "output_type": "display_data"
    }
   ],
   "source": [
    "im, label = mnist_train[0]\n",
    "plt.imshow(im.reshape(28,28), cmap='gray')\n",
    "im.shape, im.dtype, label, np.unique(im), type(label), 28*28"
   ]
  },
  {
   "cell_type": "markdown",
   "metadata": {},
   "source": [
    "## Bernoulli Naive Bayes\n",
    "- https://github.com/dsgiitr/d2l-pytorch/blob/master/Ch04_The_Preliminaries_A_Crashcourse/Naive_Bayes_Classification.ipynb"
   ]
  },
  {
   "cell_type": "code",
   "execution_count": 6,
   "metadata": {},
   "outputs": [],
   "source": [
    "xcount = torch.ones((im.reshape(-1).shape[0],10)).float()\n",
    "ycount = torch.ones((10))\n",
    "\n",
    "for im, label in mnist_train:\n",
    "    xcount[:,label] += im.reshape(-1)\n",
    "    ycount[label] += 1\n",
    "#"
   ]
  },
  {
   "cell_type": "code",
   "execution_count": 7,
   "metadata": {},
   "outputs": [],
   "source": [
    "py = ycount / ycount.sum()\n",
    "px = xcount / ycount.unsqueeze(0) # each row is divided by ycount"
   ]
  },
  {
   "cell_type": "markdown",
   "metadata": {},
   "source": [
    "- For example, px[300,:] shows the Bernoulli probability at the location 300 for the class labels.\n",
    "- px[300,**k**] is the probability of being a bright pixel at the location 300 provided the class is **k**"
   ]
  },
  {
   "cell_type": "code",
   "execution_count": 8,
   "metadata": {},
   "outputs": [
    {
     "data": {
      "text/plain": [
       "tensor([0.6437, 0.0114, 0.3167, 0.1797, 0.3377, 0.1046, 0.0781, 0.4349, 0.4508,\n",
       "        0.3057])"
      ]
     },
     "execution_count": 8,
     "metadata": {},
     "output_type": "execute_result"
    }
   ],
   "source": [
    "px[300,:]"
   ]
  },
  {
   "cell_type": "code",
   "execution_count": 9,
   "metadata": {},
   "outputs": [
    {
     "name": "stdout",
     "output_type": "stream",
     "text": [
      "Class Conditional Probabilities: \n"
     ]
    },
    {
     "data": {
      "image/png": "[encoded data removed]",
      "text/plain": [
       "<Figure size 1080x720 with 10 Axes>"
      ]
     },
     "metadata": {
      "needs_background": "light"
     },
     "output_type": "display_data"
    },
    {
     "name": "stdout",
     "output_type": "stream",
     "text": [
      "Class Prior Probabilities:\n",
      "  tensor([0.0987, 0.1124, 0.0993, 0.1022, 0.0974, 0.0904, 0.0986, 0.1044, 0.0975,\n",
      "        0.0992])\n"
     ]
    }
   ],
   "source": [
    "fig, axes = plt.subplots(1,10, figsize=(15,10))\n",
    "print('Class Conditional Probabilities: ')\n",
    "for i in range(10):\n",
    "    axes[i].imshow(px[:,i].reshape(28,28).numpy(), cmap='hot')\n",
    "    axes[i].axes.get_xaxis().set_visible(False)\n",
    "    axes[i].axes.get_yaxis().set_visible(False)\n",
    "plt.show()\n",
    "print('Class Prior Probabilities:\\n ', py)"
   ]
  },
  {
   "cell_type": "markdown",
   "metadata": {},
   "source": [
    "* Notice that the images are well aligned within classes."
   ]
  },
  {
   "cell_type": "code",
   "execution_count": 10,
   "metadata": {},
   "outputs": [
    {
     "data": {
      "text/plain": [
       "(array([0, 1, 2, 3, 4, 5, 6, 7, 8, 9], dtype=int64),\n",
       " array([5923, 6742, 5958, 6131, 5842, 5421, 5918, 6265, 5851, 5949],\n",
       "       dtype=int64))"
      ]
     },
     "execution_count": 10,
     "metadata": {},
     "output_type": "execute_result"
    }
   ],
   "source": [
    "np.unique(mnist_train.targets, return_counts=True)"
   ]
  },
  {
   "cell_type": "markdown",
   "metadata": {},
   "source": [
    "## PyTorch Neural Network"
   ]
  },
  {
   "cell_type": "code",
   "execution_count": 11,
   "metadata": {},
   "outputs": [
    {
     "name": "stdout",
     "output_type": "stream",
     "text": [
      "cuda:0\n"
     ]
    }
   ],
   "source": [
    "import matplotlib.pyplot as plt\n",
    "%matplotlib inline\n",
    "import numpy as np\n",
    "\n",
    "import torch\n",
    "import torch.utils\n",
    "import torch.nn as nn\n",
    "import torch.optim\n",
    "import torchvision\n",
    "\n",
    "device = torch.device(\"cuda:0\" if torch.cuda.is_available() else \"cpu\")\n",
    "#device = torch.device('cpu')\n",
    "print (device)"
   ]
  },
  {
   "cell_type": "markdown",
   "metadata": {},
   "source": [
    "## Data Preparation"
   ]
  },
  {
   "cell_type": "code",
   "execution_count": 12,
   "metadata": {},
   "outputs": [],
   "source": [
    "data_transform = torchvision.transforms.Compose([#transforms.Grayscale(), \n",
    "                                     torchvision.transforms.ToTensor(),\n",
    "                                     torchvision.transforms.Lambda(lambda im: im.reshape(-1))\n",
    "                                    ])\n",
    "\n",
    "mnist_train = torchvision.datasets.MNIST(root='./data', train=True, download=True, transform=data_transform)\n",
    "mnist_test  = torchvision.datasets.MNIST(root='./data', train=False, download=True, transform=data_transform)\n",
    "\n",
    "batch_size=4\n",
    "data_loader_train = torch.utils.data.DataLoader(mnist_train, batch_size=batch_size, shuffle=True)\n",
    "data_loader_test = torch.utils.data.DataLoader(mnist_test, batch_size=batch_size, shuffle=False)"
   ]
  },
  {
   "cell_type": "code",
   "execution_count": 13,
   "metadata": {},
   "outputs": [
    {
     "name": "stdout",
     "output_type": "stream",
     "text": [
      "torch.Size([784]) 5\n"
     ]
    },
    {
     "data": {
      "image/png": "[encoded data removed]",
      "text/plain": [
       "<Figure size 432x288 with 1 Axes>"
      ]
     },
     "metadata": {
      "needs_background": "light"
     },
     "output_type": "display_data"
    }
   ],
   "source": [
    "# Explore\n",
    "im, label = mnist_train[0]\n",
    "\n",
    "print(im.shape, label)\n",
    "plt.imshow(im.reshape(28,28), cmap='gray')\n",
    "plt.title(f'label: {label} {im.shape}');"
   ]
  },
  {
   "cell_type": "code",
   "execution_count": 14,
   "metadata": {},
   "outputs": [
    {
     "name": "stdout",
     "output_type": "stream",
     "text": [
      "torch.Size([4, 784])\n"
     ]
    },
    {
     "data": {
      "image/png": "[encoded data removed]",
      "text/plain": [
       "<Figure size 1008x576 with 4 Axes>"
      ]
     },
     "metadata": {
      "needs_background": "light"
     },
     "output_type": "display_data"
    }
   ],
   "source": [
    "for batch_im, batch_label in data_loader_train:\n",
    "    print(batch_im.shape)\n",
    "    fig, axes = plt.subplots(1,batch_im.shape[0], figsize=(14,8))\n",
    "    for i in range(batch_im.shape[0]):\n",
    "        axes[i].imshow(batch_im[i].reshape(28,28), cmap='gray')\n",
    "        axes[i].set_title(f'label: {batch_label[i]}')\n",
    "    break"
   ]
  },
  {
   "cell_type": "markdown",
   "metadata": {},
   "source": [
    "### Network Design"
   ]
  },
  {
   "cell_type": "code",
   "execution_count": 15,
   "metadata": {},
   "outputs": [],
   "source": [
    "# Two hidden layer network\n",
    "\n",
    "def myNetwork(in_features, n_targget):\n",
    "    net = nn.Sequential(\n",
    "        nn.Linear(in_features=in_features, out_features=in_features//2),\n",
    "        nn.Tanh(),\n",
    "        nn.Linear(in_features=in_features//2, out_features=n_target),\n",
    "        nn.LogSoftmax(dim=1)\n",
    "        )\n",
    "    return net\n",
    "#"
   ]
  },
  {
   "cell_type": "markdown",
   "metadata": {},
   "source": [
    "### Revise the action of `LogSoftMax()`"
   ]
  },
  {
   "cell_type": "code",
   "execution_count": 16,
   "metadata": {},
   "outputs": [
    {
     "name": "stdout",
     "output_type": "stream",
     "text": [
      "Score Batch:\n",
      " tensor([[ 1.4865, -0.8443,  1.0740,  2.2261,  0.3534,  0.4047, -0.6629,  0.3191,\n",
      "         -1.6380, -1.9132],\n",
      "        [-0.2117,  0.9990,  1.9550,  1.1219,  1.8430,  0.0456, -0.2165, -0.3245,\n",
      "          1.2224,  0.6789],\n",
      "        [ 0.2304,  0.7242,  0.8036,  2.7772,  1.4557,  0.4169, -0.4762, -1.7281,\n",
      "         -0.2936, -0.7935],\n",
      "        [-0.3255,  0.1682,  1.3110,  1.5601, -0.6137, -0.7255,  0.4266, -0.2680,\n",
      "          0.8182,  1.6000]])\n",
      "LogSoftMax:\n",
      " tensor([[-1.6135, -3.9443, -2.0260, -0.8739, -2.7466, -2.6953, -3.7629, -2.7809,\n",
      "         -4.7380, -5.0132],\n",
      "        [-3.5409, -2.3303, -1.3742, -2.2073, -1.4862, -3.2836, -3.5457, -3.6537,\n",
      "         -2.1068, -2.6503],\n",
      "        [-3.1516, -2.6579, -2.5784, -0.6049, -1.9263, -2.9651, -3.8582, -5.1102,\n",
      "         -3.6756, -4.1755],\n",
      "        [-3.3660, -2.8724, -1.7295, -1.4805, -3.6542, -3.7660, -2.6139, -3.3085,\n",
      "         -2.2223, -1.4405]])\n",
      "SoftMax:\n",
      " tensor([[0.1992, 0.0194, 0.1319, 0.4173, 0.0641, 0.0675, 0.0232, 0.0620, 0.0088,\n",
      "         0.0066],\n",
      "        [0.0290, 0.0973, 0.2530, 0.1100, 0.2262, 0.0375, 0.0288, 0.0259, 0.1216,\n",
      "         0.0706],\n",
      "        [0.0428, 0.0701, 0.0759, 0.5461, 0.1457, 0.0516, 0.0211, 0.0060, 0.0253,\n",
      "         0.0154],\n",
      "        [0.0345, 0.0566, 0.1774, 0.2275, 0.0259, 0.0231, 0.0732, 0.0366, 0.1084,\n",
      "         0.2368]])\n",
      "argmax(dim=1):\n",
      " tensor([3, 2, 3, 9])\n"
     ]
    }
   ],
   "source": [
    "logsoftmax = nn.LogSoftmax(dim=1)\n",
    "score_batch = torch.randn((4,10))\n",
    "lsm = logsoftmax(score_batch) # log softmax along the dimension\n",
    "print('Score Batch:\\n', score_batch)\n",
    "print('LogSoftMax:\\n', lsm)\n",
    "print('SoftMax:\\n', torch.exp(lsm))\n",
    "print('argmax(dim=1):\\n', torch.argmax(lsm, dim=1))"
   ]
  },
  {
   "cell_type": "markdown",
   "metadata": {},
   "source": [
    "### Sanity Check with Dataset"
   ]
  },
  {
   "cell_type": "code",
   "execution_count": 17,
   "metadata": {},
   "outputs": [
    {
     "data": {
      "text/plain": [
       "(Sequential(\n",
       "   (0): Linear(in_features=784, out_features=392, bias=True)\n",
       "   (1): Tanh()\n",
       "   (2): Linear(in_features=392, out_features=10, bias=True)\n",
       "   (3): LogSoftmax()\n",
       " ), True)"
      ]
     },
     "execution_count": 17,
     "metadata": {},
     "output_type": "execute_result"
    }
   ],
   "source": [
    "in_features = 28*28\n",
    "n_target = 10\n",
    "\n",
    "model = myNetwork(in_features, n_target).to(device)\n",
    "model, next(model.parameters()).is_cuda"
   ]
  },
  {
   "cell_type": "code",
   "execution_count": 18,
   "metadata": {},
   "outputs": [
    {
     "name": "stdout",
     "output_type": "stream",
     "text": [
      "0 ------------------------------------\n",
      "torch.Size([1, 784])\n",
      "log_P(y|x):  tensor([[-2.1607, -2.4620, -2.3481, -2.1537, -2.2696, -2.3734, -2.2390, -2.4558,\n",
      "         -2.3511, -2.2659]], device='cuda:0')\n",
      "P(y|x):  tensor([[0.1152, 0.0853, 0.0956, 0.1161, 0.1034, 0.0932, 0.1066, 0.0858, 0.0953,\n",
      "         0.1037]], device='cuda:0')\n",
      "argmax:  3\n",
      "1 ------------------------------------\n",
      "torch.Size([1, 784])\n",
      "log_P(y|x):  tensor([[-2.3511, -2.4000, -2.4630, -2.2233, -2.1381, -2.3522, -2.2687, -2.3671,\n",
      "         -2.1816, -2.3281]], device='cuda:0')\n",
      "P(y|x):  tensor([[0.0953, 0.0907, 0.0852, 0.1083, 0.1179, 0.0952, 0.1034, 0.0938, 0.1129,\n",
      "         0.0975]], device='cuda:0')\n",
      "argmax:  4\n",
      "2 ------------------------------------\n",
      "torch.Size([1, 784])\n",
      "log_P(y|x):  tensor([[-2.1895, -2.2471, -2.4030, -2.3178, -2.3991, -2.3270, -2.1608, -2.3057,\n",
      "         -2.3838, -2.3241]], device='cuda:0')\n",
      "P(y|x):  tensor([[0.1120, 0.1057, 0.0904, 0.0985, 0.0908, 0.0976, 0.1152, 0.0997, 0.0922,\n",
      "         0.0979]], device='cuda:0')\n",
      "argmax:  6\n",
      "3 ------------------------------------\n",
      "torch.Size([1, 784])\n",
      "log_P(y|x):  tensor([[-2.1632, -2.3230, -2.6237, -2.3027, -2.2101, -2.4512, -2.2723, -2.2580,\n",
      "         -2.2230, -2.2754]], device='cuda:0')\n",
      "P(y|x):  tensor([[0.1150, 0.0980, 0.0725, 0.1000, 0.1097, 0.0862, 0.1031, 0.1046, 0.1083,\n",
      "         0.1028]], device='cuda:0')\n",
      "argmax:  0\n"
     ]
    }
   ],
   "source": [
    "# net working test\n",
    "with torch.no_grad():\n",
    "    for i in range(4):\n",
    "        print(i, '------------------------------------')\n",
    "        im_tensor, label = mnist_train[i]\n",
    "        print(im_tensor.unsqueeze(0).shape)\n",
    "        yp = model(im_tensor.unsqueeze(0).to(device)) # [Batch, data_features]\n",
    "        pred = torch.argmax(yp, dim=1)\n",
    "        print('log_P(y|x): ', yp)\n",
    "        print('P(y|x): ', torch.exp(yp))\n",
    "        print('argmax: ', pred.item())"
   ]
  },
  {
   "cell_type": "markdown",
   "metadata": {},
   "source": [
    "### Sanity Check with data_loader"
   ]
  },
  {
   "cell_type": "code",
   "execution_count": 19,
   "metadata": {},
   "outputs": [
    {
     "name": "stdout",
     "output_type": "stream",
     "text": [
      "torch.Size([4, 784]) torch.float32 torch.Size([4])\n",
      "log_P(y|x):\n",
      " tensor([[-2.3010, -2.4406, -2.3718, -2.1752, -2.2817, -2.4357, -2.2181, -2.3288,\n",
      "         -2.2529, -2.2551],\n",
      "        [-2.3043, -2.4708, -2.4631, -2.2629, -2.3402, -2.3079, -2.1760, -2.3640,\n",
      "         -2.1613, -2.2261],\n",
      "        [-2.3386, -2.4696, -2.5903, -2.1484, -2.2018, -2.3084, -2.2091, -2.3793,\n",
      "         -2.2386, -2.2236],\n",
      "        [-2.2179, -2.3657, -2.4479, -2.2596, -2.2880, -2.4000, -2.2968, -2.2839,\n",
      "         -2.2714, -2.2201]], device='cuda:0')\n",
      "P(y|x):  tensor([[0.1002, 0.0871, 0.0933, 0.1136, 0.1021, 0.0875, 0.1088, 0.0974, 0.1051,\n",
      "         0.1049],\n",
      "        [0.0998, 0.0845, 0.0852, 0.1040, 0.0963, 0.0995, 0.1135, 0.0940, 0.1152,\n",
      "         0.1079],\n",
      "        [0.0965, 0.0846, 0.0750, 0.1167, 0.1106, 0.0994, 0.1098, 0.0926, 0.1066,\n",
      "         0.1082],\n",
      "        [0.1088, 0.0939, 0.0865, 0.1044, 0.1015, 0.0907, 0.1006, 0.1019, 0.1032,\n",
      "         0.1086]], device='cuda:0')\n",
      "argmax:  tensor([3, 8, 3, 0], device='cuda:0')\n"
     ]
    }
   ],
   "source": [
    "with torch.no_grad():\n",
    "    for im_batch, label_batch in data_loader_train:\n",
    "        im_batch, label_batch = im_batch.to(device), label_batch.to(device)\n",
    "        print(im_batch.shape, im_batch.dtype, label_batch.shape)\n",
    "        yp = model(im_batch) # [Batch, data_features]\n",
    "        pred = torch.argmax(yp, dim=1)\n",
    "        print('log_P(y|x):\\n', yp)\n",
    "        print ('P(y|x): ', torch.exp(yp))\n",
    "        print('argmax: ', pred)\n",
    "        break"
   ]
  },
  {
   "cell_type": "markdown",
   "metadata": {},
   "source": [
    "### Training Loop"
   ]
  },
  {
   "cell_type": "code",
   "execution_count": 20,
   "metadata": {},
   "outputs": [],
   "source": [
    "def performance(model, loss_fn, dataloader):\n",
    "    model.eval()\n",
    "    with torch.no_grad():\n",
    "        loss, acc, n = 0., 0., 0.\n",
    "        for x, y in dataloader:\n",
    "            x, y = x.to(device), y.to(device)\n",
    "            ypred = model(x)\n",
    "            loss += loss_fn(ypred, y).item() * len(y)\n",
    "            p = torch.argmax(ypred, dim=1)\n",
    "            acc += (p == y).sum().item()\n",
    "            n += len(y)\n",
    "        #\n",
    "    loss /= n\n",
    "    acc /= n\n",
    "    return loss, acc\n",
    "  \n",
    "def training_loop(n_epochs, optim, model, loss_fn, dl_train, dl_val, hist=None):\n",
    "    if hist is not None:\n",
    "        pass\n",
    "    else:\n",
    "        hist = {'tloss': [], 'tacc': [], 'vloss': [], 'vacc': []}\n",
    "        \n",
    "    for epoch in range(1, n_epochs+1):\n",
    "        tr_loss, tr_acc = 0., 0.\n",
    "        n_data = 0\n",
    "        model.train()\n",
    "        for im_batch, label_batch in dl_train: # minibatch\n",
    "            im_batch, label_batch = im_batch.to(device), label_batch.to(device)\n",
    "            ypred = model(im_batch)\n",
    "            loss_train = loss_fn(ypred, label_batch)\n",
    "        \n",
    "            optim.zero_grad()\n",
    "            loss_train.backward()\n",
    "            optim.step()\n",
    "\n",
    "            \n",
    "            # accumulate correct prediction\n",
    "            tr_acc  += (torch.argmax(ypred.detach(), dim=1) == label_batch).sum().item() # number of correct predictions\n",
    "            tr_loss += loss_train.item() * im_batch.shape[0]\n",
    "            n_data  += im_batch.shape[0]\n",
    "        #\n",
    "        # statistics\n",
    "        tr_loss /= n_data\n",
    "        tr_acc  /= n_data\n",
    "        #\n",
    "        val_loss, val_acc = performance(model, loss_fn, dl_val)\n",
    "        \n",
    "        if epoch <= 5 or epoch % 1000 == 0 or epoch == n_epochs:\n",
    "             print(f'Epoch {epoch}, tloss {tr_loss:.2f} t_acc: {tr_acc:.2f}  vloss {val_loss:.2f}  v_acc: {val_acc:.2f}')\n",
    "            \n",
    "        # record for history return\n",
    "        hist['tloss'].append(tr_loss)\n",
    "        hist['vloss'].append(val_loss) \n",
    "        hist['tacc'].append(tr_acc)\n",
    "        hist['vacc'].append(val_acc)\n",
    "        \n",
    "    print ('finished training_loop().')\n",
    "    return hist"
   ]
  },
  {
   "cell_type": "code",
   "execution_count": 21,
   "metadata": {},
   "outputs": [],
   "source": [
    "batch_size=128\n",
    "data_loader_train = torch.utils.data.DataLoader(mnist_train, batch_size=batch_size, shuffle=True)\n",
    "data_loader_test = torch.utils.data.DataLoader(mnist_test, batch_size=batch_size, shuffle=False)"
   ]
  },
  {
   "cell_type": "markdown",
   "metadata": {},
   "source": [
    "### optimizer & loss_function"
   ]
  },
  {
   "cell_type": "code",
   "execution_count": 22,
   "metadata": {},
   "outputs": [],
   "source": [
    "model = myNetwork(in_features, n_target).to(device)\n",
    "\n",
    "optimizer = torch.optim.SGD(model.parameters(), lr=1e-2)\n",
    "loss_fn = nn.NLLLoss().to(device)"
   ]
  },
  {
   "cell_type": "code",
   "execution_count": 23,
   "metadata": {},
   "outputs": [
    {
     "name": "stdout",
     "output_type": "stream",
     "text": [
      "Epoch 1, tloss 1.42 t_acc: 0.73  vloss 0.83  v_acc: 0.84\n",
      "Epoch 2, tloss 0.67 t_acc: 0.85  vloss 0.54  v_acc: 0.87\n",
      "Epoch 3, tloss 0.51 t_acc: 0.87  vloss 0.44  v_acc: 0.89\n",
      "Epoch 4, tloss 0.44 t_acc: 0.88  vloss 0.40  v_acc: 0.90\n",
      "Epoch 5, tloss 0.40 t_acc: 0.89  vloss 0.37  v_acc: 0.90\n",
      "Epoch 10, tloss 0.33 t_acc: 0.91  vloss 0.31  v_acc: 0.91\n",
      "finished training_loop().\n"
     ]
    }
   ],
   "source": [
    "history = training_loop(n_epochs=10,\n",
    "                        optim=optimizer,\n",
    "                        model=model,\n",
    "                        loss_fn=loss_fn, \n",
    "                        dl_train=data_loader_train,\n",
    "                        dl_val = data_loader_test\n",
    "                        )"
   ]
  },
  {
   "cell_type": "code",
   "execution_count": 24,
   "metadata": {},
   "outputs": [
    {
     "data": {
      "image/png": "[encoded data removed]",
      "text/plain": [
       "<Figure size 432x288 with 1 Axes>"
      ]
     },
     "metadata": {
      "needs_background": "light"
     },
     "output_type": "display_data"
    }
   ],
   "source": [
    "plt.plot(history['tloss'], label='train loss')\n",
    "plt.plot(history['vloss'], label='val loss')\n",
    "plt.legend();"
   ]
  },
  {
   "cell_type": "code",
   "execution_count": 25,
   "metadata": {},
   "outputs": [
    {
     "data": {
      "image/png": "[encoded data removed]",
      "text/plain": [
       "<Figure size 432x288 with 1 Axes>"
      ]
     },
     "metadata": {
      "needs_background": "light"
     },
     "output_type": "display_data"
    }
   ],
   "source": [
    "vmax = max(history['vacc'])\n",
    "plt.title(f'Accuracy Evolution: val. max = {vmax}')\n",
    "plt.plot(history['tacc'], label='train accuracy')\n",
    "plt.plot(history['vacc'], label='val accuracy')\n",
    "plt.legend();"
   ]
  },
  {
   "cell_type": "markdown",
   "metadata": {},
   "source": [
    "### Do some more training"
   ]
  },
  {
   "cell_type": "code",
   "execution_count": 26,
   "metadata": {},
   "outputs": [
    {
     "name": "stdout",
     "output_type": "stream",
     "text": [
      "Epoch 1, tloss 0.33 t_acc: 0.91  vloss 0.31  v_acc: 0.91\n",
      "Epoch 2, tloss 0.32 t_acc: 0.91  vloss 0.30  v_acc: 0.92\n",
      "Epoch 3, tloss 0.32 t_acc: 0.91  vloss 0.30  v_acc: 0.92\n",
      "Epoch 4, tloss 0.31 t_acc: 0.91  vloss 0.30  v_acc: 0.92\n",
      "Epoch 5, tloss 0.31 t_acc: 0.91  vloss 0.29  v_acc: 0.92\n",
      "Epoch 50, tloss 0.20 t_acc: 0.94  vloss 0.20  v_acc: 0.94\n",
      "finished training_loop().\n"
     ]
    }
   ],
   "source": [
    "history = training_loop(n_epochs=50,\n",
    "                        optim=optimizer,\n",
    "                        model=model,\n",
    "                        loss_fn=loss_fn, \n",
    "                        dl_train=data_loader_train,\n",
    "                        dl_val = data_loader_test,\n",
    "                        hist=history)"
   ]
  },
  {
   "cell_type": "code",
   "execution_count": 27,
   "metadata": {},
   "outputs": [],
   "source": [
    "def plot_history(history):\n",
    "    fig, axes = plt.subplots(1,2, figsize=(16,6))\n",
    "    axes[0].set_title('Loss'); \n",
    "    axes[0].plot(history['tloss'], label='train'); axes[0].plot(history['vloss'], label='val')\n",
    "    axes[0].legend()\n",
    "    axes[1].set_title('Acc: vmax = '+str(max(history['vacc'])))\n",
    "    axes[1].plot(history['tacc'], label='train'); axes[1].plot(history['vacc'], label='val')\n",
    "    axes[1].legend()"
   ]
  },
  {
   "cell_type": "code",
   "execution_count": 28,
   "metadata": {},
   "outputs": [
    {
     "data": {
      "image/png": "[encoded data removed]",
      "text/plain": [
       "<Figure size 1152x432 with 2 Axes>"
      ]
     },
     "metadata": {
      "needs_background": "light"
     },
     "output_type": "display_data"
    }
   ],
   "source": [
    "plot_history(history)"
   ]
  },
  {
   "cell_type": "code",
   "execution_count": 29,
   "metadata": {},
   "outputs": [
    {
     "name": "stdout",
     "output_type": "stream",
     "text": [
      "Epoch 1, tloss 0.20 t_acc: 0.94  vloss 0.20  v_acc: 0.95\n",
      "Epoch 2, tloss 0.20 t_acc: 0.95  vloss 0.20  v_acc: 0.94\n",
      "Epoch 3, tloss 0.19 t_acc: 0.95  vloss 0.19  v_acc: 0.94\n",
      "Epoch 4, tloss 0.19 t_acc: 0.95  vloss 0.19  v_acc: 0.95\n",
      "Epoch 5, tloss 0.19 t_acc: 0.95  vloss 0.19  v_acc: 0.95\n",
      "Epoch 250, tloss 0.05 t_acc: 0.99  vloss 0.08  v_acc: 0.98\n",
      "finished training_loop().\n"
     ]
    },
    {
     "data": {
      "image/png": "[encoded data removed]",
      "text/plain": [
       "<Figure size 1152x432 with 2 Axes>"
      ]
     },
     "metadata": {
      "needs_background": "light"
     },
     "output_type": "display_data"
    }
   ],
   "source": [
    "history = training_loop(n_epochs=250,\n",
    "                        optim=optimizer,\n",
    "                        model=model,\n",
    "                        loss_fn=loss_fn, \n",
    "                        dl_train=data_loader_train,\n",
    "                        dl_val = data_loader_test,\n",
    "                        hist=history)\n",
    "plot_history(history)"
   ]
  },
  {
   "cell_type": "markdown",
   "metadata": {},
   "source": [
    "### Practicums\n",
    "- Modify batch_size to examine the behavior of the training loop.\n",
    "- Try other values of learning_rate\n",
    "- Try Adam\n",
    "    - what is Adam by the way?"
   ]
  },
  {
   "cell_type": "code",
   "execution_count": null,
   "metadata": {},
   "outputs": [],
   "source": []
  }
 ],
 "metadata": {
  "kernelspec": {
   "display_name": "Python 3",
   "language": "python",
   "name": "python3"
  },
  "language_info": {
   "codemirror_mode": {
    "name": "ipython",
    "version": 3
   },
   "file_extension": ".py",
   "mimetype": "text/x-python",
   "name": "python",
   "nbconvert_exporter": "python",
   "pygments_lexer": "ipython3",
   "version": "3.7.5"
  }
 },
 "nbformat": 4,
 "nbformat_minor": 4
}
