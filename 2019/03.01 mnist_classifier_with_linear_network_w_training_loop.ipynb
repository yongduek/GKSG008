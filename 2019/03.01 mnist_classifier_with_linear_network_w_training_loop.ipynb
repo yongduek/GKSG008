{
 "cells": [
  {
   "cell_type": "markdown",
   "metadata": {},
   "source": [
    "# MNIST classification\n",
    "\n",
    "- https://en.wikipedia.org/wiki/MNIST_database\n",
    "\n",
    "1. Naive-Bayes Classifier\n",
    "    - skip. Less interesting. Maybe later.\n",
    "2. Neural Netowrk\n",
    "    - mini-batch"
   ]
  },
  {
   "cell_type": "code",
   "execution_count": 22,
   "metadata": {},
   "outputs": [
    {
     "name": "stdout",
     "output_type": "stream",
     "text": [
      "numpy:  1.16.6\n",
      "sklearn:  0.22.2.post1\n"
     ]
    }
   ],
   "source": [
    "import numpy as np\n",
    "import torch\n",
    "import torch.nn as nn\n",
    "import torchvision.datasets\n",
    "import torchvision.transforms as transforms\n",
    "import matplotlib.pyplot as plt\n",
    "import sklearn\n",
    "\n",
    "print('numpy: ', np.__version__)\n",
    "print('sklearn: ', sklearn.__version__)"
   ]
  },
  {
   "cell_type": "markdown",
   "metadata": {},
   "source": [
    "## Dataset can be obtained directly from `torchvision`"
   ]
  },
  {
   "cell_type": "code",
   "execution_count": 23,
   "metadata": {},
   "outputs": [
    {
     "data": {
      "text/plain": [
       "(60000, 10000)"
      ]
     },
     "execution_count": 23,
     "metadata": {},
     "output_type": "execute_result"
    }
   ],
   "source": [
    "mnist_train = torchvision.datasets.MNIST(root='../data', train=True, download=True)\n",
    "mnist_test = torchvision.datasets.MNIST(root='../data', train=False, download=True)\n",
    "\n",
    "len(mnist_train), len(mnist_test)"
   ]
  },
  {
   "cell_type": "markdown",
   "metadata": {},
   "source": [
    "### Returned are PIL Image and target label"
   ]
  },
  {
   "cell_type": "code",
   "execution_count": 24,
   "metadata": {},
   "outputs": [
    {
     "name": "stdout",
     "output_type": "stream",
     "text": [
      "<PIL.Image.Image image mode=L size=28x28 at 0x13E38CF5288> 5\n"
     ]
    },
    {
     "data": {
      "image/png": "[encoded data removed]",
      "text/plain": [
       "<Figure size 432x288 with 1 Axes>"
      ]
     },
     "metadata": {
      "needs_background": "light"
     },
     "output_type": "display_data"
    }
   ],
   "source": [
    "im, label = mnist_train[0]\n",
    "plt.imshow(im, cmap='gray')\n",
    "print(im, label)"
   ]
  },
  {
   "cell_type": "markdown",
   "metadata": {},
   "source": [
    "### Convert to Tensor and A Custom torchvision.transformation for Binarization"
   ]
  },
  {
   "cell_type": "code",
   "execution_count": 25,
   "metadata": {},
   "outputs": [],
   "source": [
    "class MyBinarization:\n",
    "    \"\"\" convert a gray scale tensor [0, 1] to binary tensor of {0., 1.}\"\"\"\n",
    "    def __init__(self, threshold=0.5):\n",
    "        self.threshold=threshold\n",
    "        \n",
    "    def __call__(self, im):\n",
    "        bright = im > self.threshold\n",
    "        im[bright] = 1.\n",
    "        im[~bright] = 0.\n",
    "        return im\n",
    "\n",
    "data_transform = torchvision.transforms.Compose([#transforms.Grayscale(), \n",
    "                                     torchvision.transforms.ToTensor(),\n",
    "                                     torchvision.transforms.Lambda(lambda im: (im>0.5).float()), # another way to do binarizaiton\n",
    "                                     #MyBinarization() ,\n",
    "                                     torchvision.transforms.Lambda(lambda im: im.reshape(-1)) # \n",
    "                                    ])\n",
    "\n",
    "mnist_train = torchvision.datasets.MNIST(root='./data', train=True, download=True, transform=data_transform)\n",
    "mnist_test  = torchvision.datasets.MNIST(root='./data', train=False, download=True, transform=data_transform)"
   ]
  },
  {
   "cell_type": "code",
   "execution_count": 26,
   "metadata": {},
   "outputs": [
    {
     "data": {
      "text/plain": [
       "(torch.Size([784]), torch.float32, 5, array([0., 1.], dtype=float32), int, 784)"
      ]
     },
     "execution_count": 26,
     "metadata": {},
     "output_type": "execute_result"
    },
    {
     "data": {
      "image/png": "[encoded data removed]",
      "text/plain": [
       "<Figure size 432x288 with 1 Axes>"
      ]
     },
     "metadata": {
      "needs_background": "light"
     },
     "output_type": "display_data"
    }
   ],
   "source": [
    "im, label = mnist_train[0]\n",
    "plt.imshow(im.reshape(28,28), cmap='gray')\n",
    "im.shape, im.dtype, label, np.unique(im), type(label), 28*28"
   ]
  },
  {
   "cell_type": "markdown",
   "metadata": {},
   "source": [
    "## Bernoulli Naive Bayes\n",
    "- https://github.com/dsgiitr/d2l-pytorch/blob/master/Ch04_The_Preliminaries_A_Crashcourse/Naive_Bayes_Classification.ipynb"
   ]
  },
  {
   "cell_type": "code",
   "execution_count": 27,
   "metadata": {},
   "outputs": [],
   "source": [
    "xcount = torch.ones((im.reshape(-1).shape[0],10)).float()\n",
    "ycount = torch.ones((10))\n",
    "\n",
    "for im, label in mnist_train:\n",
    "    xcount[:,label] += im.reshape(-1)\n",
    "    ycount[label] += 1\n",
    "#"
   ]
  },
  {
   "cell_type": "code",
   "execution_count": 28,
   "metadata": {},
   "outputs": [],
   "source": [
    "py = ycount / ycount.sum()\n",
    "px = xcount / ycount.unsqueeze(0) # each row is divided by ycount"
   ]
  },
  {
   "cell_type": "markdown",
   "metadata": {},
   "source": [
    "- For example, px[300,:] shows the Bernoulli probability at the location 300 for the class labels.\n",
    "- px[300,**k**] is the probability of being a bright pixel at the location 300 provided the class is **k**"
   ]
  },
  {
   "cell_type": "code",
   "execution_count": 29,
   "metadata": {},
   "outputs": [
    {
     "data": {
      "text/plain": [
       "tensor([0.6437, 0.0114, 0.3167, 0.1797, 0.3377, 0.1046, 0.0781, 0.4349, 0.4508,\n",
       "        0.3057])"
      ]
     },
     "execution_count": 29,
     "metadata": {},
     "output_type": "execute_result"
    }
   ],
   "source": [
    "px[300,:]"
   ]
  },
  {
   "cell_type": "code",
   "execution_count": 30,
   "metadata": {},
   "outputs": [
    {
     "name": "stdout",
     "output_type": "stream",
     "text": [
      "Class Conditional Probabilities: \n"
     ]
    },
    {
     "data": {
      "image/png": "[encoded data removed]",
      "text/plain": [
       "<Figure size 1080x720 with 10 Axes>"
      ]
     },
     "metadata": {
      "needs_background": "light"
     },
     "output_type": "display_data"
    },
    {
     "name": "stdout",
     "output_type": "stream",
     "text": [
      "Class Prior Probabilities:\n",
      "  tensor([0.0987, 0.1124, 0.0993, 0.1022, 0.0974, 0.0904, 0.0986, 0.1044, 0.0975,\n",
      "        0.0992])\n"
     ]
    }
   ],
   "source": [
    "fig, axes = plt.subplots(1,10, figsize=(15,10))\n",
    "print('Class Conditional Probabilities: ')\n",
    "for i in range(10):\n",
    "    axes[i].imshow(px[:,i].reshape(28,28).numpy(), cmap='hot')\n",
    "    axes[i].axes.get_xaxis().set_visible(False)\n",
    "    axes[i].axes.get_yaxis().set_visible(False)\n",
    "plt.show()\n",
    "print('Class Prior Probabilities:\\n ', py)"
   ]
  },
  {
   "cell_type": "markdown",
   "metadata": {},
   "source": [
    "* Notice that the images are well aligned within classes."
   ]
  },
  {
   "cell_type": "code",
   "execution_count": 31,
   "metadata": {},
   "outputs": [
    {
     "data": {
      "text/plain": [
       "(array([0, 1, 2, 3, 4, 5, 6, 7, 8, 9], dtype=int64),\n",
       " array([5923, 6742, 5958, 6131, 5842, 5421, 5918, 6265, 5851, 5949],\n",
       "       dtype=int64))"
      ]
     },
     "execution_count": 31,
     "metadata": {},
     "output_type": "execute_result"
    }
   ],
   "source": [
    "np.unique(mnist_train.targets, return_counts=True)"
   ]
  },
  {
   "cell_type": "markdown",
   "metadata": {},
   "source": [
    "## PyTorch Neural Network"
   ]
  },
  {
   "cell_type": "code",
   "execution_count": 32,
   "metadata": {},
   "outputs": [
    {
     "name": "stdout",
     "output_type": "stream",
     "text": [
      "cuda:0\n"
     ]
    }
   ],
   "source": [
    "import matplotlib.pyplot as plt\n",
    "%matplotlib inline\n",
    "import numpy as np\n",
    "\n",
    "import torch\n",
    "import torch.utils\n",
    "import torch.nn as nn\n",
    "import torch.optim\n",
    "import torchvision\n",
    "\n",
    "device = torch.device(\"cuda:0\" if torch.cuda.is_available() else \"cpu\")\n",
    "#device = torch.device('cpu')\n",
    "print (device)"
   ]
  },
  {
   "cell_type": "markdown",
   "metadata": {},
   "source": [
    "## Data Preparation"
   ]
  },
  {
   "cell_type": "code",
   "execution_count": 33,
   "metadata": {},
   "outputs": [],
   "source": [
    "data_transform = torchvision.transforms.Compose([#transforms.Grayscale(), \n",
    "                                     torchvision.transforms.ToTensor(),\n",
    "                                     torchvision.transforms.Lambda(lambda im: im.reshape(-1))\n",
    "                                    ])\n",
    "\n",
    "mnist_train = torchvision.datasets.MNIST(root='./data', train=True, download=True, transform=data_transform)\n",
    "mnist_test  = torchvision.datasets.MNIST(root='./data', train=False, download=True, transform=data_transform)\n",
    "\n",
    "batch_size=4\n",
    "data_loader_train = torch.utils.data.DataLoader(mnist_train, batch_size=batch_size, shuffle=True)\n",
    "data_loader_test = torch.utils.data.DataLoader(mnist_test, batch_size=batch_size, shuffle=False)"
   ]
  },
  {
   "cell_type": "code",
   "execution_count": 34,
   "metadata": {},
   "outputs": [
    {
     "name": "stdout",
     "output_type": "stream",
     "text": [
      "torch.Size([784]) 5\n"
     ]
    },
    {
     "data": {
      "image/png": "[encoded data removed]",
      "text/plain": [
       "<Figure size 432x288 with 1 Axes>"
      ]
     },
     "metadata": {
      "needs_background": "light"
     },
     "output_type": "display_data"
    }
   ],
   "source": [
    "# Explore\n",
    "im, label = mnist_train[0]\n",
    "\n",
    "print(im.shape, label)\n",
    "plt.imshow(im.reshape(28,28), cmap='gray')\n",
    "plt.title(f'label: {label} {im.shape}');"
   ]
  },
  {
   "cell_type": "code",
   "execution_count": 35,
   "metadata": {},
   "outputs": [
    {
     "name": "stdout",
     "output_type": "stream",
     "text": [
      "torch.Size([4, 784])\n"
     ]
    },
    {
     "data": {
      "image/png": "[encoded data removed]",
      "text/plain": [
       "<Figure size 1008x576 with 4 Axes>"
      ]
     },
     "metadata": {
      "needs_background": "light"
     },
     "output_type": "display_data"
    }
   ],
   "source": [
    "for batch_im, batch_label in data_loader_train:\n",
    "    print(batch_im.shape)\n",
    "    fig, axes = plt.subplots(1,batch_im.shape[0], figsize=(14,8))\n",
    "    for i in range(batch_im.shape[0]):\n",
    "        axes[i].imshow(batch_im[i].reshape(28,28), cmap='gray')\n",
    "        axes[i].set_title(f'label: {batch_label[i]}')\n",
    "    break"
   ]
  },
  {
   "cell_type": "markdown",
   "metadata": {},
   "source": [
    "### Network Design"
   ]
  },
  {
   "cell_type": "code",
   "execution_count": 36,
   "metadata": {},
   "outputs": [],
   "source": [
    "# Two hidden layer network\n",
    "\n",
    "def myNetwork(in_features, n_targget):\n",
    "    net = nn.Sequential(\n",
    "        nn.Linear(in_features=in_features, out_features=in_features//2),\n",
    "        nn.Tanh(),\n",
    "        nn.Linear(in_features=in_features//2, out_features=n_target),\n",
    "        nn.LogSoftmax(dim=1)\n",
    "        )\n",
    "    return net\n",
    "#"
   ]
  },
  {
   "cell_type": "markdown",
   "metadata": {},
   "source": [
    "### Revise the action of `LogSoftMax()`"
   ]
  },
  {
   "cell_type": "code",
   "execution_count": 37,
   "metadata": {},
   "outputs": [
    {
     "name": "stdout",
     "output_type": "stream",
     "text": [
      "Score Batch:\n",
      " tensor([[ 0.8889,  1.8206, -1.5456, -0.6461,  0.0881,  0.4228,  0.8802, -0.6870,\n",
      "          0.3651, -0.4397],\n",
      "        [-0.6397,  0.4914,  0.0140, -0.9648, -0.7519,  1.3740,  0.0263, -0.3489,\n",
      "         -0.4878, -0.9831],\n",
      "        [-0.6362,  0.3756,  0.6294,  0.3652,  0.4578,  0.9976, -0.3791,  0.1697,\n",
      "          0.6425,  0.3169],\n",
      "        [ 0.2714, -1.0590, -0.5096,  0.6449, -0.5089,  0.4441, -1.1427,  0.1341,\n",
      "          0.7520, -0.8146]])\n",
      "LogSoftMax:\n",
      " tensor([[-1.9422, -1.0104, -4.3766, -3.4771, -2.7429, -2.4082, -1.9508, -3.5180,\n",
      "         -2.4659, -3.2707],\n",
      "        [-3.0100, -1.8788, -2.3563, -3.3351, -3.1222, -0.9962, -2.3439, -2.7191,\n",
      "         -2.8580, -3.3533],\n",
      "        [-3.3267, -2.3149, -2.0611, -2.3252, -2.2327, -1.6928, -3.0695, -2.5207,\n",
      "         -2.0480, -2.3735],\n",
      "        [-2.0658, -3.3962, -2.8468, -1.6923, -2.8461, -1.8931, -3.4799, -2.2031,\n",
      "         -1.5851, -3.1518]])\n",
      "SoftMax:\n",
      " tensor([[0.1434, 0.3641, 0.0126, 0.0309, 0.0644, 0.0900, 0.1422, 0.0297, 0.0849,\n",
      "         0.0380],\n",
      "        [0.0493, 0.1528, 0.0948, 0.0356, 0.0441, 0.3693, 0.0959, 0.0659, 0.0574,\n",
      "         0.0350],\n",
      "        [0.0359, 0.0988, 0.1273, 0.0978, 0.1072, 0.1840, 0.0464, 0.0804, 0.1290,\n",
      "         0.0931],\n",
      "        [0.1267, 0.0335, 0.0580, 0.1841, 0.0581, 0.1506, 0.0308, 0.1105, 0.2049,\n",
      "         0.0428]])\n",
      "argmax(dim=1):\n",
      " tensor([1, 5, 5, 8])\n"
     ]
    }
   ],
   "source": [
    "logsoftmax = nn.LogSoftmax(dim=1)\n",
    "score_batch = torch.randn((4,10))\n",
    "lsm = logsoftmax(score_batch) # log softmax along the dimension\n",
    "print('Score Batch:\\n', score_batch)\n",
    "print('LogSoftMax:\\n', lsm)\n",
    "print('SoftMax:\\n', torch.exp(lsm))\n",
    "print('argmax(dim=1):\\n', torch.argmax(lsm, dim=1))"
   ]
  },
  {
   "cell_type": "markdown",
   "metadata": {},
   "source": [
    "### Sanity Check with Dataset"
   ]
  },
  {
   "cell_type": "code",
   "execution_count": 38,
   "metadata": {},
   "outputs": [
    {
     "data": {
      "text/plain": [
       "(Sequential(\n",
       "   (0): Linear(in_features=784, out_features=392, bias=True)\n",
       "   (1): Tanh()\n",
       "   (2): Linear(in_features=392, out_features=10, bias=True)\n",
       "   (3): LogSoftmax()\n",
       " ), True)"
      ]
     },
     "execution_count": 38,
     "metadata": {},
     "output_type": "execute_result"
    }
   ],
   "source": [
    "in_features = 28*28\n",
    "n_target = 10\n",
    "\n",
    "model = myNetwork(in_features, n_target).to(device)\n",
    "model, next(model.parameters()).is_cuda"
   ]
  },
  {
   "cell_type": "code",
   "execution_count": 39,
   "metadata": {},
   "outputs": [
    {
     "name": "stdout",
     "output_type": "stream",
     "text": [
      "0 ------------------------------------\n",
      "torch.Size([1, 784])\n",
      "log_P(y|x):  tensor([[-2.4409, -2.2903, -2.3786, -2.2030, -2.3591, -2.3548, -2.3417, -2.2459,\n",
      "         -2.2707, -2.1726]], device='cuda:0')\n",
      "P(y|x):  tensor([[0.0871, 0.1012, 0.0927, 0.1105, 0.0945, 0.0949, 0.0962, 0.1058, 0.1032,\n",
      "         0.1139]], device='cuda:0')\n",
      "argmax:  9\n",
      "1 ------------------------------------\n",
      "torch.Size([1, 784])\n",
      "log_P(y|x):  tensor([[-2.2650, -2.4432, -2.5211, -2.1512, -2.1836, -2.2807, -2.3945, -2.4438,\n",
      "         -2.2238, -2.1939]], device='cuda:0')\n",
      "P(y|x):  tensor([[0.1038, 0.0869, 0.0804, 0.1163, 0.1126, 0.1022, 0.0912, 0.0868, 0.1082,\n",
      "         0.1115]], device='cuda:0')\n",
      "argmax:  3\n",
      "2 ------------------------------------\n",
      "torch.Size([1, 784])\n",
      "log_P(y|x):  tensor([[-2.2762, -2.3133, -2.2713, -2.4366, -2.2337, -2.4687, -2.2780, -2.1659,\n",
      "         -2.3578, -2.2619]], device='cuda:0')\n",
      "P(y|x):  tensor([[0.1027, 0.0989, 0.1032, 0.0875, 0.1071, 0.0847, 0.1025, 0.1146, 0.0946,\n",
      "         0.1042]], device='cuda:0')\n",
      "argmax:  7\n",
      "3 ------------------------------------\n",
      "torch.Size([1, 784])\n",
      "log_P(y|x):  tensor([[-2.4053, -2.2303, -2.3138, -2.2538, -2.2616, -2.3305, -2.4681, -2.1998,\n",
      "         -2.2887, -2.3028]], device='cuda:0')\n",
      "P(y|x):  tensor([[0.0902, 0.1075, 0.0989, 0.1050, 0.1042, 0.0972, 0.0847, 0.1108, 0.1014,\n",
      "         0.1000]], device='cuda:0')\n",
      "argmax:  7\n"
     ]
    }
   ],
   "source": [
    "# net working test\n",
    "with torch.no_grad():\n",
    "    for i in range(4):\n",
    "        print(i, '------------------------------------')\n",
    "        im_tensor, label = mnist_train[i]\n",
    "        print(im_tensor.unsqueeze(0).shape)\n",
    "        yp = model(im_tensor.unsqueeze(0).to(device)) # [Batch, data_features]\n",
    "        pred = torch.argmax(yp, dim=1)\n",
    "        print('log_P(y|x): ', yp)\n",
    "        print('P(y|x): ', torch.exp(yp))\n",
    "        print('argmax: ', pred.item())"
   ]
  },
  {
   "cell_type": "markdown",
   "metadata": {},
   "source": [
    "### Sanity Check with data_loader"
   ]
  },
  {
   "cell_type": "code",
   "execution_count": 40,
   "metadata": {},
   "outputs": [
    {
     "name": "stdout",
     "output_type": "stream",
     "text": [
      "torch.Size([4, 784]) torch.float32 torch.Size([4])\n",
      "log_P(y|x):\n",
      " tensor([[-2.4069, -2.1494, -2.3790, -2.3367, -2.2031, -2.2688, -2.3906, -2.3379,\n",
      "         -2.3212, -2.2643],\n",
      "        [-2.4554, -2.2421, -2.3067, -2.2948, -2.2741, -2.3709, -2.3407, -2.3046,\n",
      "         -2.2854, -2.1760],\n",
      "        [-2.2570, -2.3164, -2.4937, -2.1927, -2.2483, -2.3524, -2.3553, -2.2832,\n",
      "         -2.2161, -2.3443],\n",
      "        [-2.3601, -2.2152, -2.4754, -2.3249, -2.2697, -2.3144, -2.3267, -2.2326,\n",
      "         -2.3732, -2.1689]], device='cuda:0')\n",
      "P(y|x):  tensor([[0.0901, 0.1166, 0.0926, 0.0966, 0.1105, 0.1034, 0.0916, 0.0965, 0.0982,\n",
      "         0.1039],\n",
      "        [0.0858, 0.1062, 0.0996, 0.1008, 0.1029, 0.0934, 0.0963, 0.0998, 0.1017,\n",
      "         0.1135],\n",
      "        [0.1047, 0.0986, 0.0826, 0.1116, 0.1056, 0.0951, 0.0949, 0.1020, 0.1090,\n",
      "         0.0959],\n",
      "        [0.0944, 0.1091, 0.0841, 0.0978, 0.1033, 0.0988, 0.0976, 0.1073, 0.0932,\n",
      "         0.1143]], device='cuda:0')\n",
      "argmax:  tensor([1, 9, 3, 9], device='cuda:0')\n"
     ]
    }
   ],
   "source": [
    "with torch.no_grad():\n",
    "    for im_batch, label_batch in data_loader_train:\n",
    "        im_batch, label_batch = im_batch.to(device), label_batch.to(device)\n",
    "        print(im_batch.shape, im_batch.dtype, label_batch.shape)\n",
    "        yp = model(im_batch) # [Batch, data_features]\n",
    "        pred = torch.argmax(yp, dim=1)\n",
    "        print('log_P(y|x):\\n', yp)\n",
    "        print ('P(y|x): ', torch.exp(yp))\n",
    "        print('argmax: ', pred)\n",
    "        break"
   ]
  },
  {
   "cell_type": "markdown",
   "metadata": {},
   "source": [
    "### Training Loop"
   ]
  },
  {
   "cell_type": "code",
   "execution_count": 41,
   "metadata": {},
   "outputs": [],
   "source": [
    "from training_loop import training_loop, performance, plot_history"
   ]
  },
  {
   "cell_type": "markdown",
   "metadata": {},
   "source": [
    "### Increase batch_size"
   ]
  },
  {
   "cell_type": "code",
   "execution_count": 42,
   "metadata": {},
   "outputs": [],
   "source": [
    "batch_size=128\n",
    "data_loader_train = torch.utils.data.DataLoader(mnist_train, batch_size=batch_size, shuffle=True)\n",
    "data_loader_test = torch.utils.data.DataLoader(mnist_test, batch_size=batch_size, shuffle=False)"
   ]
  },
  {
   "cell_type": "markdown",
   "metadata": {},
   "source": [
    "### optimizer & loss_function"
   ]
  },
  {
   "cell_type": "code",
   "execution_count": 43,
   "metadata": {},
   "outputs": [],
   "source": [
    "model = myNetwork(in_features, n_target).to(device)\n",
    "\n",
    "optimizer = torch.optim.SGD(model.parameters(), lr=1e-2)\n",
    "loss_fn = nn.NLLLoss().to(device)"
   ]
  },
  {
   "cell_type": "code",
   "execution_count": 45,
   "metadata": {},
   "outputs": [
    {
     "name": "stdout",
     "output_type": "stream",
     "text": [
      "Epoch 1, tloss 1.42 t_acc: 0.73  vloss 0.83  v_acc: 0.84\n",
      "Epoch 2, tloss 0.68 t_acc: 0.85  vloss 0.54  v_acc: 0.87\n",
      "Epoch 3, tloss 0.51 t_acc: 0.87  vloss 0.45  v_acc: 0.89\n",
      "Epoch 4, tloss 0.44 t_acc: 0.88  vloss 0.40  v_acc: 0.89\n",
      "Epoch 5, tloss 0.41 t_acc: 0.89  vloss 0.37  v_acc: 0.90\n",
      "Epoch 10, tloss 0.33 t_acc: 0.91  vloss 0.32  v_acc: 0.91\n",
      "finished training_loop().ated at epoch 10: 0.9127.\n"
     ]
    }
   ],
   "source": [
    "history = training_loop(n_epochs=10,\n",
    "                        optim=optimizer,\n",
    "                        model=model,\n",
    "                        loss_fn=loss_fn, \n",
    "                        dl_train=data_loader_train,\n",
    "                        dl_val = data_loader_test,\n",
    "                        device=device\n",
    "                        )"
   ]
  },
  {
   "cell_type": "code",
   "execution_count": 46,
   "metadata": {},
   "outputs": [
    {
     "data": {
      "image/png": "[encoded data removed]",
      "text/plain": [
       "<Figure size 432x288 with 1 Axes>"
      ]
     },
     "metadata": {
      "needs_background": "light"
     },
     "output_type": "display_data"
    }
   ],
   "source": [
    "plt.plot(history['tloss'], label='train loss')\n",
    "plt.plot(history['vloss'], label='val loss')\n",
    "plt.legend();"
   ]
  },
  {
   "cell_type": "code",
   "execution_count": 48,
   "metadata": {},
   "outputs": [
    {
     "data": {
      "image/png": "[encoded data removed]",
      "text/plain": [
       "<Figure size 432x288 with 1 Axes>"
      ]
     },
     "metadata": {
      "needs_background": "light"
     },
     "output_type": "display_data"
    }
   ],
   "source": [
    "vmax = max(history['vacc'])\n",
    "plt.title(f'Accuracy Evolution: val. max = {vmax}')\n",
    "plt.plot(history['tacc'], label='train accuracy')\n",
    "plt.plot(history['vacc'], label='val accuracy')\n",
    "plt.legend();"
   ]
  },
  {
   "cell_type": "markdown",
   "metadata": {},
   "source": [
    "### Do some more training"
   ]
  },
  {
   "cell_type": "code",
   "execution_count": 50,
   "metadata": {},
   "outputs": [
    {
     "name": "stdout",
     "output_type": "stream",
     "text": [
      "Epoch 1, tloss 0.33 t_acc: 0.91  vloss 0.31  v_acc: 0.91\n",
      "Epoch 2, tloss 0.32 t_acc: 0.91  vloss 0.31  v_acc: 0.92\n",
      "Epoch 3, tloss 0.32 t_acc: 0.91  vloss 0.30  v_acc: 0.92\n",
      "Epoch 4, tloss 0.31 t_acc: 0.91  vloss 0.30  v_acc: 0.92\n",
      "Epoch 5, tloss 0.31 t_acc: 0.91  vloss 0.29  v_acc: 0.92\n",
      "Epoch 50, tloss 0.20 t_acc: 0.94  vloss 0.21  v_acc: 0.94\n",
      "finished training_loop().ated at epoch 50: 0.9412.\n"
     ]
    }
   ],
   "source": [
    "history = training_loop(n_epochs=50,\n",
    "                        optim=optimizer,\n",
    "                        model=model,\n",
    "                        loss_fn=loss_fn, \n",
    "                        dl_train=data_loader_train,\n",
    "                        dl_val = data_loader_test,\n",
    "                        hist=history,\n",
    "                        device=device)"
   ]
  },
  {
   "cell_type": "code",
   "execution_count": 51,
   "metadata": {},
   "outputs": [],
   "source": [
    "def plot_history(history):\n",
    "    fig, axes = plt.subplots(1,2, figsize=(16,6))\n",
    "    axes[0].set_title('Loss'); \n",
    "    axes[0].plot(history['tloss'], label='train'); axes[0].plot(history['vloss'], label='val')\n",
    "    axes[0].legend()\n",
    "    axes[1].set_title('Acc: vmax = '+str(max(history['vacc'])))\n",
    "    axes[1].plot(history['tacc'], label='train'); axes[1].plot(history['vacc'], label='val')\n",
    "    axes[1].legend()"
   ]
  },
  {
   "cell_type": "code",
   "execution_count": 52,
   "metadata": {},
   "outputs": [
    {
     "data": {
      "image/png": "[encoded data removed]",
      "text/plain": [
       "<Figure size 1152x432 with 2 Axes>"
      ]
     },
     "metadata": {
      "needs_background": "light"
     },
     "output_type": "display_data"
    }
   ],
   "source": [
    "plot_history(history)"
   ]
  },
  {
   "cell_type": "code",
   "execution_count": 29,
   "metadata": {},
   "outputs": [
    {
     "name": "stdout",
     "output_type": "stream",
     "text": [
      "Epoch 1, tloss 0.20 t_acc: 0.94  vloss 0.20  v_acc: 0.95\n",
      "Epoch 2, tloss 0.20 t_acc: 0.95  vloss 0.20  v_acc: 0.94\n",
      "Epoch 3, tloss 0.19 t_acc: 0.95  vloss 0.19  v_acc: 0.94\n",
      "Epoch 4, tloss 0.19 t_acc: 0.95  vloss 0.19  v_acc: 0.95\n",
      "Epoch 5, tloss 0.19 t_acc: 0.95  vloss 0.19  v_acc: 0.95\n",
      "Epoch 250, tloss 0.05 t_acc: 0.99  vloss 0.08  v_acc: 0.98\n",
      "finished training_loop().\n"
     ]
    },
    {
     "data": {
      "image/png": "[encoded data removed]",
      "text/plain": [
       "<Figure size 1152x432 with 2 Axes>"
      ]
     },
     "metadata": {
      "needs_background": "light"
     },
     "output_type": "display_data"
    }
   ],
   "source": [
    "history = training_loop(n_epochs=250,\n",
    "                        optim=optimizer,\n",
    "                        model=model,\n",
    "                        loss_fn=loss_fn, \n",
    "                        dl_train=data_loader_train,\n",
    "                        dl_val = data_loader_test,\n",
    "                        hist=history)\n",
    "plot_history(history)"
   ]
  },
  {
   "cell_type": "markdown",
   "metadata": {},
   "source": [
    "### Practicums\n",
    "- Modify batch_size to examine the behavior of the training loop.\n",
    "- Try other values of learning_rate\n",
    "- Try Adam\n",
    "    - what is Adam by the way?"
   ]
  },
  {
   "cell_type": "code",
   "execution_count": null,
   "metadata": {},
   "outputs": [],
   "source": []
  }
 ],
 "metadata": {
  "kernelspec": {
   "display_name": "Python 3",
   "language": "python",
   "name": "python3"
  },
  "language_info": {
   "codemirror_mode": {
    "name": "ipython",
    "version": 3
   },
   "file_extension": ".py",
   "mimetype": "text/x-python",
   "name": "python",
   "nbconvert_exporter": "python",
   "pygments_lexer": "ipython3",
   "version": "3.7.5"
  }
 },
 "nbformat": 4,
 "nbformat_minor": 4
}
